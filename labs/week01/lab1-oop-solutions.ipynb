{
 "cells": [
  {
   "cell_type": "markdown",
   "id": "896f8b16-fdcd-429e-a45d-5ac28890585a",
   "metadata": {
    "id": "896f8b16-fdcd-429e-a45d-5ac28890585a"
   },
   "source": [
    "# CS2132 Lab 1 - OOP\n",
    "#### Friday January 24th"
   ]
  },
  {
   "cell_type": "markdown",
   "id": "fbd27591-f4a7-4a57-bf10-019ab110c3f1",
   "metadata": {
    "id": "fbd27591-f4a7-4a57-bf10-019ab110c3f1"
   },
   "source": [
    "## Part A: Creating the Person class\n",
    "\n",
    "1. Fill in the `__init__()` method inside the Person class. It should take 3 parameters: first_name (string), last_name (string), birthday (datetime.date), and store each of these in attributes of the Person class.\n",
    "2. Fill in the `calculate_age()` method, that should return the person's age as an integer\n",
    "3. Write a `print_info()` method that prints out the information about the person. It should include their first and last name, as well as their age (using `calculate_age()`). Tip: have a look at how `print_greeting()` was implemented to help you!\n",
    "\n",
    "> REMINDER: To create a date object, use the `datetime` module (already imported for you). Usage: `my_date = date(year, month, day)`. For example January 21st 2025 would be `date(2025, 1, 21)`.\n",
    "> Date objects have the following attributes which could be useful: `.year` `.month` `.day`. These are all integers. How can you use them to obtain a person's age?"
   ]
  },
  {
   "cell_type": "code",
   "execution_count": 34,
   "id": "0136d63e-7763-4830-abfc-c703c2b90230",
   "metadata": {
    "id": "0136d63e-7763-4830-abfc-c703c2b90230"
   },
   "outputs": [],
   "source": [
    "from datetime import date\n",
    "\n",
    "class Person:\n",
    "    def __init__(self, first_name, last_name, birthday):\n",
    "        self.first_name = first_name\n",
    "        self.last_name = last_name\n",
    "        self.birthday = birthday\n",
    "\n",
    "    def calculate_age(self):\n",
    "        today = date.today()\n",
    "        age = today.year - self.birthday.year\n",
    "\n",
    "        if today < date(today.year, self.birthday.month, self.birthday.day): age -= 1\n",
    "\n",
    "        return age\n",
    "\n",
    "    def print_greeting(self):\n",
    "        print(f\"Hi! My name is {self.first_name} {self.last_name}!\")\n",
    "\n",
    "    def get_info(self):\n",
    "        print (\n",
    "            f\"{self.first_name} {self.last_name} is {self.calculate_age()} years old!\"\n",
    "        )"
   ]
  },
  {
   "cell_type": "markdown",
   "id": "2afc2298-2a80-4799-9dd3-bb41e9808d3f",
   "metadata": {
    "id": "2afc2298-2a80-4799-9dd3-bb41e9808d3f"
   },
   "source": [
    "4. To verify your Person class works properly, instantiate a Person object for yourself. Make sure to print your greeting and info."
   ]
  },
  {
   "cell_type": "code",
   "execution_count": 36,
   "id": "9e992815-6175-4474-9b5e-e33a9f6751f2",
   "metadata": {
    "id": "9e992815-6175-4474-9b5e-e33a9f6751f2"
   },
   "outputs": [
    {
     "name": "stdout",
     "output_type": "stream",
     "text": [
      "Hi! My name is Alex Johnson!\n",
      "Alex Johnson is 20 years old!\n"
     ]
    }
   ],
   "source": [
    "some_guy = Person(\"Alex\", \"Johnson\", date(2004, 4, 7))\n",
    "some_guy.print_greeting()\n",
    "some_guy.get_info()"
   ]
  },
  {
   "cell_type": "markdown",
   "id": "479b3446-9bb7-4892-b775-de57016ac862",
   "metadata": {
    "id": "479b3446-9bb7-4892-b775-de57016ac862"
   },
   "source": [
    "## Part B: The Student class\n",
    "\n",
    "The Student class was already implemented for you. Make sure you understand the code."
   ]
  },
  {
   "cell_type": "code",
   "execution_count": 38,
   "id": "fa6a33a9-bfea-4991-a32f-a7a69146f4b8",
   "metadata": {
    "id": "fa6a33a9-bfea-4991-a32f-a7a69146f4b8"
   },
   "outputs": [],
   "source": [
    "class Student(Person):\n",
    "\n",
    "    def __init__(self, first_name, last_name, birthday, gpa):\n",
    "        super().__init__(first_name, last_name, birthday)\n",
    "        self.gpa = gpa\n",
    "\n",
    "    def print_info(self):\n",
    "        print (\n",
    "            f\"{self.first_name} {self.last_name} is a student with a {self.gpa} gpa!\"\n",
    "        )\n",
    "\n",
    "    def study(self, hours):\n",
    "        print(f\"I am going to study for {hours} hours!\")"
   ]
  },
  {
   "cell_type": "markdown",
   "id": "bae1829c-719f-4bbf-bc65-0a4a96c636ef",
   "metadata": {
    "id": "bae1829c-719f-4bbf-bc65-0a4a96c636ef"
   },
   "source": [
    "Imagine we created a Student object `darien` for your amazing TA Darien Moment (born October 18th 2003). What would the following code print? Verify your answers by executing the cell below."
   ]
  },
  {
   "cell_type": "code",
   "execution_count": 40,
   "id": "7867ce5d-6f4a-4cee-9069-354b13b83f43",
   "metadata": {
    "id": "7867ce5d-6f4a-4cee-9069-354b13b83f43"
   },
   "outputs": [
    {
     "name": "stdout",
     "output_type": "stream",
     "text": [
      "Hi! My name is Darien Moment!\n",
      "Darien Moment is a student with a 4.2 gpa!\n",
      "I am going to study for 10 hours!\n"
     ]
    }
   ],
   "source": [
    "darien = Student(\"Darien\", \"Moment\", date(2003, 10, 18), 4.2)\n",
    "darien.print_greeting()\n",
    "darien.print_info()\n",
    "darien.study(10)"
   ]
  },
  {
   "cell_type": "markdown",
   "id": "905e98fd-36f1-4dce-82d9-cf76cf08f95b",
   "metadata": {
    "id": "905e98fd-36f1-4dce-82d9-cf76cf08f95b"
   },
   "source": [
    "## Part C: The Professor class\n",
    "\n",
    "In the likes of the Student class, create a professor class (as a child class of Person). Instead of a GPA, the professor class will store a rating attribute (out of 5) as a float. Make sure to update `print_info()` so that it displays the professor's rating. Also implement a method called `grade()` which takes a `num_of_assigments` integer parameter and prints a funny message of your choosing."
   ]
  },
  {
   "cell_type": "code",
   "execution_count": 42,
   "id": "1e92137d-b8da-4c6a-bf35-9fc2fa5afb6a",
   "metadata": {
    "id": "1e92137d-b8da-4c6a-bf35-9fc2fa5afb6a"
   },
   "outputs": [],
   "source": [
    "class Professor(Person):\n",
    "\n",
    "    def __init__(self, first_name, last_name, birthday, rating):\n",
    "        super().__init__(first_name, last_name, birthday)\n",
    "        self.rating = rating\n",
    "\n",
    "    def print_info(self):\n",
    "        print (\n",
    "            f\"{self.first_name} {self.last_name} is a professor with a {self.rating} CULPA rating!\"\n",
    "        )\n",
    "    \n",
    "    def grade(self, num_of_assigments):\n",
    "        print(f\"I am going to grade {num_of_assigments} assignments!\")"
   ]
  },
  {
   "cell_type": "markdown",
   "id": "1109974b-760a-4d88-92d2-b59acf87ce49",
   "metadata": {
    "id": "1109974b-760a-4d88-92d2-b59acf87ce49"
   },
   "source": [
    "Test your class to make sure it works properly:"
   ]
  },
  {
   "cell_type": "code",
   "execution_count": 44,
   "id": "8c06aabd-20f7-45b5-9906-cfee4f79c224",
   "metadata": {
    "id": "8c06aabd-20f7-45b5-9906-cfee4f79c224"
   },
   "outputs": [
    {
     "name": "stdout",
     "output_type": "stream",
     "text": [
      "Hi! My name is Daniel Bauer!\n",
      "Daniel Bauer is a professor with a 5.0 CULPA rating!\n",
      "I am going to grade 30 assignments!\n"
     ]
    }
   ],
   "source": [
    "bauer = Professor(\"Daniel\", \"Bauer\", date(1995, 8, 19), 5.0)\n",
    "bauer.print_greeting()\n",
    "bauer.print_info()\n",
    "bauer.grade(30)"
   ]
  }
 ],
 "metadata": {
  "colab": {
   "provenance": []
  },
  "kernelspec": {
   "display_name": "Python 3 (ipykernel)",
   "language": "python",
   "name": "python3"
  },
  "language_info": {
   "codemirror_mode": {
    "name": "ipython",
    "version": 3
   },
   "file_extension": ".py",
   "mimetype": "text/x-python",
   "name": "python",
   "nbconvert_exporter": "python",
   "pygments_lexer": "ipython3",
   "version": "3.12.2"
  }
 },
 "nbformat": 4,
 "nbformat_minor": 5
}
