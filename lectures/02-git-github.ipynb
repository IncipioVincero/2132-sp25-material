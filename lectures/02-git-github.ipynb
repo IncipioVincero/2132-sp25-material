{
 "cells": [
  {
   "cell_type": "markdown",
   "id": "c7e84e38-6f6f-41bc-99b9-1f5d8652e23f",
   "metadata": {},
   "source": [
    "# COMS W3231 Intermediate Computing in Python\n",
    "# Lecture 2: Version Control with Git & GitHub\n",
    "\n",
    "**Date**: January 27, 2025\\\n",
    "Daniel Bauer <bauer@cs.columbia.edu> (original notes created by Jan Janak)\n",
    "\n",
    "**Suggested reading**: \n",
    "[Pro Git](https://git-scm.com/book/en/v2) (available freely online) parts of chapters 1, 2, 3, 6. Additional Reference: [GitHub documentation](https://docs.github.com/en/get-started/using-git/about-git)\n",
    "\n",
    "---"
   ]
  },
  {
   "cell_type": "markdown",
   "id": "e8b34cd8-79ff-41ac-af61-4a53031be544",
   "metadata": {},
   "source": [
    "This course will use Git and [GitHub](https://github.com/) to manage all assignments and the project. If you have used GitHub and the `git` command line tool before, this lecture serves a refresher. If you have not used Git in the terminal before, this lecture will cover the basics you need for this course. There are many advanced features we will not cover today -- please refer to the Pro Git book (linked above) for more details. The book is an excellent resource for learning git.\n",
    "\n",
    "If you are unfamiliar with the command line, the Lab session this week will cover the basics.\n",
    "\n",
    "Some of you may have interacted with projects on GitHub via its web interface or an integrated development environment (IDE) such as VSCode or Spyder. That's fine, and this approach works well for simple modifications and common workflows. For more complicated scenarios, e.g., when multiple developers closely collaborate on a project and generate multiple branches that need merging or conflict resolution, you may need to restore to the command line `git` tool. The command line tool will be the focus of this lecture."
   ]
  },
  {
   "cell_type": "markdown",
   "id": "1ca140ee-56c8-4daf-99db-ad689df34589",
   "metadata": {},
   "source": [
    "## Why Care About Version Control?\n",
    "\n",
    "* A Version Control System (VCS) keeps track of changes to a set of files (such as a Python project).\n",
    "* Allows to monitor progress over time and go back to a previous version if necessary. As a result, version control protects you from losing previous versions of your code.\n",
    "* Allows tagging (\"v1.0\") to mark milestones and production ready versions.\n",
    "* In a team setting, version control helps coordinate between multiple users editing the same project:\n",
    "  * work on the same project without overwriting each other's changes\n",
    "  * allows branching and merging (and conflict resolutions)\n",
    "  * commit messages and issue tracking"
   ]
  },
  {
   "cell_type": "markdown",
   "id": "67bac366-dcc3-472f-926d-384d519cea1c",
   "metadata": {},
   "source": [
    "### Local Version Control System \n",
    "\n",
    "Local VCS maintain a local database of versions of your project (a \"repository\"). \n",
    "\n",
    "<center>\n",
    "<img src=\"https://github.com/cucs-python/public/blob/main/w2132/lectures/figures/local_vcs.png?raw=true\" width=400>\n",
    "</center>\n",
    "\n",
    "### Distributed Version Control System (e.g. Git)\n",
    "* Each user has a full local copy of the repository (including its full history), but with its own local changes.\n",
    "* Repository may additional be stored on a server.\n",
    "* Can synchronize the repositories between users, or with the server.\n",
    "\n",
    "<center>\n",
    "<img src=\"https://github.com/cucs-python/public/blob/main/w2132/lectures/figures/distributed_vcs.png?raw=true\" width=800>\n",
    "</center>\n",
    "\n",
    " "
   ]
  },
  {
   "cell_type": "markdown",
   "id": "4fd6a358-c9b8-4a48-8db7-fe8406826923",
   "metadata": {},
   "source": [
    "## Git by Example - Local Repository"
   ]
  },
  {
   "cell_type": "markdown",
   "id": "2769be93-c74f-409b-a2b9-88d10d69d288",
   "metadata": {},
   "source": [
    "### Initialization \n",
    "Let's start by creating an empty folder, our working directory. We enter the folder and invoke `git init` to initialize the folder for use with Git. \n",
    "```bash\n",
    "$ mkdir homework\n",
    "$ cd homework\n",
    "$ git init\n",
    "Initialized empty Git repository in /Users/daniel/2132/homework/.git/\n",
    "```\n",
    "The `git init` command creates a sub-directory called `.git` in the folder. This is where the version database / repository is located, that is where Git keeps its auxiliary data: information about revisions (versions), tags, branches, and other objects. We will discuss those later.\n",
    "```bash\n",
    "$ ls -al   # list files and directories. -a: list hidden entries starting with ., -l print in long-form\n",
    "total 0\n",
    "drwxr-xr-x  3 daniel  staff   96 Jan 26 08:50 .\n",
    "drwxr-xr-x  3 daniel  staff   96 Jan 26 08:50 ..\n",
    "drwxr-xr-x  9 daniel  staff  288 Jan 26 08:50 .git\n",
    "```"
   ]
  },
  {
   "cell_type": "markdown",
   "id": "3a4d19ec-d816-46c7-877d-b40f7f067428",
   "metadata": {},
   "source": [
    "### Initial Commit"
   ]
  },
  {
   "cell_type": "markdown",
   "id": "3284a15e-07aa-4f88-8e7f-69af151d4831",
   "metadata": {},
   "source": [
    "Now that we have an empty folder with Git initialized let's create a simple Python program in it that outputs the string \"Hello, World!\" and terminates:\n",
    "```bash\n",
    "# Edit the file main.py and add one print statement that outputs Hello, World!\n",
    "$ vim main.py\n",
    "```\n",
    "```bash\n",
    "# Show the contents of the folder\n",
    "$ ls -al\n",
    "total 16\n",
    "total 8\n",
    "drwxr-xr-x  4 daniel  staff  128 Jan 26 08:54 .\n",
    "drwxr-xr-x  3 daniel  staff   96 Jan 26 08:50 ..\n",
    "drwxr-xr-x  9 daniel  staff  288 Jan 26 08:50 .git\n",
    "-rw-r--r--  1 daniel  staff   23 Jan 26 08:54 main.py # untracked file not yet under version control!\n",
    "```\n",
    "```bash\n",
    "# Show the contents of the file main.py\n",
    "$ cat main.py \n",
    "print(\"Hello, World!\")\n",
    "```"
   ]
  },
  {
   "cell_type": "markdown",
   "id": "d09d9de3-4cee-4482-8d86-8df45254933a",
   "metadata": {},
   "source": [
    "Let's use the command `git status` to see what Git thinks about our folder now:\n",
    "```bash\n",
    "$ git status\n",
    "On branch main\n",
    "\n",
    "No commits yet\n",
    "\n",
    "Untracked files:\n",
    "  (use \"git add <file>...\" to include in what will be committed)\n",
    "        main.py\n",
    "\n",
    "nothing added to commit but untracked files present (use \"git add\" to track)\n",
    "```\n",
    "Quite a bit to unpack! Git tells us that we are on the main branch, which is the default branch, and that we have not made any commits yet. Git noticed the new file main.py and indicated that it is untracked, i.e., it knows nothing about the file."
   ]
  },
  {
   "cell_type": "markdown",
   "id": "e92868e8-2e32-4399-bacc-3030fc07ed90",
   "metadata": {},
   "source": [
    "We want git to keep track of our program, so we add it with `git add`:\n",
    "```bash\n",
    "# Add main.py to the so-called staging area\n",
    "$ git add main.py\n",
    "```\n",
    "And let's see what Git things about the folder now:\n",
    "```bash\n",
    "$ git status\n",
    "On branch main\n",
    "\n",
    "No commits yet\n",
    "\n",
    "Changes to be committed:\n",
    "  (use \"git rm --cached <file>...\" to unstage)\n",
    "        new file:   main.py\n",
    "```\n",
    "Slightly different output. Now Git is telling us there are some changes it is aware of (new file) and that those changes will be committed in the next commit."
   ]
  },
  {
   "cell_type": "markdown",
   "id": "887c395f-64f9-4d17-933c-dbf9090c18bc",
   "metadata": {},
   "source": [
    "Let's commit the change (new file). This will permanently record the file, its properties, and content in Git's internal database (the .git sub-directory):\n",
    "```bash\n",
    "$ git commit -m \"Initial commit\"\n",
    "[main (root-commit) b94b9d4] Initial commit.\n",
    " 1 file changed, 1 insertion(+)\n",
    " create mode 100644 main.py\n",
    "```\n",
    "Here Git is telling us that it created a root (first) commit on the main branch and what that commit contains. The parameter -m \"Init commit\" is a message that will be recorded with the commit. Without this parameter, Git would have started an interactive text editor for you to edit the message. \n",
    "\n",
    "The commit message should be a brief but informative summary of changes. "
   ]
  },
  {
   "cell_type": "markdown",
   "id": "d6557e67-153d-4a9a-b14c-3844e4cbdb28",
   "metadata": {},
   "source": [
    "Here is a summary of the staging (add) and commit workflow so far. \n",
    "<center>\n",
    "<img src=\"https://github.com/cucs-python/public/blob/main/w2132/lectures/figures/local_staging_and_commit.png?raw=true\" width=800>\n",
    "</center>"
   ]
  },
  {
   "cell_type": "markdown",
   "id": "49c9f7a2-4e0d-4afc-9f11-d8f235816d40",
   "metadata": {},
   "source": [
    "### Commit Changes"
   ]
  },
  {
   "cell_type": "markdown",
   "id": "a93b33dd-c16d-4ea5-9778-3d70f55256dc",
   "metadata": {},
   "source": [
    "Let's investigate the status of our folder again:\n",
    "```bash\n",
    "$ git status\n",
    "On branch main\n",
    "nothing to commit, working tree clean\n",
    "```\n",
    "And we see that there is nothing more to commit. The working directory is said to be \"clean\" if it has no uncommitted or untracked changes."
   ]
  },
  {
   "cell_type": "markdown",
   "id": "4844dbc9-cd77-4206-94a5-f52fabb5cef9",
   "metadata": {},
   "source": [
    "So far, so good. As the next step, we will improve the Python program a little bit. This will give us a modification that we can commit into the repository again.\n",
    "```bash\n",
    "$ vim main.py\n",
    "```\n",
    "```bash\n",
    "$ cat main.py \n",
    "def hello_world():\n",
    "    return \"Hello, World!\"\n",
    "\n",
    "if __name__ == \"__main__\":\n",
    "    print(hello_world())\n",
    "```"
   ]
  },
  {
   "cell_type": "markdown",
   "id": "f5c008f3-1410-496b-ad13-fa78734cc0e5",
   "metadata": {},
   "source": [
    "Let's use `git status` again to see what Git thinks about our folder now.\n",
    "```bash\n",
    "$ git status\n",
    "On branch main\n",
    "Changes not staged for commit:\n",
    "  (use \"git add <file>...\" to update what will be committed)\n",
    "  (use \"git restore <file>...\" to discard changes in working directory)\n",
    "\tmodified:   main.py\n",
    "\n",
    "no changes added to commit (use \"git add\" and/or \"git commit -a\")\n",
    "```\n",
    "Notice the file main.py is no longer new but shows up as modified now. That indicates Git knows about the file and has also detected our modification to the file."
   ]
  },
  {
   "cell_type": "markdown",
   "id": "55f7821b-96ea-48fe-97b2-14cf298ab649",
   "metadata": {},
   "source": [
    "#### Diff"
   ]
  },
  {
   "cell_type": "markdown",
   "id": "50537126-81dd-409b-9f3d-df518f8467c1",
   "metadata": {},
   "source": [
    "Suppose you made the modification a while ago and no longer remember what has changed or why. How do you decide whether to commit the modified file again? It would be nice to see what changed before we commit (or not). And we can! The command `git diff` can show us what exactly has changed in the file:\n",
    "```diff\n",
    "diff --git a/main.py b/main.py\n",
    "index 7df869a..c0792cf 100644\n",
    "--- a/main.py\n",
    "+++ b/main.py\n",
    "@@ -1 +1,5 @@\n",
    "-print(\"Hello, World!\")\n",
    "+def hello_world():\n",
    "+  return \"Hello, World!\")\n",
    "+\n",
    "+if __name__ == \"__main__\":\n",
    "+  print(\"hello_world()\")\n",
    "```\n",
    "Being able to read diff outputs is important. We often use this to review proposed changes (pull requests). Also, high-profile projects such as the Linux kernel are particular about diffs. Keeping only related changes in a single diff is a good practice. *Thus, commits should happen relatively often*. Generating readable diffs takes software development practice and some planning ahead. We will see how this can be used in GitHub Pull Requests a bit later.\n",
    "\n",
    "Warning: `git diff` only shows unstaged changes. `git diff --cached` can be used to see the diff between last commit and staged modifications."
   ]
  },
  {
   "cell_type": "markdown",
   "id": "091313e2-e3ef-4418-8cdb-d6d38dfbbab6",
   "metadata": {},
   "source": [
    "Now that we know what change it is, let's commit. We already know how to do that with a combination of `git add` and `git commit`:\n",
    "```bash\n",
    "$ git add main.py\n",
    "$ git commit -m \"define hello_world function\"\n",
    "[main fb2b05d] define hello_world function\n",
    " 1 file changed, 5 insertions(+), 1 deletion(-)\n",
    "```\n",
    "This time, Git just gives us some statistics about how many files have changed, and how many hunk insertions and deletions were performed."
   ]
  },
  {
   "cell_type": "markdown",
   "id": "7b151706-7372-4411-a07d-1e4d335d8811",
   "metadata": {},
   "source": [
    "### Commit History"
   ]
  },
  {
   "cell_type": "markdown",
   "id": "f5a549f9-216f-4745-a667-0fde95bcb73f",
   "metadata": {},
   "source": [
    "We made two commits to the main branch. We can use `git log` list the commits on a branch:\n",
    "\n",
    "```bash\n",
    "$ git log\n",
    "commit fb2b05d164ac1b40fa583979bddd3aaf55f1b8c7 (HEAD -> main)\n",
    "Author: Daniel Bauer <bauer@cs.columbia.edu>\n",
    "Date:   Sun Jan 26 09:05:47 2025 -0500\n",
    "\n",
    "    define hello_world function\n",
    "\n",
    "commit b94b9d44f67ba6ed2cf542794dc6d901e27ddc28\n",
    "Author: Daniel Bauer <bauer@cs.columbia.edu>\n",
    "Date:   Sun Jan 26 08:57:13 2025 -0500\n",
    "\n",
    "    Initial commit.\n",
    "```\n",
    "\n",
    "The above output shows both our commits. A hash code identifies each commit (commit ID). HEAD is a special name for the main branch's tip (most recent commit)."
   ]
  },
  {
   "cell_type": "markdown",
   "id": "abe1569b-77d5-4390-9217-750b72e9309e",
   "metadata": {},
   "source": [
    "### Tagging"
   ]
  },
  {
   "cell_type": "markdown",
   "id": "41725345-3936-41cb-bf91-27b84c5a5fee",
   "metadata": {},
   "source": [
    "Tagging allows the developer to assign human-friendly names to commits identified by their commit ID. Suppose we wanted to associate the name \"first\" with the initial commit in the above output. We can run:\n",
    "```bash\n",
    "$ git tag first b94b9d44f67ba6ed2cf542794dc6d901e27ddc28\n",
    "```\n",
    "\n",
    "And the output of `git log` should show the new tag:\n",
    "```bash\n",
    "$ git log\n",
    "commit fb2b05d164ac1b40fa583979bddd3aaf55f1b8c7 (HEAD -> main)\n",
    "Author: Daniel Bauer <bauer@cs.columbia.edu>\n",
    "Date:   Sun Jan 26 09:05:47 2025 -0500\n",
    "\n",
    "    define hello_world function\n",
    "\n",
    "commit b94b9d44f67ba6ed2cf542794dc6d901e27ddc28 (tag: first)\n",
    "Author: Daniel Bauer <bauer@cs.columbia.edu>\n",
    "Date:   Sun Jan 26 08:57:13 2025 -0500\n",
    "\n",
    "    Initial commit.\n",
    "```\n",
    "\n",
    "Tagging is often used to mark \"stable\" or \"releasable\" versions of a project. You can assign as many tags to each commit as you want."
   ]
  },
  {
   "cell_type": "markdown",
   "id": "cd0de358-df1c-4238-b95b-e37b4328b7cd",
   "metadata": {},
   "source": [
    "### Branching and Merging"
   ]
  },
  {
   "cell_type": "markdown",
   "id": "8ac33606-0074-44fc-8f66-91d38fb2acf2",
   "metadata": {},
   "source": [
    "Creating a separate branch allows you to create a new line of development without impacting the main branch. This workflow is typically used for more complicated or experimental features that need to be developed separately and only merged to the main branch atomically once tested and approved.\n",
    "\n",
    "Maintaining stable and experimental branches is a common development workflow. For example, you could adopt the following:\n",
    "  * Only commit 100% fully functioning features to main.\n",
    "  * Work on experimental features on branch dev. Only merge into main branch once they're ready. This means you can could break dev during development, but always keep main stable."
   ]
  },
  {
   "cell_type": "markdown",
   "id": "ebd54daa-894a-472a-bdf6-7bce44131ba0",
   "metadata": {},
   "source": [
    "A new branch can be created with the command `git branch`. For example, the following creates a new branch called \"dev\":\n",
    "```bash\n",
    "$ git branch dev\n",
    "```\n",
    "\n",
    "If you list all existing branches, you will notice that the main branch is still the current branch, i.e., creating a new branch does not switch to it immediately:\n",
    "```bash\n",
    "$ git branch\n",
    "  dev\n",
    "* main\n",
    "```"
   ]
  },
  {
   "cell_type": "markdown",
   "id": "328cdf00-aebf-49a6-a78d-5ee7463c9317",
   "metadata": {},
   "source": [
    "We can switch to the new branch with `git switch`:\n",
    "```bash\n",
    "$ git switch dev\n",
    "Switched to branch 'dev'\n",
    "```\n",
    "_Note: we could have also skipped the `git branch` step and use `git switch -c dev` instead to create the new branch and switch to it._"
   ]
  },
  {
   "cell_type": "markdown",
   "id": "615d8b44-5d52-4ed2-9f10-834bf681f349",
   "metadata": {},
   "source": [
    "We are now on the dev branch. Let's modify the file and commit the changes:\n",
    "\n",
    "```bash\n",
    "$ vim main.py\n",
    "$ cat main.py \n",
    "# This is a change performed on the dev branch\n",
    " \n",
    "def hello_class():\n",
    "  return \"Hello, COMS W2132 class! This program has a new feature!\")\n",
    "\n",
    "if __name__ == \"__main__\":\n",
    "  print(\"hello_world()\")\n",
    "```\n",
    "\n",
    "```bash\n",
    "$ git add main.py\n",
    "$ git commit -m \"Change on the dev branch.\"\n",
    "[dev 74f60e2] Change on the dev branch.\n",
    " 1 file changed, 2 insertions(+), 2 deletions(-)\n",
    " ```"
   ]
  },
  {
   "cell_type": "markdown",
   "id": "3d51532e-7afe-40d7-809d-4b535ec5254f",
   "metadata": {},
   "source": [
    "Now, let's switch back to the main branch and also commit some changes there:\n",
    "\n",
    "```bash\n",
    "$ git switch main\n",
    "Switched to branch 'main'\n",
    "```\n",
    "Note that the commit we performed on the dev branch is missing on the main branch!\n",
    "\n",
    "```bash\n",
    "$ vim main.py\n",
    "$ cat main.py\n",
    "# This comment is a change in the main branch.\n",
    "def hello_world():\n",
    "  return \"Hello, World!\"\n",
    "\n",
    "if __name__ == \"__main__\":\n",
    "  print(\"hello_world()\")\n",
    "\n",
    "```\n",
    "\n",
    "Now \n",
    "\n",
    "```bash\n",
    "$ git add main.py\n",
    "$ git commit -m \"Change on the main branch\"\n",
    "[main e507630] Changed on the main branch\n",
    " 1 file changed, 1 insertion(+), 1 deletion(-)\n",
    "```"
   ]
  },
  {
   "cell_type": "markdown",
   "id": "d1e9dfc5-e2aa-437c-a515-5d803b973ff2",
   "metadata": {},
   "source": [
    "**Merging**: Finally, let's merge the dev branch into the main branch. This will attempt to bring the changes made on the dev branch into the main branch with a special \"merge\" commit.\n",
    "\n",
    "This operation could go two ways. If the changes on the two branches are sufficiently different, e.g., they do not modify the same or nearby lines in one file, Git will merge the branches automatically. If the two branches modify the same or similar lines in one file, Git will report a merge conflict and will ask the user to manually merge by modifying the resulting file. Those manual modifications then need to be added and committed."
   ]
  },
  {
   "cell_type": "markdown",
   "id": "1f9ca126-ff88-4629-9bf8-8ee21434e86b",
   "metadata": {},
   "source": [
    "```bash\n",
    "$ git merge dev\n",
    "Auto-merging main.py\n",
    "CONFLICT (content): Merge conflict in main.py\n",
    "Automatic merge failed; fix conflicts and then commit the result.\n",
    "```\n",
    "\n",
    "Git detected a merge conflict, that it is was unable to automatically merge the branches.\n",
    "\n",
    "Let's see what's in main.py now. It will show us the diff between the two branches:\n",
    "\n",
    "```bash\n",
    "$ cat main.py \n",
    "<<<<<<< HEAD\n",
    "#This comment is a change in the main branch\n",
    "def hello_world():\n",
    "  return \"Hello, World!\"\n",
    "=======\n",
    "def hello_class():\n",
    "  return \"Hello, COMS W2132 class! This program has a new feature!\")\n",
    ">>>>>>> dev\n",
    "\n",
    "if __name__ == \"__main__\":\n",
    "  print(\"hello_world()\")\n",
    "```\n",
    "\n",
    "We can modify the file by removing one of the changes, or keep both. \n",
    "\n",
    "```bash\n",
    "$ vim main.py \n",
    "$ cat main.py\n",
    "#This comment is a change in the main branch\n",
    "def hello_world():\n",
    "  return \"Hello, World!\"\n",
    "\n",
    "def hello_class():\n",
    "  return \"Hello, COMS W2132 class! This program has a new feature!\")\n",
    "\n",
    "if __name__ == \"__main__\":\n",
    "  print(\"hello_world()\")\n",
    "\n",
    "$ git add main.py\n",
    "$ git commit -m \"Resolved merge conflict\"\n",
    "[main ec46dd0] Resolved merge conflict\n",
    "```\n"
   ]
  },
  {
   "cell_type": "markdown",
   "id": "c930bfd2-2b69-4a72-8d80-0548706ae31b",
   "metadata": {},
   "source": [
    "We can see the resulting graph of commits with `git log --graph`:\n",
    "```bash\n",
    "$ git log --graph\n",
    "\n",
    "*   commit ec46dd0f46b8dc56674996fe7459b52f63fb4d67 (HEAD -> main)\n",
    "|\\  Merge: e507630 74f60e2\n",
    "| | Author: Daniel Bauer <bauer@cs.columbia.edu>\n",
    "| | Date:   Sun Jan 26 10:43:37 2025 -0500\n",
    "| |\n",
    "| |     Resolved merge conflict\n",
    "| |\n",
    "| * commit 74f60e2d5d27dc024c8a1a7431c6cd494a533ac3 (dev)\n",
    "| | Author: Daniel Bauer <bauer@cs.columbia.edu>\n",
    "| | Date:   Sun Jan 26 10:30:52 2025 -0500\n",
    "| |\n",
    "| |     Change on the dev branch.\n",
    "| |\n",
    "* | commit e5076306b7470514fb17750b92c11624ac71ce01\n",
    "| | Author: Daniel Bauer <bauer@cs.columbia.edu>\n",
    "| | Date:   Sun Jan 26 10:39:20 2025 -0500\n",
    "| |\n",
    "| |     Changed on the main branch\n",
    "| |\n",
    "* | commit 3c403de0a71ca2125e74760028d8c0bfa75b4dd7\n",
    "|/  Author: Daniel Bauer <bauer@cs.columbia.edu>\n",
    "|   Date:   Sun Jan 26 10:36:10 2025 -0500\n",
    "|\n",
    "|       Changed on the main branch\n",
    "|\n",
    "* commit fb2b05d164ac1b40fa583979bddd3aaf55f1b8c7\n",
    "| Author: Daniel Bauer <bauer@cs.columbia.edu>\n",
    "| Date:   Sun Jan 26 09:05:47 2025 -0500\n",
    "|\n",
    "|     define hello_world function\n",
    "|\n",
    "* commit b94b9d44f67ba6ed2cf542794dc6d901e27ddc28 (tag: first)\n",
    "  Author: Daniel Bauer <bauer@cs.columbia.edu\n",
    "  Date:   Sun Jan 26 08:57:13 2025 -0500\n",
    "\n",
    "      Initial commit.  \n",
    "```\n",
    "\n",
    "The history of commits is no longer linear. We see the dev branch branching off and eventually getting merged back. The special merge commit has two parents."
   ]
  },
  {
   "cell_type": "markdown",
   "id": "a0e89295-52d6-4acf-bc7b-8da16b2dc0d6",
   "metadata": {},
   "source": [
    "## GitHub"
   ]
  },
  {
   "cell_type": "markdown",
   "id": "188151cc-f861-4fa8-b3f6-b7e424bef2b1",
   "metadata": {},
   "source": [
    "[GitHub](https://github.com) is an online service for hosting Git repositories. Having your repositories hosted on GitHub allows others to discover your projects and enables collaboration by multiple people on the same project. GitHub is the most popular but not the only such service. Other popular hosting services are [GitLab](https://gitlab.com) and [BitBucket](https://bitbucket.org). \n",
    "\n",
    "Let's create a GitHub repository for the local repository we created above."
   ]
  },
  {
   "cell_type": "markdown",
   "id": "79a7ab3b-d8b6-4757-b86d-e01d1ee8a3bc",
   "metadata": {},
   "source": [
    "**Account:** If you do not have a GitHub account yet, create one first [GitHub signup](https://www.github.com/signup). Then, follow the [GitHub SSH guide](https://docs.github.com/en/authentication/connecting-to-github-with-ssh) to set up SSH for your GitHub account. The TAs should be able to help with this if you run into issues."
   ]
  },
  {
   "cell_type": "markdown",
   "id": "11d65b94-39f1-47d8-b819-4763ab5e77da",
   "metadata": {},
   "source": [
    "Then follow the [GitHub UI to create a new repository](https://github.com/new):\n",
    "<img src=\"https://github.com/cucs-python/public/blob/main/w2132/lectures/figures/github-new-repo.png?raw=true\" width=800 style='border:1px solid #000000'/>\n",
    "\n",
    "  * Leave the template option set to \"No template\".\n",
    "  * Select the repository owner. This will most likely be your private GitHub account.\n",
    "  * Select a unique name for your new repository. We will use \"homework\" in this example.\n",
    "  * Optionally, give your repository a short description.\n",
    "  * Set the visibility of your repository. Public repositories can be discovered and viewed by anyone on the Internet. Private repositories can be only viewed by you and your collaborators. We choose private for this demo.\n",
    "  * **Do not initialize your repository with any files. We will initialize the newly created GitHub repository with the local repository created in the previous section.**\n",
    "\n",
    "Press the \"Create repository\" button."
   ]
  },
  {
   "cell_type": "markdown",
   "id": "539857f1-73d8-4c66-baa7-76b4bf94b4c8",
   "metadata": {},
   "source": [
    "GitHub will create a new repository and will redirect you to a page with basic information about the new repository:\n",
    "<img src=\"https://github.com/cucs-python/public/blob/main/w2132/lectures/figures/github-repo-created.png?raw=true\" width=900 style='border:1px solid #000000'/>\n",
    "\n",
    "In this guide, we will follow the steps outlined in **...or push an existing repository from the command line**. Navigate back to the terminal and the folder where you executed the Git commands in the previous section."
   ]
  },
  {
   "cell_type": "markdown",
   "id": "f124ffda-1ac6-48fa-9bf3-d3855a24055c",
   "metadata": {},
   "source": [
    "Use the command `git remote` to add your GitHub repository as a remote repository named \"origin\" to your local repository\n",
    "```bash\n",
    "$ git remote add origin git@github.com:daniel-bauer/homework.git\n",
    "```"
   ]
  },
  {
   "cell_type": "markdown",
   "id": "8976e7b0-d71b-4c06-91c3-6bd82bbd7a21",
   "metadata": {},
   "source": [
    "The second command (`git branch -M main`) renames your \"master\" branch to \"main\". This command is only sometimes necessary, depending on how you initialized your empty local repository. Git creates one local branch called \"master\", while GitHub expects this branch to be called \"main\". If you don't know how you created your local repository, execute this command:\n",
    "```bash\n",
    "$ git branch -M main\n",
    "```"
   ]
  },
  {
   "cell_type": "markdown",
   "id": "b798c61a-83a6-4ed0-a5ac-d79d17088778",
   "metadata": {},
   "source": [
    "In the next step, we use the command `git push` to push the commits on the main branch to the empty GitHub repository. This command will connect to GitHub over SSH and will synchronize your local main branch with the GitHub repository's main branch:\n",
    "```bash\n",
    "$ git push -u origin main\n",
    "Enumerating objects: 18, done.\n",
    "Counting objects: 100% (18/18), done.\n",
    "Delta compression using up to 10 threads\n",
    "Compressing objects: 100% (11/11), done.\n",
    "Writing objects: 100% (18/18), 1.48 KiB | 504.00 KiB/s, done.\n",
    "Total 18 (delta 5), reused 0 (delta 0), pack-reused 0\n",
    "remote: Resolving deltas: 100% (5/5), done.\n",
    "To github.com:daniel-bauer/homework.git\n",
    " * [new branch]      main -> main\n",
    "branch 'main' set up to track 'origin/main'.\n",
    "```"
   ]
  },
  {
   "cell_type": "markdown",
   "id": "d4cfce75-d853-443d-a127-f9f3aa39b6d0",
   "metadata": {},
   "source": [
    "If you navigate back to the GitHub web UI for your repository, you should see the file main.py there, along with your most recent commit message:\n",
    "\n",
    "<img src=\"https://github.com/cucs-python/public/blob/main/w2132/lectures/figures/github-pushed.png?raw=true\" width=900 style='border:1px solid #000000'/>\n",
    "\n",
    "Note that the `git push` command we executed only pushed the main branch. If your local repository had other branches, those were not pushed. You can see the list of available branches by clicking the \"main\" button."
   ]
  },
  {
   "cell_type": "markdown",
   "id": "6791c0d4-1f11-447d-a263-5a2801d41da3",
   "metadata": {},
   "source": [
    "Click on the \"6 Commits\" link in the upper right corner to see the list of commits on the master branch. This is similar to running `git log` in the terminal:\n",
    "\n",
    "<img src=\"https://github.com/cucs-python/public/blob/main/w2132/lectures/figures/github-commit-log.png?raw=true\" width=900 style='border:1px solid #000000'/>"
   ]
  },
  {
   "cell_type": "markdown",
   "id": "e69db4fc-fda8-4b41-9f3b-bacf6e1a3607",
   "metadata": {},
   "source": [
    "Clicking on an individual commit will take you to a \"diff\" view, similar to the output of `git diff` we have seen earlier:\n",
    "<img src=\"https://github.com/cucs-python/public/blob/449e4a2c92cf5154f991f81e88bcdc5119917091/w2132/lectures/figures/github-diff.png?raw=true\"  width=800 style='border:1px solid #000000'/>\n",
    "\n",
    "Apart from seeing what the change was, this view allows you to comment on the commit, or even individual lines within the commit. This is a really useful feature!\n",
    "\n",
    "In fact, the teaching staff will be using this feature to give feedback on your assignments, so you get to experience how this works in this course."
   ]
  },
  {
   "cell_type": "markdown",
   "id": "18c48609-7933-4f8e-9cb2-3abdfb15f87a",
   "metadata": {},
   "source": [
    "Now that you are familiar with GitHub web user interface, let's switch back to our local repository in the terminal. We will add one more commit to the main branch to see how the change could be pushed to the existing repository on GitHub.\n",
    "\n",
    "```bash\n",
    "$ vim main.py\n",
    "```\n",
    "```bash\n",
    "$ cat main.py \n",
    "#This comment is a change in the main branch\n",
    "def hello_world():\n",
    "  return \"Hello, World!\"\n",
    "\n",
    "def hello_class():\n",
    "  return \"Hello, COMS W2132 class! This program has a new feature!\"\n",
    "\n",
    "if __name__ == \"__main__\":\n",
    "  print(\"hello_class()\") # Calling the other function\n",
    "```\n",
    "```bash\n",
    "$ git add main.py\n",
    "$ git commit -m \"Greet the class\"\n",
    "[main 813501c] Greet the class\n",
    " 1 file changed, 2 insertions(+), 2 deletions(-)\n",
    "```"
   ]
  },
  {
   "cell_type": "markdown",
   "id": "5ef0db77-0abb-4f62-8118-94677ee46479",
   "metadata": {},
   "source": [
    "If we run `git status`, Git tells us that our local branch is ahead of 'origin/main' by 1 commit. Recall that \"origin\" is the name of the remote (GitHub) repository. What this means is that our local main branch has one commit that the main branch on GitHub does not have:\n",
    "```bash\n",
    "$ git status\n",
    "On branch main\n",
    "Your branch is ahead of 'origin/main' by 1 commit.\n",
    "  (use \"git push\" to publish your local commits)\n",
    "\n",
    "nothing to commit, working tree clean\n",
    "```"
   ]
  },
  {
   "cell_type": "markdown",
   "id": "6a0da7d1-52a7-4521-81c7-912ffa4af5e7",
   "metadata": {},
   "source": [
    "We can simply rerun `git push` to push the new commit to GitHub:\n",
    "```bash\n",
    "$ git push\n",
    "Enumerating objects: 5, done.\n",
    "Counting objects: 100% (5/5), done.\n",
    "Delta compression using up to 10 threads\n",
    "Compressing objects: 100% (2/2), done.\n",
    "Writing objects: 100% (3/3), 315 bytes | 315.00 KiB/s, done.\n",
    "Total 3 (delta 1), reused 0 (delta 0), pack-reused 0\n",
    "remote: Resolving deltas: 100% (1/1), completed with 1 local object.\n",
    "To github.com:daniel-bauer/homework.git\n",
    "   ec46dd0..813501c  main -> main\n",
    "```\n",
    "This step will first compare the local and remote branch, and it will only push the objects (pieces of information stored in the repository) that are missing in the remote branch."
   ]
  },
  {
   "cell_type": "markdown",
   "id": "f7d318ed-4ef6-4e6c-b1b3-2cb8dafeb1e3",
   "metadata": {},
   "source": [
    "Running `git status` again shows that our local main branch is up to date with the remote (origin) branch:\n",
    "```bash\n",
    "$ git status\n",
    "On branch main\n",
    "Your branch is up to date with 'origin/main'.\n",
    "\n",
    "nothing to commit, working tree clean\n",
    "```"
   ]
  },
  {
   "cell_type": "markdown",
   "id": "b3e44673-048e-4912-9734-c47ab328436e",
   "metadata": {},
   "source": [
    "### Cloning a GitHub Repository\n",
    "\n",
    "Many GitHub repositories are public, and GitHub has become a standard way for distributing open-source software. \n",
    "\n",
    "You can find a repository with the course material for this course here: https://github.com/coms2132-sp25/3132-sp25-material\n",
    "We will keep this repository updated during the semester, so you can make sure you always have a fresh, local copy of all relevant materials. \n",
    "\n",
    "You can clone the repository like this: \n",
    "```bash\n",
    "$git clone git@github.com:coms2132-sp25/3132-sp25-material.git\n",
    "```\n",
    "\n",
    "or \n",
    "```bash\n",
    "$git clone https://github.com/coms2132-sp25/3132-sp25-material.git\n",
    "```\n",
    "\n",
    "Note that the https version will work without having setup an ssh key, and indeed would work without a github account at all. However, you would not be able to push your code to the remote repository this way. \n",
    "\n",
    "The `clone` command will create a local copy of the repository, keeping track of the remote repository. Unlike in the example above, the origin remote is set automatically. We can verify using `git status`. \n",
    "\n",
    "```bash\n",
    "git status\n",
    "On branch main\n",
    "Your branch is up to date with 'origin/main'.\n",
    "\n",
    "nothing to commit, working tree clean\n",
    "```\n",
    "\n",
    "You can use `git pull` to update your local repository with any remote changes.\n",
    "\n",
    "```$ git pull\n",
    "Already up to date.\n",
    "```\n",
    "\n",
    "Theoretically, if you are an owner or contributer of a project on github, you can also push your local changes back to the remote repository (see previous section)."
   ]
  },
  {
   "cell_type": "markdown",
   "id": "8da36e76-5407-4c7f-9ada-905bd3c26472",
   "metadata": {},
   "source": [
    "## Collaborating on GitHub"
   ]
  },
  {
   "cell_type": "markdown",
   "id": "dc554916-b1a6-4531-b2dc-dfb5204d6429",
   "metadata": {},
   "source": [
    "In this section, we will demonstrate how two people can collaborate on the same project through GitHub. Recall the branching workflow discussed earlier – we are going to work on a new feature on a new branch and merge it into the main branch. Instead of merging on the command line as we did before, however, we’ll merge the branch using GitHub’s UI. This will give us the opportunity to show how to make pull requests (PRs) and perform code review on GitHub."
   ]
  },
  {
   "cell_type": "markdown",
   "id": "067aea0d-cab0-4e0a-8a4a-8379aabca868",
   "metadata": {},
   "source": [
    "Suppose we are now another developer working on a new feature that should be eventually merged into our homework repository. We will switch to another directory and clone the homework repository from GitHub there:\n",
    "\n",
    "```bash\n",
    "$ mkdir hw_other\n",
    "$ cd hw_other/\n",
    "$ git clone git@github.com:daniel-bauer/homework.git\n",
    "Cloning into 'homework'...\n",
    "remote: Enumerating objects: 21, done.\n",
    "remote: Counting objects: 100% (21/21), done.\n",
    "remote: Compressing objects: 100% (7/7), done.\n",
    "remote: Total 21 (delta 6), reused 21 (delta 6), pack-reused 0 (from 0)\n",
    "Receiving objects: 100% (21/21), done.\n",
    "Resolving deltas: 100% (6/6), done.\n",
    "```\n",
    "This gives us another (separate) copy of the repository, independent from the original one, but referring to the same origin remote on GitHub."
   ]
  },
  {
   "cell_type": "markdown",
   "id": "ab0fa32c-c3b4-4777-9c6e-adc8d022c4ed",
   "metadata": {},
   "source": [
    "We create a new branch called \"new-feature\" and switch to it:\n",
    "```bash\n",
    "$ git branch new-feature\n",
    "$ git switch new-feature\n",
    "Switched to branch 'new-feature'\n",
    "```"
   ]
  },
  {
   "cell_type": "markdown",
   "id": "88f08883-413c-4120-8a0e-a5090dddba8b",
   "metadata": {},
   "source": [
    "And now we modify the file main.py again:\n",
    "```bash\n",
    "$ vim main.py \n",
    "$ cat main.py \n",
    "def hello_world():\n",
    "  return \"Hello, World!\"\n",
    "\n",
    "def hello_class():\n",
    "  return \"Hello, COMS W2132 class! This program has a new feature!\"\n",
    "\n",
    "if __name__ == \"__main__\":\n",
    "  print(hello_world())\n",
    "  print(hello_class())\n",
    "```"
   ]
  },
  {
   "cell_type": "markdown",
   "id": "005cad4a-63cb-4f25-b285-e38abf9ad6ea",
   "metadata": {},
   "source": [
    "And add and commit the file just like before:\n",
    "```bash\n",
    "$ git add main.py \n",
    "$ git commit -m \"New feature\"\n",
    "[new-feature 12e68b1] New feature\n",
    " 1 file changed, 1 deletion(-)\n",
    "```"
   ]
  },
  {
   "cell_type": "markdown",
   "id": "dd8d0648-f674-4f2c-bc90-9b78e23a9ec6",
   "metadata": {},
   "source": [
    "The \"new-feature\" branch currently only exists in our local repository. We need to push it to GitHub. Assuming the developer has permissions to the target GitHub repository, they can simply push it upstream. They can use the -u (shorthand for --set-upstream) option to associate the local \"new-feature\" branch with the GitHub \"new-feature\" branch that will be created.\n",
    "```bash\n",
    "$ git push -u origin new-feature\n",
    "Enumerating objects: 8, done.\n",
    "Counting objects: 100% (8/8), done.\n",
    "Delta compression using up to 10 threads\n",
    "Compressing objects: 100% (4/4), done.\n",
    "Writing objects: 100% (6/6), 523 bytes | 523.00 KiB/s, done.\n",
    "Total 6 (delta 2), reused 0 (delta 0), pack-reused 0\n",
    "remote: Resolving deltas: 100% (2/2), completed with 1 local object.\n",
    "remote:\n",
    "remote: Create a pull request for 'new-feature' on GitHub by visiting:\n",
    "remote:      https://github.com/daniel-bauer/homework/pull/new/new-feature\n",
    "remote:\n",
    "To github.com:daniel-bauer/homework.git\n",
    " * [new branch]      new-feature -> new-feature\n",
    "branch 'new-feature' set up to track 'origin/new-feature'.\n",
    "```"
   ]
  },
  {
   "cell_type": "markdown",
   "id": "c721da46-75e4-430c-b301-e0a877807c41",
   "metadata": {},
   "source": [
    "Suppose the new feature is complete and the developer would like to merge it into the main branch. One way to do that would be to merge the new-feature branch into the main branch locally and then push from the main branch to GitHub.\n",
    "\n",
    "GitHub offers an alternate workflow, pull requests (PRs):\n",
    "\n",
    "1. The developer first creates a pull request by following the link suggested by the `git push` output above and requests a review from the repository owner.\n",
    "  \n",
    "\n",
    "<img src=\"https://github.com/cucs-python/public/blob/main/w2132/lectures/figures/github-pull-request.png?raw=True\" style='border:1px solid #000000'/>\n",
    "\n",
    "\n"
   ]
  },
  {
   "cell_type": "markdown",
   "id": "a8103f60-0720-414b-922b-0b180a130a9c",
   "metadata": {},
   "source": [
    "<img src=\"https://github.com/cucs-python/public/blob/main/w2132/lectures/figures/github-merge-pr.png?raw=True\" width=800 style='border:1px solid #000000'/>\n",
    "\n",
    "2. The owner reviews the code diff shown on the pull request page, leaving comments and suggestions for further changes.\n",
    "3. Eventually, the developer gets approval from the owner. When we click the \"Merge pull request\" button, the pull request gets merged into the main branch. The developer can then optionally delete the main branch. \n",
    "\n"
   ]
  },
  {
   "cell_type": "markdown",
   "id": "0c5cc67a-6cc8-4d65-a993-0f6ee8ad1e5e",
   "metadata": {},
   "source": []
  },
  {
   "cell_type": "markdown",
   "id": "af505be9-e6fd-46e8-8f53-5e2f0add2763",
   "metadata": {},
   "source": [
    "Let's now go back to the terminal, switch back to the main branch, and pull the latest changes:\n",
    "```bash\n",
    "$ git switch main\n",
    "Switched to branch 'main'\n",
    "Your branch is up to date with 'origin/main'.\n",
    "```\n",
    "```bash\n",
    "$ git pull\n",
    "remote: Enumerating objects: 1, done.\n",
    "remote: Counting objects: 100% (1/1), done.\n",
    "remote: Total 1 (delta 0), reused 0 (delta 0), pack-reused 0 (from 0)\n",
    "Unpacking objects: 100% (1/1), 893 bytes | 446.00 KiB/s, done.\n",
    "From github.com:daniel-bauer/homework\n",
    "   813501c..f4e6e43  main       -> origin/main\n",
    "Updating 813501c..f4e6e43\n",
    "Fast-forward\n",
    " main.py | 4 ++--\n",
    " 1 file changed, 2 insertions(+), 2 deletions(-)\n",
    "```"
   ]
  },
  {
   "cell_type": "markdown",
   "id": "7f860ecb-a1aa-4f1d-8fe1-47c9a3393766",
   "metadata": {},
   "source": [
    "The command `git log` should show a new merge commit and also the new feature commit:\n",
    "```bash\n",
    "$git log \n",
    "commit f4e6e43f2f39dd3554f245ba589ff7ea5873bc86 (HEAD -> main, origin/main, origin/HEAD)\n",
    "Merge: 813501c 12e68b1\n",
    "Author: Daniel <bauer@cs.columbia.edu>\n",
    "Date:   Sun Jan 26 18:53:37 2025 -0500\n",
    "\n",
    "    Merge pull request #1 from daniel-bauer/new-feature\n",
    "\n",
    "    New feature\n",
    "\n",
    "commit 12e68b19b2a4e7043353f4996c5b74b2ff30d099 (origin/new-feature, new-feature)\n",
    "Author: Daniel Bauer <bauer@cs.columbia.edu>\n",
    "Date:   Sun Jan 26 18:23:31 2025 -0500\n",
    "\n",
    "    New feature\n",
    "\n",
    "commit 1f5a062e521ccc32e2413dd2072365b2412db136\n",
    "Author: Daniel Bauer <bauer@cs.columbia.edu>\n",
    "Date:   Sun Jan 26 18:23:02 2025 -0500\n",
    "\n",
    "    New feature\n",
    "\n",
    "commit 813501cdfbda09aa813e6524b4b273406616a5c5\n",
    "Author: Daniel Bauer <bauer@cs.columbia.edu>\n",
    "Date:   Sun Jan 26 11:36:08 2025 -0500\n",
    "\n",
    "    Greet the class\n",
    "\n",
    "...\n",
    "```"
   ]
  },
  {
   "cell_type": "markdown",
   "id": "0fad7a31-5b62-476b-ae08-a4d18c48895d",
   "metadata": {},
   "source": [
    "## Getting started with GitHub Classroom (Homework 0 - ungraded)\n",
    "\n",
    "GitHub Classroom is a tool that helps instructors conduct coding assignments using GitHub. It automates repository setup and supports advanced features for autograding and providing feedback.\n",
    "\n",
    "\n",
    "Make sure you are logged into GitHub. Then use this link to access the homework 0 assignment on GitHub: https://classroom.github.com/a/3tZyrWp9\n",
    "\n",
    "You will first be asked to link your GitGub account to the classroom ID (in this case, your Columbia UNI). IMPORTANT: If you can't find your UNI on the list, do not proceed and email me immediately at <bauer@cs.columbia.edu>.\n",
    "\n",
    "Once you linked your personal GitHub account, GitHub Classrooms will create a new repository containing a copy of the homework template. You may have to reload the page to see it. Once you open the repository on Github, you will see the content of the README.md file, which will contain instructions for the assignment. Click on the green \"Code\" button and copy the URL (use the SSH version instead of https).\n",
    "\n",
    "Decide on a location in your filesystem to work on your 2132 homework assignments. On the command line, change into that directory using `cd`. Then run\n",
    "\n",
    "```bash\n",
    "$git clone [URL]\n",
    "```\n",
    "\n",
    "where `[URL]` should be replaced with the URL for your homework0 github repository (that you copied in the previous step -- paste it here). Git will clone a copy of the repository from Github and create a new directory. You can work in this directory to modify the code and complete the assignment. Then use add, commit, and push (**important** don't forget to push) to submit the assignment."
   ]
  },
  {
   "cell_type": "code",
   "execution_count": null,
   "id": "af988b60-93cb-4a4a-8d7a-8e494abc38b5",
   "metadata": {},
   "outputs": [],
   "source": []
  }
 ],
 "metadata": {
  "kernelspec": {
   "display_name": "Python 3 (ipykernel)",
   "language": "python",
   "name": "python3"
  },
  "language_info": {
   "codemirror_mode": {
    "name": "ipython",
    "version": 3
   },
   "file_extension": ".py",
   "mimetype": "text/x-python",
   "name": "python",
   "nbconvert_exporter": "python",
   "pygments_lexer": "ipython3",
   "version": "3.12.2"
  }
 },
 "nbformat": 4,
 "nbformat_minor": 5
}
