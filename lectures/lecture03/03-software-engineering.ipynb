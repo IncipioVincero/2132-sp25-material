{
 "cells": [
  {
   "cell_type": "markdown",
   "id": "341dba1a-dd1e-4d49-850e-d64d61b3f241",
   "metadata": {},
   "source": [
    "# COMS W3231 Intermediate Computing in Python\n",
    "## Introduction to Python Software Engineering\n",
    "\n",
    "**Date**: January 29, 2025\\\n",
    "Daniel Bauer (original notes on Top-Down design by Jan Janak)\n",
    "\n",
    "---"
   ]
  },
  {
   "cell_type": "markdown",
   "id": "858dfd60-e5a5-41b5-be0a-4fe824d51237",
   "metadata": {},
   "source": [
    "## Software Engineering vs. Programming\n",
    "\n",
    "Software Engineering is concerned with the design, implementation, testing, and maintainance of software systems. Programming/Coding focuses only on the implementation part.\n",
    "\n",
    "You are probably reasonably good programmers at this point. A main goal of this course is to teach you how to be a software software engineer. \n",
    "\n",
    "\"[Software Engineering is] the application of a systematic, disciplined, quantifiable approach to the development, operation, and maintenance of software.\"—IEEE Standard Glossary of Software Engineering Terminology _In human terms: it is a methodology for systematic software development._\n",
    "\n",
    "Here are some aspect sof the general software engineering workflow we will discuss in this course: \n",
    "* Think about the **design goals** of the project (what will it do, how will the end-user use it, what are some limitations)?\n",
    "* **Software Design:**\n",
    "    * Modularization. Identifying separate components that can be implemented independently. Specify how the components fit together.\n",
    "    * Top-Down Program Design.  \n",
    "    * Object Oriented Design. Abstract Data Types. Design Patterns.\n",
    "* **Implementation:**\n",
    "    * Implement each component, adhering to the design specification.\n",
    "    * Documentation, Debugging\n",
    "* **Testing**\n",
    "* **Deployment and maintenace**\n",
    "\n"
   ]
  },
  {
   "cell_type": "markdown",
   "id": "184c8f1a-9c1f-4a0a-a0c4-566ac8e93316",
   "metadata": {
    "jp-MarkdownHeadingCollapsed": true
   },
   "source": [
    "### Top-down Program Design (a.k.a. Wishful Programming)\n",
    "\n",
    "**Top-down Design**: Top-down program design is a particular software engineering strategy. The core idea is to divide the program up into individual components (functions, objects) that operate independently through a clearly defined interface. \n",
    "\n",
    "Initially, these components act like black boxes -- we wish/assume they were already implemented and work correctly. Then, we repeat the design process for each black box, potentially decomposing it into other components.\n",
    "\n",
    "This is a form of **abstraction**: Initially, we do not have to worry about **how** each component is implemented. We just have to understand **what** it is supposed to do. \n",
    "\n",
    "Let's see an example of how we can put this definition into practice. We will design a non-trivial program. We will use functions to divide a larger, intimidating problem into manageable chunks that could be implemented incrementally and independently."
   ]
  },
  {
   "cell_type": "markdown",
   "id": "51f277bb-d9b5-4166-8c2e-3e1e33007487",
   "metadata": {},
   "source": [
    "### Example: The Game of Pig\n",
    "\n",
    "Pig is a two-player dice game. Players take turns to roll a single die as many times as they want. They add each result to a running total. But if they roll 1, they lose the gained score in this run and their turn is over. The first player to score 100 or more points wins.\n",
    "\n",
    "#### Rules\n",
    "A player repeatedly rolls a die until a 1 is rolled or they choose to \"hold\":\n",
    "  * If the player rolls a 1, they score nothing in the run.\n",
    "  * If the player rolls any other number, it is added to their running total, and the player continues.\n",
    "  * If the player \"holds\", their total for this run is added to their score, and it becomes the other player's turn.\n",
    "  * The first player to score 100 or more points wins."
   ]
  },
  {
   "cell_type": "markdown",
   "id": "9726b0d2-5aff-4026-9df4-2dd3c7ad3a52",
   "metadata": {},
   "source": [
    "Let's consider how we can implement the game in Python. The objective is for a single user to play against the computer interactively. We will start by *wishing* Python had a built-in function to play the game! Of course, we will have to implement it ourselves. Thinking this through (without programming) will guide us through the process."
   ]
  },
  {
   "cell_type": "markdown",
   "id": "bbbd4df0-1736-44dc-8d91-b94c86e70b12",
   "metadata": {},
   "source": [
    "We wish Python had a function called pig that we could run:\n",
    "```python\n",
    "pig()\n",
    "```\n",
    "\n",
    "The function does not exist, so let's consider how to implement it at a high level. Maybe we want this function to do three things:\n",
    "  1. Display the rules\n",
    "  2. Play the game\n",
    "  3. Congratulate the winner\n",
    "\n",
    "Displaying the rules is simple. We know how to do that with just basic Python:\n",
    "```python\n",
    "def display_rules():\n",
    "    print(\"Welcome to the Game of Pig!\")\n",
    "    print(\"Roll the die as many times as you want or hold\")\n",
    "    print(\"If you roll one, you lose the score from the current turn\")\n",
    "    print(\"The first player to score 100 or more wins!\")\n",
    "```"
   ]
  },
  {
   "cell_type": "markdown",
   "id": "0a70bc84-7d34-4b6b-9556-fa65390900dd",
   "metadata": {},
   "source": [
    "Congratulating the winner is also simple:\n",
    "```python\n",
    "def congratulate_winner():\n",
    "    print(\"Congratulations!\")\n",
    "```"
   ]
  },
  {
   "cell_type": "markdown",
   "id": "de3e42af-6f11-472d-9946-1757fdc0848b",
   "metadata": {},
   "source": [
    "Now the function to **Play the game**. This will be a little harder, but we can apply top-down design to this function as well. What does the function do at a high level?\n",
    "  1. Player 1 takes turn\n",
    "  2. Player 2 takes turn\n",
    "  3. Repeat steps 1 and 2 until somebody wins\n",
    "  4. Announce winner"
   ]
  },
  {
   "cell_type": "markdown",
   "id": "d30ef396-299d-4b7d-b3aa-1cf33ed29325",
   "metadata": {},
   "source": [
    "Let's go ahead and refine it. The repetition calls for a `while` or `for` loop:\n",
    "```python\n",
    "while (nobody has won):\n",
    "    Player 1 takes turn\n",
    "    Player 2 takes turn\n",
    "\n",
    "Announce winner\n",
    "```"
   ]
  },
  {
   "cell_type": "markdown",
   "id": "aabe4553-71a2-4e7b-8eae-efdd7dde34bb",
   "metadata": {},
   "source": [
    "Let's refine the while expression to make it look more like something Python can understand. \"Nobody has won\" means neither player scored 100 or more. We probably need some variables to keep track of the scores. Nevermind that the variable do not exist yet:\n",
    "```python\n",
    "while (player1_score < 100 and player2_score < 100):\n",
    "    Player 1 takes turn\n",
    "    Player 2 takes turn\n",
    "\n",
    "Announce winner\n",
    "```"
   ]
  },
  {
   "cell_type": "markdown",
   "id": "861a393a-d424-4fee-85a9-942c7a00a883",
   "metadata": {},
   "source": [
    "There is a catch in the body of the `while` loop now. What if player 1 reaches 100? Player 2 should not get another turn in that case:\n",
    "```python\n",
    "while (player1_score < 100 and player2_score < 100):\n",
    "    Player 1 takes turn\n",
    "    if player1_score < 100:\n",
    "        Player 2 takes turn\n",
    "\n",
    "Announce winner\n",
    "```"
   ]
  },
  {
   "cell_type": "markdown",
   "id": "0c827d95-61bb-442d-a978-c013303b2e46",
   "metadata": {},
   "source": [
    "Now the function **Play the game** seems almost right, except for \"Player 1 takes turn\", \"Player 2 takes turn\", and \"Announce winner\". Let's move one layer lower and work on those functions now."
   ]
  },
  {
   "cell_type": "markdown",
   "id": "47f00c4c-cd37-43cd-96b9-7cbd566c89fb",
   "metadata": {},
   "source": [
    "**Player 1 takes turn** needs to perform the following:\n",
    "  1. Roll the die\n",
    "  2. Show the result\n",
    "  3. If roll == 1 then set turn_score to zero and end turn\n",
    "  4. Else add the roll to turn_score and ask if the player wants to roll again\n",
    "  5. Repeat until roll == 1 or the player holds\n",
    "\n",
    "Just like before, we can refine this into a more Pythonic-looking pseudo-code:\n",
    "\n",
    "```python\n",
    "turn_score = 0\n",
    "while (player wants to roll again and roll != 1):\n",
    "    roll the die\n",
    "    show the result\n",
    "    if roll == 1:\n",
    "        turn_score = 0\n",
    "        end the turn\n",
    "    else\n",
    "        turn_score += roll\n",
    "        ask player if roll again\n",
    "return turn_score\n",
    "```"
   ]
  },
  {
   "cell_type": "markdown",
   "id": "99d24e4b-b203-4f23-9372-eb334daf3d1d",
   "metadata": {},
   "source": [
    "Getting close. We need to provide functions \"roll the dice\" and \"show the result\" but that's simple with built-in modules:\n",
    "```python\n",
    "import random\n",
    "\n",
    "def roll_the_die():\n",
    "    return random.randint(1, 6)\n",
    "\n",
    "def show_the_result(value):\n",
    "    print(f\"Rolled {value}\")\n",
    "```"
   ]
  },
  {
   "cell_type": "markdown",
   "id": "026ec471-9ed9-4298-b4f4-ba10d973b6e7",
   "metadata": {},
   "source": [
    "**Player 2 takes turn**: Player 2 will be the computer. The implementation here will be slightly different because the computer must decide whether to roll or hold. How does the computer decide? The simplest strategy is to let the computer roll until it reaches a certain score, say, 20. Then it holds. Not the best, but for our example, it will do:\n",
    "```python\n",
    "turn_score = 0\n",
    "while (turn_score < 20 and roll != 1):\n",
    "    roll the die\n",
    "    show the result\n",
    "    if roll == 1:\n",
    "        turn_score = 0\n",
    "        end the turn\n",
    "    else\n",
    "        turn_score += roll\n",
    "return turn_score\n",
    "```"
   ]
  },
  {
   "cell_type": "markdown",
   "id": "d58934f1-fe65-4b3e-88e0-922b0a8e18fe",
   "metadata": {},
   "source": [
    "Now we are ready to sit down and create the Python program. We simply take the function we have developed above and refine them until the program works. This should not take that much work anymore. Furthermore, it should be mostly mechanical work."
   ]
  },
  {
   "cell_type": "code",
   "execution_count": null,
   "id": "2bc25542-1cca-4a9b-aaa6-876fcf612a12",
   "metadata": {},
   "outputs": [],
   "source": [
    "import random\n",
    "\n",
    "def roll_the_die():\n",
    "    return random.randint(1, 6)\n",
    "\n",
    "def show_the_result(value):\n",
    "    print(f\"Rolled {value}\")\n",
    "\n",
    "def display_rules():\n",
    "    print(\"Welcome to the Game of Pig!\")\n",
    "    print(\"Roll the die as many times as you want or hold\")\n",
    "    print(\"If you roll one, you lose the score from the current turn\")\n",
    "    print(\"The first player to score 100 or more wins!\")\n",
    "    print(\"\")\n",
    "\n",
    "def congratulate_winner():\n",
    "    print(\"Congratulation!\")\n",
    "\n",
    "def player_1_turn():\n",
    "    print(\"Your turn\")\n",
    "    turn_score = 0\n",
    "    again = 'y'\n",
    "    roll = 0\n",
    "    while (again == 'y' and roll != 1):\n",
    "        roll = roll_the_die()\n",
    "        show_the_result(roll)\n",
    "        if roll == 1:\n",
    "            turn_score = 0\n",
    "            print(f\"Your turn score is {turn_score}\")\n",
    "            break\n",
    "        else:\n",
    "            turn_score += roll\n",
    "            print(f\"Your turn score is {turn_score}\")\n",
    "            again = input(\"Roll again? (y/n)\")\n",
    "    return turn_score    \n",
    "\n",
    "def player_2_turn():\n",
    "    print(\"Computer's turn\")\n",
    "    turn_score = 0\n",
    "    roll = 0\n",
    "\n",
    "    while (turn_score < 20 and roll != 1):\n",
    "        roll = roll_the_die()\n",
    "        show_the_result(roll)\n",
    "        if roll == 1:\n",
    "            turn_score = 0\n",
    "            break\n",
    "        else:\n",
    "            turn_score += roll\n",
    "            print(f\"Computer's turn score is {turn_score}\")\n",
    "    return turn_score    \n",
    "\n",
    "def announce_winner(player1_score):\n",
    "    if player1_score >= 100:\n",
    "        print(\"User wins!\")\n",
    "    else:\n",
    "        print(\"Computer wins!\")\n",
    "\n",
    "def play_game():\n",
    "    player1_score = 0\n",
    "    player2_score = 0\n",
    "    while (player1_score < 100 and player2_score < 100):\n",
    "        player1_score += player_1_turn()\n",
    "        if player1_score < 100:\n",
    "            player2_score += player_2_turn()\n",
    "\n",
    "    announce_winner(player1_score)\n",
    "\n",
    "def pig():\n",
    "    display_rules()\n",
    "    play_game()\n",
    "    congratulate_winner()\n",
    "\n",
    "pig()"
   ]
  },
  {
   "cell_type": "markdown",
   "id": "867ea841-e74b-49a9-8d23-c39f4daa22a2",
   "metadata": {},
   "source": [
    "We started with a rough idea and incrementally refined the *pseudo-code* into something that resembled a Python program. We then sat down and typed the Python program based on the pseudo-code. Following this approach while working on more complex problems might save you time. Thinking ahead and expressing ideas in pseudo-code is a helpful approach. Start by assuming Python has all the functions that you need. Iteratively implement what is missing, applying the same design process to the components."
   ]
  },
  {
   "cell_type": "markdown",
   "id": "c42f039d-5deb-46d3-b96e-f83623c764d2",
   "metadata": {},
   "source": [
    "## OOP Design\n",
    "\n",
    "Let's apply the idea of **abstraction** we saw with functions above to Object Oriented Programming. In fact, the concept of abstraction is essential to object-oriented programming!\n",
    "\n",
    "Similar to how functions provide an abstraction over components of the code/functionality, objects provide an abstraction over data.\n",
    "\n",
    "Recall the three core aspects of Object Oriented Programming:\n",
    "\n",
    "* **Encapsulation**\n",
    "    * Objects bundle together data (data fields/instance variables) and functionality (methods). We can interact with the data by calling methods. When interacting with an object, we do not need to fully understand *how* the data is stored and how the methods are implemented, but only *what* is stored, and what the methods are supposed to do. \n",
    "* **Polymorphism**\n",
    "    * Allows objects of different classes to be treated as interchangeable. In Python, this usually means that these classes all implement certain required functionality. This is known as **Duck Typing** (*if it looks like a duck and quacks like a duck, it's a duck*). In Python, we can implement certain special methods to allow objects to be used using built-in Python syntax (for example, comparisons with <, >, ==).\n",
    "* **Inheritance**\n",
    "    * Classes can be related to each other through inheritance. A child class/subclass inherits the functionality of the parent class/superclass and may extend this functionality. Different subclasses can share the same functionality as the parent class.\n",
    " \n",
    "Together, these mechanisms make it possible to design programs using abstraction, treating objects as black boxes and \"wishing\" that they provide certain functionality."
   ]
  },
  {
   "cell_type": "markdown",
   "id": "f487fbda-7980-4046-b9e4-816e15630f0e",
   "metadata": {},
   "source": [
    "### Example 1: Reconsider Binary Search \n",
    "\n",
    "Binary search works by making repeated comparisons between the key (the target we are looking for) and the candidates in the list. *The <, >, and == operations are the only functionality we require of the objects in the list*."
   ]
  },
  {
   "cell_type": "code",
   "execution_count": 3,
   "id": "78305f9b-9171-4ef3-92bf-38c4e55ac58b",
   "metadata": {},
   "outputs": [
    {
     "name": "stdout",
     "output_type": "stream",
     "text": [
      "3\n",
      "Lisa\n"
     ]
    }
   ],
   "source": [
    "def binary_search(arr, x):\n",
    "  left = 0\n",
    "  right = len(arr)-1\n",
    "    \n",
    "  mid = (left + right) // 2\n",
    "  while left<=right and arr[mid] != x:\n",
    "      if arr[mid] > x: # x must be located in the first half\n",
    "        #arr[mid].__gt__(x)\n",
    "          \n",
    "        right = mid - 1\n",
    "\n",
    "      elif arr[mid] < x: # x must be located in second half\n",
    "        left = mid + 1\n",
    "\n",
    "      mid = (left + right) // 2\n",
    "\n",
    "  if left <= right:\n",
    "    return mid\n",
    "  else:\n",
    "    raise ValueError(\"Not found.\")\n",
    "\n",
    "\n",
    "class Customer:\n",
    "\n",
    "    def __init__(self, customer_id, name): \n",
    "        self.customer_id = customer_id\n",
    "        self.name = name\n",
    "        # could add other information about the customer here\n",
    "\n",
    "    def get_name(self): # \"getter\" method ensures encapsulation\n",
    "        return self.name\n",
    "\n",
    "    def get_id(self): \n",
    "        return self.customer_id\n",
    "\n",
    "    def __gt__(self, other): \n",
    "        if not isinstance(other, Customer):\n",
    "            raise TypeError(\"cannot compare Customer to\", type(other))\n",
    "        return self.customer_id > other.get_id()\n",
    "    \n",
    "    def __lt__(self, other): \n",
    "        if not isinstance(other, Customer):\n",
    "            raise TypeError(\"cannot compare Customer to\", type(other))\n",
    "        return self.customer_id < other.get_id()\n",
    "\n",
    "    def __eq__(self, other): \n",
    "        if not isinstance(other, Customer):\n",
    "            raise TypeError(\"cannot compare Customer to\", type(other))\n",
    "        return self.customer_id == other.get_id()\n",
    "\n",
    "\n",
    "\n",
    "c1 = Customer(1,\"Marge\")\n",
    "c2 = Customer(4,\"Homer\")\n",
    "c3 = Customer(8,\"Bart\")\n",
    "c4 = Customer(11,\"Lisa\")\n",
    "c5 = Customer(32,\"Maggie\")\n",
    "\n",
    "arr = [c1, c2, c3, c4, c5]\n",
    "\n",
    "found_idx = binary_search(arr,c4)\n",
    "print(found_idx)\n",
    "\n",
    "print(arr[found_idx].get_name())\n"
   ]
  },
  {
   "cell_type": "markdown",
   "id": "63e0f2cf-e195-4175-a121-1df29fca381f",
   "metadata": {},
   "source": [
    "### Example 2: Iterators and the Range class\n",
    "\n",
    "Recall the range function used for iteration. \n",
    "\n",
    "```python\n",
    "for i in range(10):\n",
    "    ...\n",
    "```\n",
    "\n",
    "range is actually a type, and range(10) instantiates this type into a range object. "
   ]
  },
  {
   "cell_type": "code",
   "execution_count": 6,
   "id": "66ad3112-243c-4465-a9bb-f8bb36c76c61",
   "metadata": {},
   "outputs": [
    {
     "data": {
      "text/plain": [
       "range(0, 3)"
      ]
     },
     "execution_count": 6,
     "metadata": {},
     "output_type": "execute_result"
    }
   ],
   "source": [
    "r = range(3)\n",
    "r"
   ]
  },
  {
   "cell_type": "markdown",
   "id": "ce9ce810-617c-4990-b443-0388407bbcfb",
   "metadata": {},
   "source": [
    "We have no idea how the range class is implemented, but we do know we can use it for iteration, just like other types of objects (so-called iterables). \n",
    "\n"
   ]
  },
  {
   "cell_type": "code",
   "execution_count": 130,
   "id": "e3cbd79c-d11e-4ac4-a7d8-a0688e16219f",
   "metadata": {},
   "outputs": [
    {
     "name": "stdout",
     "output_type": "stream",
     "text": [
      "0\n",
      "1\n",
      "2\n"
     ]
    }
   ],
   "source": [
    "for i in r: \n",
    "    print(i)"
   ]
  },
  {
   "cell_type": "code",
   "execution_count": 8,
   "id": "e8f28774-d9b9-432c-a961-705520a6ab45",
   "metadata": {},
   "outputs": [
    {
     "name": "stdout",
     "output_type": "stream",
     "text": [
      "12\n",
      "4\n",
      "1\n",
      "2\n"
     ]
    }
   ],
   "source": [
    "for i in [12, 4, 1, 2]:\n",
    "    print(i)"
   ]
  },
  {
   "cell_type": "markdown",
   "id": "c0e0cdac-017a-40cd-8313-4c9212a2ff3b",
   "metadata": {},
   "source": [
    "The reason why you can iterate over range objects and lists is that these types both implement the Iterable/Iterator protocol -- they are both iterables. This is a kind of OOP *design pattern*. "
   ]
  },
  {
   "cell_type": "markdown",
   "id": "32dee210-90d5-4633-8c6f-fcc4c79f5cc7",
   "metadata": {},
   "source": [
    "**Iterator:** An iterator is any object that supports the following method\n",
    "\n",
    "* `__next__()` - return the next item in the iteration. If no more items are left, raise a `StopIteration` exception.\n",
    "\n",
    "**Iterable:** An iterable is any object that supports the following method\n",
    "\n",
    "* `__iter__()` - return a new iterator."
   ]
  },
  {
   "cell_type": "markdown",
   "id": "4e4edbe4-b577-46f9-a905-8ccefe6c4709",
   "metadata": {},
   "source": [
    "For example"
   ]
  },
  {
   "cell_type": "code",
   "execution_count": 12,
   "id": "2db5e82d-630a-435e-9a46-e32719863f5a",
   "metadata": {},
   "outputs": [
    {
     "data": {
      "text/plain": [
       "<range_iterator at 0x111d9ab80>"
      ]
     },
     "execution_count": 12,
     "metadata": {},
     "output_type": "execute_result"
    }
   ],
   "source": [
    "range(3).__iter__()"
   ]
  },
  {
   "cell_type": "code",
   "execution_count": 14,
   "id": "58fb8339-89aa-4d67-bbc6-5441dc53a21a",
   "metadata": {},
   "outputs": [
    {
     "data": {
      "text/plain": [
       "<list_iterator at 0x104415c30>"
      ]
     },
     "execution_count": 14,
     "metadata": {},
     "output_type": "execute_result"
    }
   ],
   "source": [
    "[1,2,3].__iter__()"
   ]
  },
  {
   "cell_type": "code",
   "execution_count": 16,
   "id": "837cd63c-1c1f-492a-89cc-d824049f82ad",
   "metadata": {},
   "outputs": [
    {
     "data": {
      "text/plain": [
       "<list_iterator at 0x111d99870>"
      ]
     },
     "execution_count": 16,
     "metadata": {},
     "output_type": "execute_result"
    }
   ],
   "source": [
    "iter([1,2,3]) # built-in function iter just calls the special __iter__ method"
   ]
  },
  {
   "cell_type": "code",
   "execution_count": 34,
   "id": "f8f18422-9491-49e2-b23c-7549ba4ad50e",
   "metadata": {},
   "outputs": [],
   "source": [
    "it = range(3).__iter__() #iter(range(3))"
   ]
  },
  {
   "cell_type": "code",
   "execution_count": 36,
   "id": "175969f9-0d2d-461b-adb8-220ea7841405",
   "metadata": {},
   "outputs": [
    {
     "data": {
      "text/plain": [
       "<range_iterator at 0x112102520>"
      ]
     },
     "execution_count": 36,
     "metadata": {},
     "output_type": "execute_result"
    }
   ],
   "source": [
    "it"
   ]
  },
  {
   "cell_type": "code",
   "execution_count": 20,
   "id": "1b88bf34-8ede-420d-89a5-2846b4cae52a",
   "metadata": {},
   "outputs": [
    {
     "data": {
      "text/plain": [
       "0"
      ]
     },
     "execution_count": 20,
     "metadata": {},
     "output_type": "execute_result"
    }
   ],
   "source": [
    "next(it) # built-in function next just calls the special __next__ method"
   ]
  },
  {
   "cell_type": "code",
   "execution_count": 22,
   "id": "3a805ca7-cb62-4e1e-9e76-8249c1634135",
   "metadata": {},
   "outputs": [
    {
     "data": {
      "text/plain": [
       "1"
      ]
     },
     "execution_count": 22,
     "metadata": {},
     "output_type": "execute_result"
    }
   ],
   "source": [
    "next(it)"
   ]
  },
  {
   "cell_type": "code",
   "execution_count": 24,
   "id": "b7de808f-f059-4f32-8200-341340b43df1",
   "metadata": {},
   "outputs": [
    {
     "data": {
      "text/plain": [
       "2"
      ]
     },
     "execution_count": 24,
     "metadata": {},
     "output_type": "execute_result"
    }
   ],
   "source": [
    "next(it)"
   ]
  },
  {
   "cell_type": "code",
   "execution_count": 26,
   "id": "38fad9bb-a795-4159-81c5-afa4472c6c34",
   "metadata": {},
   "outputs": [
    {
     "ename": "StopIteration",
     "evalue": "",
     "output_type": "error",
     "traceback": [
      "\u001b[0;31m---------------------------------------------------------------------------\u001b[0m",
      "\u001b[0;31mStopIteration\u001b[0m                             Traceback (most recent call last)",
      "Cell \u001b[0;32mIn[26], line 1\u001b[0m\n\u001b[0;32m----> 1\u001b[0m \u001b[38;5;28mnext\u001b[39m(it)\n",
      "\u001b[0;31mStopIteration\u001b[0m: "
     ]
    }
   ],
   "source": [
    "next(it)"
   ]
  },
  {
   "cell_type": "markdown",
   "id": "e332fd5a-f9af-46da-8510-73861c1da1da",
   "metadata": {},
   "source": [
    "Question: Why separate iterators from iterables? \n",
    "\n",
    "* Iterating requires to keep track of the current state of the iteration, but we don't want to change the state/data of the iterable.\n",
    "* Consider what happens if you want to iterate over the same iterable multiple times."
   ]
  },
  {
   "cell_type": "code",
   "execution_count": 28,
   "id": "a56d13b5-5e69-4bd8-8694-4add0ff6ac2d",
   "metadata": {},
   "outputs": [
    {
     "name": "stdout",
     "output_type": "stream",
     "text": [
      "1 1\n",
      "1 2\n",
      "1 3\n",
      "2 1\n",
      "2 2\n",
      "2 3\n",
      "3 1\n",
      "3 2\n",
      "3 3\n"
     ]
    }
   ],
   "source": [
    "x = [1,2,3]\n",
    "for i in x: \n",
    "    for j in x: \n",
    "        print(i,j)"
   ]
  },
  {
   "cell_type": "markdown",
   "id": "f9a44edb-039d-4cd6-a8d3-1fd90337c885",
   "metadata": {},
   "source": [
    "**Implementing your own iterable:** We will implement our own Range class."
   ]
  },
  {
   "cell_type": "code",
   "execution_count": 64,
   "id": "ca5a455e-d8a4-4751-b841-49881eb33e50",
   "metadata": {},
   "outputs": [],
   "source": [
    "class RangeIterator:\n",
    "    \n",
    "    def __init__(self, start, stop): \n",
    "        self.items_in_range = []\n",
    "        current = start\n",
    "        while current < stop: \n",
    "            self.items_in_range.append(current)\n",
    "            current += 1\n",
    "\n",
    "        self.progress = 0\n",
    "\n",
    "    def __next__(self): # RangeItertor is an iterator, so it implements __next__\n",
    "\n",
    "        if self.progress >= len(self.items_in_range):\n",
    "            raise StopIteration\n",
    "        \n",
    "        item = self.items_in_range[self.progress]\n",
    "        self.progress += 1\n",
    "        return item\n",
    "        \n",
    "class Range:\n",
    "    def __init__(self, start, stop):\n",
    "        self.start = start\n",
    "        self.stop = stop\n",
    "\n",
    "    def __iter__(self): # Range is an iterable, so it has to implement __iter__\n",
    "        return RangeIterator(self.start, self.stop)\n",
    "        "
   ]
  },
  {
   "cell_type": "code",
   "execution_count": 66,
   "id": "e3f60c8c-4bbe-441e-a7b4-d3da88f53764",
   "metadata": {},
   "outputs": [],
   "source": [
    "r = Range(0,5)"
   ]
  },
  {
   "cell_type": "code",
   "execution_count": 68,
   "id": "1c788363-2479-43af-bda9-f38b3300978b",
   "metadata": {},
   "outputs": [],
   "source": [
    "it = iter(r)"
   ]
  },
  {
   "cell_type": "code",
   "execution_count": 70,
   "id": "bd325bf8-dd5f-407d-a9f3-98931e57b493",
   "metadata": {},
   "outputs": [
    {
     "data": {
      "text/plain": [
       "0"
      ]
     },
     "execution_count": 70,
     "metadata": {},
     "output_type": "execute_result"
    }
   ],
   "source": [
    "next(it)"
   ]
  },
  {
   "cell_type": "code",
   "execution_count": 72,
   "id": "eb96a964-48f7-4989-ada9-f7fb1dce6bd7",
   "metadata": {},
   "outputs": [
    {
     "data": {
      "text/plain": [
       "1"
      ]
     },
     "execution_count": 72,
     "metadata": {},
     "output_type": "execute_result"
    }
   ],
   "source": [
    "next(it)"
   ]
  },
  {
   "cell_type": "code",
   "execution_count": 76,
   "id": "50469c32-63fd-465a-8b53-404b28ef1a54",
   "metadata": {},
   "outputs": [
    {
     "name": "stdout",
     "output_type": "stream",
     "text": [
      "0\n",
      "1\n",
      "2\n",
      "3\n",
      "4\n"
     ]
    }
   ],
   "source": [
    "for i in Range(0,5): \n",
    "    print(i)"
   ]
  },
  {
   "cell_type": "markdown",
   "id": "225d251e-c33a-4819-87ec-105f40f6ed1d",
   "metadata": {},
   "source": [
    "Note that this implementation works! Again, in order to use the new Range class we do not have to worry about **how** it is implemented only **what** it is supposed to do. \n",
    "\n",
    "A closer look reveals that the implementation of the Range class is quite inefficient, at least in terms of memory use. There is no reason \n",
    "why we have to store all elements in the range in a list. Instead, we can just keep track of the current element. Each time next is called, we advance the current element until the stop position is reached. This is an example of *lazy evaluation*. "
   ]
  },
  {
   "cell_type": "code",
   "execution_count": 92,
   "id": "890e0f2c-7793-48bf-9730-45948295ce5c",
   "metadata": {},
   "outputs": [],
   "source": [
    "class RangeIterator:\n",
    "    \n",
    "    def __init__(self, start, stop): \n",
    "        self.current = start\n",
    "        self.stop = stop\n",
    "    \n",
    "    def __next__(self): # RangeItertor is an iterator, so it implements __next__\n",
    "\n",
    "        if self.current >= self.stop:\n",
    "            raise StopIteration\n",
    "        \n",
    "        item = self.current    #return self.current++ would work in Java, but not in Python\n",
    "        self.current += 1\n",
    "        return item\n",
    "            \n",
    "\n",
    "class Range:\n",
    "    def __init__(self, start, stop):\n",
    "        self.start = start\n",
    "        self.stop = stop\n",
    "\n",
    "    def __iter__(self):\n",
    "        return RangeIterator(self.start, self.stop)"
   ]
  },
  {
   "cell_type": "code",
   "execution_count": 94,
   "id": "7b299c65-9612-4a89-a651-5d566b72d504",
   "metadata": {},
   "outputs": [
    {
     "name": "stdout",
     "output_type": "stream",
     "text": [
      "0\n",
      "1\n",
      "2\n",
      "3\n",
      "4\n"
     ]
    }
   ],
   "source": [
    "for i in Range(0,5):\n",
    "    print(i)"
   ]
  },
  {
   "cell_type": "code",
   "execution_count": null,
   "id": "3221f284-2a5c-4e01-91e1-ec5704d2092e",
   "metadata": {},
   "outputs": [],
   "source": []
  }
 ],
 "metadata": {
  "kernelspec": {
   "display_name": "Python 3 (ipykernel)",
   "language": "python",
   "name": "python3"
  },
  "language_info": {
   "codemirror_mode": {
    "name": "ipython",
    "version": 3
   },
   "file_extension": ".py",
   "mimetype": "text/x-python",
   "name": "python",
   "nbconvert_exporter": "python",
   "pygments_lexer": "ipython3",
   "version": "3.12.2"
  }
 },
 "nbformat": 4,
 "nbformat_minor": 5
}
