{
 "cells": [
  {
   "cell_type": "markdown",
   "id": "4472105a-c3df-48e5-8b81-1524f6d72815",
   "metadata": {},
   "source": [
    "# COMS W2132 Intermediate Computing in Python\n",
    "## Algorithm Analysis\n",
    "\n",
    "**Date**: February 3 and February 5, 2024\\\n",
    "**Instructor**: Daniel Bauer <bauer@cs.columbia.edu> (original notes by Jan Janak)\n",
    "\n",
    "**Reading**: Textbook Chapter 3\n",
    "\n",
    "---"
   ]
  },
  {
   "cell_type": "markdown",
   "id": "0c0d556a-ef47-4acd-98a7-c2d5726c4ecd",
   "metadata": {},
   "source": [
    "Much of this semester will be dedicated to studying data structures and related algorithms in Python. We are not interested in studying just about any data structures or algorithms. We are particularly interested in studying **good** and **appropriate** data structures and algorithms. But how do we tell if a data structure or an algorithm is good? And what does it mean for it to be good? This topic will be the subject of this section.\n",
    "\n",
    "_We will only be covering the necessary algorithm analysis minimum here. This section aims to help you develop an intuition about data structures and algorithms._\n",
    "\n",
    "## Outline\n",
    "* Empirical approach\n",
    "  * Counting operations, measuring input size\n",
    "  * Worst / average / best case focus\n",
    "* Essential growth rates\n",
    "  * constant, logarithmic, linear, n-log-n, polynomial, exponential\n",
    "  * Comparison and practical implications (with examples)\n",
    "* Asymptotic analysis\n",
    "  * More systematic characterization of running times\n",
    "  * Big-O notation\n",
    "  * Simple algorithm justification techniques (induction, loop invariants)"
   ]
  },
  {
   "cell_type": "markdown",
   "id": "d28aed04-9abe-4c4d-9228-32e212c9a5ea",
   "metadata": {},
   "source": [
    "## Refresher\n",
    "\n",
    "**Data structure**: A systematic way of organizing and accessing data.\n",
    "\n",
    "**Algorithm**: A well-ordered sequence of operations that produce a result from some input and halt in a finite amount of time.\n",
    "\n",
    "**Program**: A formal specification of an algorithm that can be understood by computers and other programmers (\"a human-readable essay on computing\"). A program implements an algorithm.\n",
    "\n",
    "**Computing**: The activity of using or creating algorithmic processes to complete some task."
   ]
  },
  {
   "cell_type": "markdown",
   "id": "8a68963f-d7b3-47e4-b0dd-8332c564654a",
   "metadata": {},
   "source": [
    "To tell if a data structure or an algorithm is good, we must have a precise way of analyzing it. Remember that an algorithm must finish in a finite amount of time (otherwise, it is not an algorithm). Thus, we can characterize algorithms by looking at their <u>running time</u>. Algorithms should run as fast as possible, thus the running time is a natural measure of goodness. The second criterion is its <u>memory usage</u>, i.e., the amount of memory the algorithm needs.\n",
    "\n",
    "There are two general approaches to analyzing algorithms: empirical and analytical. The empirical approach relies on observations of the algorithm's running time or memory usage while processing various test inputs. The analytical approach analyzes the algorithm's specification in the form of a pseudo-code or program."
   ]
  },
  {
   "cell_type": "markdown",
   "id": "e1695a3a-fa64-4780-965d-4a04dc66c1a5",
   "metadata": {},
   "source": [
    "## Experimental Analysis (Empirical Approach)\n",
    "\n",
    "What is the most straightforward way of studying an algorithm's running time? Run its program on a computer and measure the time it takes for the program to complete with various inputs!"
   ]
  },
  {
   "cell_type": "markdown",
   "id": "ffdda154-51a1-4134-9200-5c0350877d18",
   "metadata": {},
   "source": [
    "Let's start with a simple example. Suppose we have a list of randomly generated numbers"
   ]
  },
  {
   "cell_type": "code",
   "execution_count": 7,
   "id": "030dce1d-64e5-4834-9c1c-9b14613e81da",
   "metadata": {},
   "outputs": [
    {
     "name": "stdout",
     "output_type": "stream",
     "text": [
      "[4, 64, 71, 35, 30, 2, 9, 67, 75]\n"
     ]
    }
   ],
   "source": [
    "import random\n",
    "lst = [ random.randint(0, 99) for _ in range(1000000)]\n",
    "print(lst[1:10])"
   ]
  },
  {
   "cell_type": "markdown",
   "id": "ae5b940b-3404-4e5d-aa75-b51f35bec302",
   "metadata": {},
   "source": [
    "And we write a function to find the minimum element in the list:"
   ]
  },
  {
   "cell_type": "code",
   "execution_count": 10,
   "id": "ce432976-7088-45c3-9a8b-0abdd8fab500",
   "metadata": {},
   "outputs": [],
   "source": [
    "def find_min(lst):\n",
    "    min = float('inf')\n",
    "    for el in lst:\n",
    "        if el < min:\n",
    "            min = el\n",
    "    return min"
   ]
  },
  {
   "cell_type": "markdown",
   "id": "b946ebbf-e87b-4a7d-b294-299dd3a54f51",
   "metadata": {},
   "source": [
    "We run the function and measure the time it takes for it to complete:"
   ]
  },
  {
   "cell_type": "code",
   "execution_count": 13,
   "id": "11408344-56e7-440a-9815-860af5253d6c",
   "metadata": {},
   "outputs": [
    {
     "name": "stdout",
     "output_type": "stream",
     "text": [
      "Elapsed time: 0.025593996047973633 s\n"
     ]
    }
   ],
   "source": [
    "from time import time\n",
    "\n",
    "# Run this with and without stress and compare the elapsed time\n",
    "start = time()\n",
    "find_min(lst)\n",
    "stop = time()\n",
    "print(f'Elapsed time: {stop - start} s')"
   ]
  },
  {
   "cell_type": "markdown",
   "id": "90f92c3f-f289-4352-985b-b4ea7f4fc5c9",
   "metadata": {},
   "source": [
    "If we generate more CPU load on the computer running this notebook the function will run longer. The running time of the find_min depends on the computer's hardware and software architecture and other currently running tasks! **Thus, this method is not reliable.** It also assumes that you have an implementation of the algorithm that you can run, which is not always the case."
   ]
  },
  {
   "cell_type": "markdown",
   "id": "7a4e25d6-45d1-438a-8de5-7106396d1f46",
   "metadata": {},
   "source": [
    "Assume no other tasks are running on the computer. We want to know how the running time depends on various inputs, so we would need to run the program repeatably with inputs of different types and sizes:"
   ]
  },
  {
   "cell_type": "code",
   "execution_count": 22,
   "id": "93cb0629-eec5-40c0-954c-6f956bd189a1",
   "metadata": {},
   "outputs": [],
   "source": [
    "n = 5000\n",
    "times = []\n",
    "for i in range(n):\n",
    "    lst = [ random.randint(0, 99) for _ in range(i)]\n",
    "    start = time()\n",
    "    \n",
    "    find_min(lst)\n",
    "\n",
    "    stop = time()\n",
    "    times.append(stop - start)"
   ]
  },
  {
   "cell_type": "markdown",
   "id": "e176d21e-2a93-460d-ab31-9aa00bc7b55c",
   "metadata": {},
   "source": [
    "The result then can be plotted:"
   ]
  },
  {
   "cell_type": "code",
   "execution_count": 24,
   "id": "ae1ff4de-80b4-424a-90ad-a4a3d3e9e4b8",
   "metadata": {},
   "outputs": [
    {
     "data": {
      "text/plain": [
       "[<matplotlib.lines.Line2D at 0x127ae73e0>]"
      ]
     },
     "execution_count": 24,
     "metadata": {},
     "output_type": "execute_result"
    },
    {
     "data": {
      "image/png": "[encoded data removed]",
      "text/plain": [
       "<Figure size 640x480 with 1 Axes>"
      ]
     },
     "metadata": {},
     "output_type": "display_data"
    }
   ],
   "source": [
    "from matplotlib import pyplot as plt\n",
    "%matplotlib inline\n",
    "\n",
    "plt.plot(range(n), times)"
   ]
  },
  {
   "cell_type": "markdown",
   "id": "ad16ff09-19cd-4fe0-b5db-5833b36a03a1",
   "metadata": {},
   "source": [
    "We see some outliers in the graph. My computer interrupted the program to run other tasks in those cases. If we ignore those, we see that we could interpolate a line. We say that the algorithm has a linear running time."
   ]
  },
  {
   "cell_type": "markdown",
   "id": "dea60097-da57-49bc-9274-51692db289f7",
   "metadata": {},
   "source": [
    "Let's perform a similar measurement for the binary search algorithm. Recall that binary search requires a sorted input list, so we need to sort our list of numbers first."
   ]
  },
  {
   "cell_type": "code",
   "execution_count": 36,
   "id": "0c47d3b4-f05b-443a-b9f0-ea3094537479",
   "metadata": {},
   "outputs": [],
   "source": [
    "from bisect import bisect_left\n",
    "\n",
    "def binary_search(a, x):\n",
    "    l = len(a)\n",
    "    pos = bisect_left(a, x, 0, l)\n",
    "    if pos != l and a[pos] == x:\n",
    "        return pos\n",
    "    else:\n",
    "        return -1\n",
    "\n",
    "\n",
    "n = 3000\n",
    "times = []\n",
    "for i in range(n):\n",
    "    lst = sorted([ random.randint(0, 99) for _ in range(i)])\n",
    "    start = time()\n",
    "    \n",
    "    binary_search(lst, 50)\n",
    "\n",
    "    stop = time()\n",
    "    times.append(stop - start)"
   ]
  },
  {
   "cell_type": "code",
   "execution_count": 37,
   "id": "63d25391-026f-413c-bacc-9f7ae2c92d8b",
   "metadata": {},
   "outputs": [
    {
     "data": {
      "text/plain": [
       "[<matplotlib.lines.Line2D at 0x13023bb30>]"
      ]
     },
     "execution_count": 37,
     "metadata": {},
     "output_type": "execute_result"
    },
    {
     "data": {
      "image/png": "[encoded data removed]",
      "text/plain": [
       "<Figure size 640x480 with 1 Axes>"
      ]
     },
     "metadata": {},
     "output_type": "display_data"
    }
   ],
   "source": [
    "#plt.ylim(0, 0.6e-05)\n",
    "plt.plot(range(n), times)"
   ]
  },
  {
   "cell_type": "markdown",
   "id": "3f49ca64-8b42-4622-84fe-e1ff2c1321e6",
   "metadata": {},
   "source": [
    "Question 1: How many iterations through the loop does binary search take?<br/>\n",
    "Answer 1: \n",
    "\n",
    "Question 2: What is the worst that can happen?<br/>\n",
    "Answer 2: \n",
    "\n",
    "Binary search has a logarithmic running time ($T(N) = \\log_2 N$) because, in every iteration, we split the list into two halves and search only one half.\n"
   ]
  },
  {
   "cell_type": "markdown",
   "id": "bbffc8ca-c82b-4231-a18e-34892e1140d8",
   "metadata": {},
   "source": [
    "This provides some intuition, but this method is generally unreliable. For more complicated cases that could not be eye-balled, we would need to perform statistical analysis to interpolate the data. But then we need good inputs and plenty of them to ensure the results are statistically significant. \n",
    "\n",
    "This method also does not allow comparing **algorithms**. \n",
    "* The comparison would be hardware dependent. \n",
    "* Different **programs** (in different languages) that implement the same **algorithm** may show different beheavior (at the margins).\n",
    "* Sometimes a full implementation is not even available (we may want to decide on a good algorithm before implementing it).\n",
    "\n",
    "This method is helpful in one case: the fine-tuning of production code. If you have some production code you are trying to optimize for performance, you could perform these measurements to learn how improvements and modifications affect it."
   ]
  },
  {
   "cell_type": "markdown",
   "id": "b66636b0-1825-419e-a8a4-35a1e0711831",
   "metadata": {},
   "source": [
    "## Counting Primitive Operations\n",
    "\n",
    "What if we wanted to analyze the running time of an algorithm:\n",
    "  * Without the influence of the HW or SW architecture.\n",
    "  * Based on a high-level description (without implementation)\n",
    "  * Taking into account all possible inputs"
   ]
  },
  {
   "cell_type": "markdown",
   "id": "a57561b6-4834-4a55-8265-5feb70b3abfb",
   "metadata": {},
   "source": [
    "If we cannot run experiments, we need to analyze some high-level description of the algorithm. The description will consist of primitive operations that somewhat correspond to low-level instructions of the computer.\n",
    "\n",
    "**The key idea**: assume the running time of each primitive operation is to be constant. \n",
    "\n",
    "**Approach**: count how many primitive operations are executed. Use that as a measure of the running time of an algorithm."
   ]
  },
  {
   "cell_type": "markdown",
   "id": "56061e9c-931d-40e4-8c43-0bba21e20abb",
   "metadata": {},
   "source": [
    "What could those operations be? Let's take a look at some code and see what primitive operations it uses:\n",
    "\n",
    "```python\n",
    "# The following program uses binary search to find value x in a sorted list li.\n",
    "\n",
    "left = 0\n",
    "right = len(li) - 1\n",
    "found = False\n",
    "\n",
    "while right >= left and not found:\n",
    "    mid = (left + right) // 2\n",
    "    \n",
    "    if li[mid] < x:\n",
    "        left = mid + 1\n",
    "    elif li[mid] > x:\n",
    "        right = mid - 1\n",
    "    else:\n",
    "        print(\"Found\", x, \"at index\", mid)\n",
    "        found = True\n",
    "        break\n",
    "```\n",
    "We have the following:\n",
    "  * Assigning a value to a variable (e.g., left = 0)\n",
    "  * Performing an arithmetic operation (e.g., mid + 1)\n",
    "  * Calling a function (excluding the function's body)\n",
    "  * Returning from a function\n",
    "  * Comparing numbers (e.g., li\\[mid\\] < x)\n",
    "  * Accessing a single element in a Python list (e.g., li\\[mid\\])\n",
    "\n",
    "Thus, the program performs constant-time operations before entering the while loop and only constant-time operations inside the while loop. So, the overall running time of the program will be dominated by the number of loop iterations.\n",
    "\n",
    "How many iterations are there? We see that the total number of iterations will be a function of the length of the list li. Recall how binary search works. We compare the searched item with the element in the middle of the list (called pivot). If not found, we repeat the process to the left or right **half** of the list, depending on the pivot value. This process is repeated until we find the item or run out of values. The length of the sub-list to be searched in every step halves. You can imagine that as traversing a binary tree from root to leaves. The height of the tree is $\\log n$, where $n$ is the length of the list. Thus, the loop runs at most $\\log n$ times."
   ]
  },
  {
   "cell_type": "markdown",
   "id": "bc8bc07d-6a2e-4ec9-905b-7031b3a6c01e",
   "metadata": {},
   "source": [
    "## Running Time as Function of Input Size"
   ]
  },
  {
   "cell_type": "markdown",
   "id": "9e7ca039-a15b-4d0d-8cf2-8da03f48d522",
   "metadata": {},
   "source": [
    "Most of the time, we are interested in something other than how an algorithm performs for an input of a particular size. We are interested to learn about the **order of growth** of the algorithm's running time, i.e., how the running time grows when the input size grows.\n",
    "\n",
    "Let's characterize the algorithm's running time as a function $f(n)$, where $n$ is the size of our input. The function characterizes the number of performed primitive operations as a function of input size $n$."
   ]
  },
  {
   "cell_type": "markdown",
   "id": "45e4ed55-23a6-45cc-aeab-60265776d6e9",
   "metadata": {},
   "source": [
    "Many algorithms run faster for some inputs than others. Think about the binary search algorithm. What if the element we search for is in the middle? At the beginning? At the end?"
   ]
  },
  {
   "cell_type": "markdown",
   "id": "6e70899a-a6af-4a51-8384-ca15c1096e40",
   "metadata": {},
   "source": [
    "We can identify a range of cases:\n",
    "  * Best case: The set of inputs for which the algorithm runs the fastest\n",
    "  * Average case: The average running time over all possible inputs of the same size\n",
    "  * __Worst case: The set of inputs for which the algorithm runs the slowest__\n",
    "\n",
    "The cases are summarized in the following diagram. Assuming input instances A through G are of the same size, we see that the algorithm runs faster for some and slower for others."
   ]
  },
  {
   "cell_type": "markdown",
   "id": "04bbe8bb-472d-4203-9d56-1e13fa764e51",
   "metadata": {},
   "source": [
    "<img src=\"https://janakj.org/w3132/runtimes.png\"/>"
   ]
  },
  {
   "cell_type": "markdown",
   "id": "6c8d6add-752f-4ead-b863-414a3bbee0c2",
   "metadata": {},
   "source": [
    "Which case best characterizes the algorithm? Intuitively, the average-case running time seems like the best characterization of the algorithm's running time because it averages its running time over all inputs of the same size. Unfortunately, average-case analysis requires us to define a probability distribution on the inputs, which can be challenging. The average-case running time is then the expected running time on the input distribution."
   ]
  },
  {
   "cell_type": "markdown",
   "id": "12431133-6aec-4201-bce6-dff35fbd3b27",
   "metadata": {},
   "source": [
    "In this course, we will characterize algorithms in terms of their worst-case running time. Such analysis only requires that we identify the worst-case input, which is often not difficult and can be done intuitively. In many applications, knowing the algorithm's worst-case running time is what we want, as we are typically interested to establish an upper bound on the running time, i.e., guarantee that the algorithm is not going to be slower (but may be faster in some cases)."
   ]
  },
  {
   "cell_type": "markdown",
   "id": "9133538f-7198-4b63-8e80-1552c538b0bb",
   "metadata": {},
   "source": [
    "## Essential Growth Rate Functions"
   ]
  },
  {
   "cell_type": "markdown",
   "id": "516147c4-6cc4-4fc9-9dce-6e0d3bac3cad",
   "metadata": {},
   "source": [
    "Theoretically, the function characterizing the algorithm's running time or memory requirements can be arbitrary. This makes algorithm analysis difficult in the general case. However, practically all algorithms we will study in this course can be characterized by one of the following six essential functions. Developing intuition about the growth rates of these six functions will allow us to compare most algorithms studied in this course.\n",
    "\n",
    "|    |             |                                                     |\n",
    "|----|-------------|-----------------------------------------------------|\n",
    "| 1. | Constant    | $f(n) = c$                                          |\n",
    "| 2. | Logarithm | $f(n) = \\log_b{n}$ for $b > 1$                      |\n",
    "| 3. | Linear      | $f(n) = n$                                          |\n",
    "| 4. | N-Log-N     | $f(n) = n\\log{n}$                                   |\n",
    "| 5. | Polynomial  | $f(n) = a_0 + a_{1}{n} + a_{2}n^2 + ... + a_{d}n^d$ |\n",
    "| 6. | Exponential |  $f(n) = b^n$                                       |"
   ]
  },
  {
   "cell_type": "markdown",
   "id": "e2c7879c-8fd3-41d9-82e3-d1649fe89206",
   "metadata": {},
   "source": [
    "### The Constant Function\n",
    "\n",
    "The constant function $f(n) = c$ for a fixed constant $c$ is the simplest function. _The running time of an algorithm with a constant growth rate does not depend on the size of the input._ We will be working with integer growth functions. The typical constant function will be $f(n) = 1$.\n",
    "\n",
    "The constant function is useful in characterizing primitive operations on a computer, e.g., comparison, addition, or variable assignments (see the section Counting Primitive Operations above).\n"
   ]
  },
  {
   "cell_type": "code",
   "execution_count": 72,
   "id": "ca57dae7-b595-406a-8856-68c3917dd3c0",
   "metadata": {},
   "outputs": [
    {
     "name": "stdout",
     "output_type": "stream",
     "text": [
      "5\n"
     ]
    }
   ],
   "source": [
    "lst = [1, 2, 3, 4, 5]\n",
    "print(len(lst))"
   ]
  },
  {
   "cell_type": "markdown",
   "id": "6cc24ed9-a87a-4c83-a18e-17917830fe71",
   "metadata": {},
   "source": [
    "### The Logarithm Function\n",
    "\n",
    "The logarithm function is defined as $ x = \\log_b n$ if and only if $ b^n = n$. By definition $ \\log_b 1 = 0$.\n",
    "\n",
    "The base $b$ in computer science is most commonly 2 because many algorithms repeatedly divide its inputs in half. It is so common that we will often write $\\log n$ instead of $\\log_2 n$.\n",
    "\n",
    "Some rules to know:\n",
    "  * Smalles integer greater $\\geq \\log_b n$, written as $\\lceil \\log_b n \\rceil$): the number of times we can divide $n$ by $b$. For example, $\\lceil \\log_3 27 \\rceil = ((27/3)/3)/3) = 1$\n",
    "  * $\\log_{b}(ac) = \\log_{b} a + \\log_{b} c $\n",
    "  * $\\log_{b}(a/c) = \\log_{b} a - \\log_{b} c$\n",
    "  * $\\log_{b}(a^c) = c \\log_{b}(a)$\n",
    "  * $\\log_{b} a = \\log_{d} a / \\log_{d} b$\n",
    "  * $b^{\\log_{d} a} = a^{\\log_d b}$"
   ]
  },
  {
   "cell_type": "markdown",
   "id": "c1ceeabb-4406-41ce-bc0e-22735fb81da8",
   "metadata": {},
   "source": [
    "### The Linear Function\n",
    "\n",
    "The linear function is defined as $f(n) = n$. This function characterizes algorithms that perform constant-time operations for each element. Example: an algorithm that performs arithmetic operations over a list of integers."
   ]
  },
  {
   "cell_type": "code",
   "execution_count": 75,
   "id": "f8a68049-b0c6-424f-983a-159d0299cfcd",
   "metadata": {},
   "outputs": [
    {
     "name": "stdout",
     "output_type": "stream",
     "text": [
      "[11, 12, 13]\n"
     ]
    }
   ],
   "source": [
    "def add_ten(lst):\n",
    "    rv = []\n",
    "    for item in lst:\n",
    "        rv.append(item + 10)\n",
    "    return rv\n",
    "\n",
    "lst = [1, 2, 3]\n",
    "print(add_ten(lst))"
   ]
  },
  {
   "cell_type": "markdown",
   "id": "da27bbd3-cea9-4166-bc81-827b82d61f15",
   "metadata": {},
   "source": [
    "### The N-Log-N Function\n",
    "\n",
    "The n-log-n function is defined as $f(n) = n \\log n$, where the logarithm is of base 2.\n",
    "\n",
    "Fastest possible general sorting algorithms require times proportional to $n \\log n$. "
   ]
  },
  {
   "cell_type": "markdown",
   "id": "a1e84440-bc82-4857-99ca-5ef66dcb77eb",
   "metadata": {},
   "source": [
    "### The Polynomial Function\n",
    "\n",
    "The polynomial function represents functions that are powers of the input size.\n",
    "\n",
    "A polynomial function has the form $f(n) = a_0 + a_1 n + a_2 n^2 + a_3 n^3 + ... a_d n^d$, where $a$ are constants called the coefficients, $a_d$ is not zero. Integer $d$, which represents the highest power, is called the **degree** of the polynomial.\n",
    "\n",
    "Running times with smaller degrees are better than running times with larger degrees.\n",
    "\n",
    "Examples: f(n) = 1, f(n) = n, $f(n) = 3 + n^4$. Note: many of the function discussed so far belong to the polynomial class. You could argue that there are only four essential functions.\n",
    "\n",
    "Quadratic function: $f(n) = n^2$\n",
    "\n",
    "  * special case: quadratic and nested loops: $1 + 2 + 3 + ... + (n - 2) + (n - 1) + n = \\frac{n(n + 1)}{2}$\n",
    "  * special case: cubic functions\n",
    "\n",
    "Know the summation notation: $ \\sum_{i=a}^b f(i) = f(a) + f(a + 1) + f(a + 2) + ... + f(b)$\n",
    "\n",
    "Summation notation for polynomials:\n",
    "$f(n) = \\sum_{i=0}^{d} a_in^i$"
   ]
  },
  {
   "cell_type": "markdown",
   "id": "b3aace71-3122-4ef7-a21f-ef50e1f38f47",
   "metadata": {},
   "source": [
    "### The Exponential Function\n",
    "\n",
    "The exponential function is of the form $f(n) = b^n$, where $b$ is a positive constant called the base and $n$ is the exponent.\n",
    "\n",
    "How to understand this: this function: multiple the base n times. In CS, the most common base is 2, i.e., $f(n) = 2^n$.\n",
    "\n",
    "Special: an integer of n bits can represent all non-negative integers less than $2^n$. Also: loops that double the number of operations in each iteration.\n",
    "\n",
    "Reading:\n",
    "  * proposition 3.4 in the textbook\n",
    "  * Paragraphs on geometric sums in the textbook\n"
   ]
  },
  {
   "cell_type": "code",
   "execution_count": 88,
   "id": "13ecd03c-065f-4d35-91cc-e42275a9f939",
   "metadata": {},
   "outputs": [
    {
     "data": {
      "text/plain": [
       "<matplotlib.legend.Legend at 0x7f9670bf8210>"
      ]
     },
     "execution_count": 88,
     "metadata": {},
     "output_type": "execute_result"
    },
    {
     "data": {
      "image/png": "[encoded data removed]",
      "text/plain": [
       "<Figure size 640x480 with 1 Axes>"
      ]
     },
     "metadata": {},
     "output_type": "display_data"
    }
   ],
   "source": [
    "import math\n",
    "from matplotlib import pyplot as plt\n",
    "%matplotlib inline\n",
    "\n",
    "n = 100\n",
    "\n",
    "#plt.ylim(0, 100)\n",
    "plt.yscale(\"log\")\n",
    "\n",
    "def constant():\n",
    "    return 1\n",
    "    \n",
    "y = [ constant() for v in range(1, n) ]\n",
    "plt.plot(range(1, n), y, label='constant')\n",
    "\n",
    "def logarithm(v):\n",
    "    return math.log2(v)\n",
    "\n",
    "y = [ logarithm(v) for v in range(1, n) ]\n",
    "plt.plot(range(1, n), y, label='logarithm')\n",
    "\n",
    "\n",
    "def linear(v):\n",
    "    return v\n",
    "\n",
    "y = [ linear(v) for v in range(1, n) ]\n",
    "plt.plot(range(1, n), y, label='linear')\n",
    "\n",
    "def nlogn(v):\n",
    "    return v * math.log2(v)\n",
    "\n",
    "y = [ nlogn(v) for v in range(1, n) ]\n",
    "plt.plot(range(1, n), y, label='nlogn')\n",
    "\n",
    "\n",
    "def polynomial(v):\n",
    "    return v * v\n",
    "\n",
    "y = [ polynomial(v) for v in range(1, n) ]\n",
    "plt.plot(range(1, n), y, label='polynomial')\n",
    "\n",
    "def exponential(v):\n",
    "    return math.pow(2, v)\n",
    "\n",
    "y = [ exponential(v) for v in range(1, n) ]\n",
    "plt.plot(range(1, n), y, label='exponential')\n",
    "\n",
    "# def super_exponential(v):\n",
    "#     return math.pow(v, v)\n",
    "\n",
    "# y = [ super_exponential(v) for v in range(1, n) ]\n",
    "# plt.plot(range(1, n), y, label='super_exponential')\n",
    "\n",
    "plt.legend()"
   ]
  },
  {
   "cell_type": "markdown",
   "id": "a3e5384c-5b1f-42ff-b30a-5fb29fd0fcd5",
   "metadata": {},
   "source": [
    "Summary: data operations ideally constant or logarithm\n",
    "algorithms ideally linear or n-log-n\n",
    "quadratic and cubit time is less practical\n",
    "exponential is infeasible"
   ]
  },
  {
   "cell_type": "markdown",
   "id": "f8e6aa01-7c1b-4714-854f-ebd13af95cbd",
   "metadata": {},
   "source": [
    "## Asymptotic Analysis (Analytical Approach)"
   ]
  },
  {
   "cell_type": "markdown",
   "id": "535a79b9-e646-4c3c-91d1-277d2e0600e6",
   "metadata": {},
   "source": [
    "Approach:\n",
    "  * Use a mathematical function notation\n",
    "  * Disregard constant factors\n",
    "  * Find the main factor that determines the growth rate in terms of input size $n$, i.e., disregard lower-order terms\n",
    "\n",
    "Think back to the counting approach discussed earlier. Here, we **estimate** the number of primitive operations (to a constant factor) in a hardware/software-independent manner."
   ]
  },
  {
   "cell_type": "markdown",
   "id": "ae0a97db-c86d-448c-a4da-009289db6461",
   "metadata": {},
   "source": [
    "### Example: find_min revisited\n",
    "\n",
    "Recall the find_min function discussed earlier:"
   ]
  },
  {
   "cell_type": "code",
   "execution_count": 89,
   "id": "f156ca8c-4b86-4b93-8433-f26b9fa506b2",
   "metadata": {},
   "outputs": [],
   "source": [
    "def find_min(lst):\n",
    "    \"Return the minimum element from the given list\"\n",
    "    min = float('inf')    # constant time operation \n",
    "    for el in lst:        # iterate over each element in the input\n",
    "        if el < min:      # constant-time operation\n",
    "            min = el      # constant time\n",
    "    return min"
   ]
  },
  {
   "cell_type": "markdown",
   "id": "874bc74e-14ff-4a08-88b4-ebad49f5a78d",
   "metadata": {},
   "source": [
    "Running time is proportional to $n$ because the loop executes for each element and the rest are primitive constant-time operations."
   ]
  },
  {
   "cell_type": "markdown",
   "id": "62691fde-4fe3-47c2-8d29-14ede2a68fe3",
   "metadata": {},
   "source": [
    "find_min = c1 + n*c3 = n "
   ]
  },
  {
   "cell_type": "markdown",
   "id": "7ddedac7-103f-4326-8d6d-b6d03c8bd4ea",
   "metadata": {},
   "source": [
    "### The \"Big-Oh\" Notation"
   ]
  },
  {
   "cell_type": "markdown",
   "id": "ebd492d5-0eed-49ce-8347-28f23c396b63",
   "metadata": {},
   "source": [
    "Suppose $f(n)$ and $g(n)$ are two functions mapping positive integers to real numbers. Further suppose that"
   ]
  },
  {
   "cell_type": "markdown",
   "id": "50b3f863-90a0-4cc8-948e-80f9b7388528",
   "metadata": {},
   "source": [
    "$$\n",
    "f(n) \\leq c \\cdot g(n)\n",
    "$$\n",
    "for $n \\geq n_0$, a real constant $c \\ge 0$, and an integer $n_0 \\geq 1$.\n",
    "\n",
    "We say that $f(n)$ \"is big-Oh\" of $g(n)$, or $f(n)$ is order of $g(n)$, written as $f(n)$ is $O(g(n))$.\n",
    "\n",
    "**We can also say that $f(n)$ is \"less than or equal to\" $g(n)$ up to a constant factor when $n$ grows to infinity.**"
   ]
  },
  {
   "cell_type": "markdown",
   "id": "841fd1a5-db07-47ff-854c-7305eb67552a",
   "metadata": {},
   "source": [
    "<img src=\"https://janakj.org/w3132/big-o.png\" width=500/>"
   ]
  },
  {
   "cell_type": "markdown",
   "id": "0fa9fa23-4d12-4422-968b-4eb2b726d9e4",
   "metadata": {},
   "source": [
    "If $f(n) = \\log n$ and $g(n) = n$, we can say that $f(n)$ is $O(g(n))$, since $f(n) \\leq c \\cdot g(n)$ when $n \\geq n_0$."
   ]
  },
  {
   "cell_type": "markdown",
   "id": "01f501e7-30ac-4413-b367-2b3be964985d",
   "metadata": {},
   "source": [
    "#### Some Examples"
   ]
  },
  {
   "cell_type": "markdown",
   "id": "1a1edacc-34f7-4d1e-aaba-a0d0b160f894",
   "metadata": {
    "jp-MarkdownHeadingCollapsed": true
   },
   "source": [
    "##### 1) 3n + 9 is O(n)"
   ]
  },
  {
   "cell_type": "markdown",
   "id": "7d1679fb-14f8-4d18-b124-59067d8f7cee",
   "metadata": {
    "jp-MarkdownHeadingCollapsed": true
   },
   "source": [
    "$f(n) = 3n + 9$\\\n",
    "$f(n)$ is $O(n)$\n",
    "\n",
    "Justification: find $c > 0$ and $n_0$ so that $3n + 9 \\leq cn$"
   ]
  },
  {
   "cell_type": "markdown",
   "id": "092c67ef-aa23-4faf-b110-4e977232d0d3",
   "metadata": {
    "jp-MarkdownHeadingCollapsed": true
   },
   "source": [
    "##### 2) find_min is O(n)"
   ]
  },
  {
   "cell_type": "markdown",
   "id": "c7ac5bc3-e419-4e3c-9ee0-a3732120895e",
   "metadata": {},
   "source": [
    "Now that we have the big-Oh notation, we can say that the algorithm find_min for finding the minimum element in a list of length $n$ runs in $O(n$) time.\n",
    "\n",
    "Justification: $c_1 + c_2 \\cdot n$, which is at most $n$, disregarding the constant factors, thus find_min(n) is $O(n)$."
   ]
  },
  {
   "cell_type": "markdown",
   "id": "d117cfaa-b559-43b6-8bdf-bc37aed8867b",
   "metadata": {
    "jp-MarkdownHeadingCollapsed": true
   },
   "source": [
    "##### 3) $5n^2 + 3n\\log n + 2n + 5$ is $O(n^2)$"
   ]
  },
  {
   "cell_type": "markdown",
   "id": "a9ea57cf-5984-4013-b6bd-2b110a640ecc",
   "metadata": {
    "jp-MarkdownHeadingCollapsed": true
   },
   "source": [
    "##### 4) $2^{n+2}$ is $O(2^n)$"
   ]
  },
  {
   "cell_type": "markdown",
   "id": "0860b3e9-e491-42e3-9aeb-c2ce5eb8c99e",
   "metadata": {},
   "source": [
    "##### 5) $2^{n+2} = 2^n \\cdot 2^2 = O(2^{n})$"
   ]
  },
  {
   "cell_type": "markdown",
   "id": "1ce23b7f-35f0-41ea-943e-3de3ec3b8da6",
   "metadata": {},
   "source": [
    "#### Considerations\n",
    "  * Always choose big-Oh as close to the function as possible\n",
    "  * Do not include constants and lower-order terms in the big-Oh notation\n",
    "  * The six essential functions (plus $n^2$) are most commonly used with big-Oh\n",
    "\n",
    "The general idea is that the big-Oh notation should be as simple as possible."
   ]
  },
  {
   "cell_type": "markdown",
   "id": "a0593177-524d-4f74-884f-28edf2560894",
   "metadata": {},
   "source": [
    "### Complementing Big-Oh: Big-Omega and Big-Theta"
   ]
  },
  {
   "cell_type": "markdown",
   "id": "dca97778-30b3-41d0-a18e-6a65e293b836",
   "metadata": {},
   "source": [
    "#### Big-Omega\n",
    "Big-Omega allows saying that a function grows at a rate that is \"greather than or equal\" than some other function (opposite of Big-Oh)."
   ]
  },
  {
   "cell_type": "markdown",
   "id": "bb022405-711e-4acd-b7a3-ef1f587c182d",
   "metadata": {},
   "source": [
    "$$\n",
    "f(n) \\geq c \\cdot g(n)\n",
    "$$\n",
    "for $n \\geq n_0$, a real constant $c \\ge 0$, and an integer $n_0 \\geq 1$.\n",
    "\n",
    "We say that $f(n)$ \"is big-Omega\" of $g(n)$ if $(g)$ is $O(f(n))$, written as $f(n)$ is $\\Omega(g(n))$."
   ]
  },
  {
   "cell_type": "markdown",
   "id": "3f1a7efb-9620-4eb7-8802-75d662b9766e",
   "metadata": {},
   "source": [
    "#### Big_Theta\n",
    "Big-Theta allows saying that two functions $f(n)$ and $g(n)$ grow at the same rate up to a constant factor."
   ]
  },
  {
   "cell_type": "markdown",
   "id": "a28d9e33-c71a-407c-963d-0a11e50398c8",
   "metadata": {},
   "source": [
    "$$\n",
    "c_1 \\cdot g(n) \\leq f(n) \\leq c_2 \\cdot g(n)\n",
    "$$\n",
    "for $n \\geq n_0$, a real constant $c \\ge 0$, and an integer $n_0 \\geq 1$.\n",
    "\n",
    "We say that $f(n)$ \"is big-Theta\" of $g(n)$ if $f(n)$ is $O(g(n))$ and $g(n)$ is $\\Omega(f(n))$, written as $f(n)$ is $\\Theta(g(n))$."
   ]
  },
  {
   "cell_type": "markdown",
   "id": "391912e0-f21d-4be0-abdf-a44a14827d6f",
   "metadata": {},
   "source": [
    "Example: $3n\\log n + 4n + 5 \\log n$ is $\\Omega(n \\log n)$ \\\n",
    "Justification for n >= 2: ...\n",
    "\n",
    "$3n \\log n + 4n + 5\\log n \\geq 3 n \\log n$"
   ]
  },
  {
   "cell_type": "markdown",
   "id": "e7349599-da61-47ce-bea3-45d90992812a",
   "metadata": {},
   "source": [
    "### One More Example\n",
    "  * Length of list or index access: constant time\n",
    "  * Returning values\n",
    "\n",
    "#### The Prefix Average Algorithm"
   ]
  },
  {
   "cell_type": "markdown",
   "id": "682c8e69-b0e5-495b-b9af-81f9efbcb21c",
   "metadata": {},
   "source": [
    "First version:\n",
    "```python\n",
    "def prefix_average1(S):\n",
    "    n = len(S)                  # constant-time\n",
    "    A = [0] * n                 # linear-time\n",
    "    for j in range(n):          # linear time (n)\n",
    "        total = 0               # constant time\n",
    "        for i in range(j + 1):  # linear time (n)\n",
    "            total += S[i]       # constant\n",
    "        A[j] = total / (j + 1)  # constant\n",
    "    return A                    # constant\n",
    "```\n",
    "n + n^2 = O(n^2)"
   ]
  },
  {
   "cell_type": "markdown",
   "id": "1bd3b615-ddd3-4472-8a9b-5fc223977e59",
   "metadata": {},
   "source": [
    "Second version:\n",
    "\n",
    "```python\n",
    "def prefix_average2(S):\n",
    "    n = len(S)             # constant time\n",
    "    A = [0] * n            # linear\n",
    "    total = 0              # constant\n",
    "    for j in range(n):     # linear time (n)\n",
    "        total += S[j]      # constant\n",
    "        A[j] = total / (j + 1) # constant\n",
    "    return A               # constant\n",
    "```\n",
    "n + n = O(n)"
   ]
  },
  {
   "cell_type": "markdown",
   "id": "d3ac1ae6-d04b-4f63-8c03-112e8957a644",
   "metadata": {
    "jp-MarkdownHeadingCollapsed": true
   },
   "source": [
    "### Summary\n",
    "\n",
    "  * For small n values, an asymptotically-better algorithm is not always better\n",
    "  * But, asymptotically slow algorithms will be beaten in the long run, even if the constant factor is worse\n",
    "  * Improvements in hardware do not matter in the long run if the algorithm is asymptotically slow\n",
    "  * Big-Oh can be misleading if the hidden factor is very large, for example, compare $100^{100}n$ with $10 n \\log n$.\n",
    "\n",
    "What is considered fast or efficient?\n",
    "  * Data structures: linear and logarithm\n",
    "  * Algorithms, n-log-n and polynomial"
   ]
  },
  {
   "cell_type": "markdown",
   "id": "9a0d6f07-f3f9-4bee-a31f-83946a7d74cd",
   "metadata": {},
   "source": [
    "### Justification Techniques"
   ]
  },
  {
   "cell_type": "markdown",
   "id": "f219e99b-abb1-4776-be95-e7a67be3c526",
   "metadata": {},
   "source": [
    "Some algorithms are harder to justify than the prefix average algorithm. This will be the case for some of the algorithm introduced later in this course. In addition to showing how fast it runs, we may also need to rigorously show that it is correct. We will use mathematical language to justify our claims."
   ]
  },
  {
   "cell_type": "markdown",
   "id": "9550ec5a-0e79-4fcd-947d-a82ad43b8c09",
   "metadata": {},
   "source": [
    "#### Induction"
   ]
  },
  {
   "cell_type": "markdown",
   "id": "d1fad5ac-9f9f-43f3-ada7-2e97336ae4bb",
   "metadata": {},
   "source": [
    "So far, we have been saying that some statement $f(n)$ is true for $n \\geq 1$. Thus, we are making a statement about an infinite set of numbers. Claims like these can be formally justified with **induction and loop invariants**."
   ]
  },
  {
   "cell_type": "markdown",
   "id": "d52f17dc-952d-4ac2-8fe9-2ee8510e5c35",
   "metadata": {},
   "source": [
    "The induction techniques works as follows:\n",
    "  1. We show that $f(n)$ is true for $n = 1$. This is often trivial.\n",
    "  2. We justify that an *inductive step* is true for $n > k$ for some arbitrary constant $k$.\n",
    "\n",
    "In other words, we show that if $f(j)$ is true for all $j < n$ then $f(n)$ is true."
   ]
  },
  {
   "cell_type": "markdown",
   "id": "d28aea82-5acc-4768-b567-9c3d49b2da07",
   "metadata": {},
   "source": [
    "##### Example: Fibonacci function\n",
    "\n",
    "$fib(1) = 1$, $fib(2) = 2$, $fib(n) = fib(n - 2) + fib(n - 1)$ for $n > 2$.\n",
    "\n",
    "We claim that $fib(n) < 2^n$.\n",
    "\n",
    "Inductive step for $n > 2$: $fib(n) = fib(n - 2) + fib(n - 1)$.\\\n",
    "We have that $fib(n) < 2^{n - 2} + 2^{n -1}$ since $2^{n-2} + 2^{n-1} < 2^{n-1} + 2^{n-1} = 2 \\cdot 2^{n-1} = 2^n$."
   ]
  },
  {
   "cell_type": "markdown",
   "id": "aa398696-f368-44b8-8e81-cd0426043daa",
   "metadata": {},
   "source": [
    "#### Loop Invariants"
   ]
  },
  {
   "cell_type": "markdown",
   "id": "b4f8a0d3-3487-4cb7-8945-68c50253c155",
   "metadata": {},
   "source": [
    "This technique is useful for proving statements about loops. It works as follows:\n",
    "  1. Define the loops in terms of statements $L_0$, $L_1$, ..., $L_k$.\n",
    "  2. Prove an initial claim $L_0$ is true before the loop begins\n",
    "  3. If $L_{j-1}$ is true before iteration $j$, then $L_j$ will be true after iteration $j$.\n",
    "  4. $L_k$ implies $L$ is true."
   ]
  },
  {
   "cell_type": "code",
   "execution_count": 70,
   "id": "472ec4a3-7b0b-43d9-9b3f-30d66edbd161",
   "metadata": {},
   "outputs": [],
   "source": [
    "def find(S, val):\n",
    "    n = len(S)\n",
    "    j = 0\n",
    "    while j < n:\n",
    "        if S[j] == val:\n",
    "            return j\n",
    "        j += 1\n",
    "    return -1"
   ]
  },
  {
   "cell_type": "markdown",
   "id": "3ac8635f-01e3-4afc-af6d-e49e87b4c147",
   "metadata": {},
   "source": [
    "Our claim ($L_j$): val is not equal to any of the first $j$ elements of $S$.\n",
    "\n",
    "  * Trivially tru for $j = 0$\n",
    "  * In iteration $j$, we return if they are equivalent. Otherwise we increment $j$ and $L_j$ is correct in next iteration.\n",
    "  * If we terminate without returning, we have $j = n$, i.e., $L_n$ is true, there are no elements equal to val."
   ]
  },
  {
   "cell_type": "code",
   "execution_count": null,
   "id": "1f58659d-ff30-4069-b083-14f8353cbf0c",
   "metadata": {},
   "outputs": [],
   "source": []
  }
 ],
 "metadata": {
  "kernelspec": {
   "display_name": "Python 3 (ipykernel)",
   "language": "python",
   "name": "python3"
  },
  "language_info": {
   "codemirror_mode": {
    "name": "ipython",
    "version": 3
   },
   "file_extension": ".py",
   "mimetype": "text/x-python",
   "name": "python",
   "nbconvert_exporter": "python",
   "pygments_lexer": "ipython3",
   "version": "3.12.2"
  }
 },
 "nbformat": 4,
 "nbformat_minor": 5
}
