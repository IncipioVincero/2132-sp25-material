{
 "cells": [
  {
   "cell_type": "markdown",
   "id": "4472105a-c3df-48e5-8b81-1524f6d72815",
   "metadata": {},
   "source": [
    "# COMS W3231 Intermediate Computing in Python\n",
    "## Arrays, Stacks, and Queues\n",
    "\n",
    "**Date**: February 10, 2025\\\n",
    "Daniel Bauer &lt;bauer@cs.columbia.edu&gt; (original notes by Jan Janak)\n",
    "\n",
    "**Reading**: Data Structures and Algorithms in Python, Chapter 6\n",
    "\n",
    "---"
   ]
  },
  {
   "cell_type": "markdown",
   "id": "5f9c1326-90db-44f2-b5c6-b9a53bdea0c4",
   "metadata": {},
   "source": [
    "## Review of Built-in Python Sequence Types"
   ]
  },
  {
   "cell_type": "markdown",
   "id": "dad0d463-d6fe-4aa9-9358-03320378153a",
   "metadata": {},
   "source": [
    "* Python's three built-in sequence types are lists, tuples, and strings.\n",
    "* Each supports indexing, i.e., access to individual elements using the syntax `seq[i]`.\n",
    "* **Important: indexing is guaranteed to be $O(1)$.**\n",
    "* All three sequence types are implemented using the same internal data structure called **array**.\n",
    "\n",
    "_We will use the built-in sequence types to build more complex data structures._"
   ]
  },
  {
   "cell_type": "code",
   "execution_count": null,
   "id": "c6e8324b-9d8e-4bf3-80dd-bae1f24cb1e9",
   "metadata": {},
   "outputs": [],
   "source": [
    "# Lists, tuples, and strings can be created using the literal syntax\n",
    "lst = [1, 2, 3]\n",
    "tpl = (4, 5, 6)\n",
    "txt = \"SAMPLE\"\n",
    "\n",
    "# And we can access and print individual elements using the integer indexing syntax\n",
    "print(lst[1])\n",
    "print(tpl[1])\n",
    "print(txt[1])"
   ]
  },
  {
   "cell_type": "markdown",
   "id": "8a28c760-369a-4c5c-88d3-c328b5834dd6",
   "metadata": {},
   "source": [
    "Lists, tuples, and strings internally store data in arrays. An array is a set of memory locations addressed using consecutive indices."
   ]
  },
  {
   "cell_type": "markdown",
   "id": "dbbfefee-05ff-4593-8d97-7f88f6576593",
   "metadata": {},
   "source": [
    "A memory location can store a value (e.g., a number or string character). This is called a compact array:\n",
    "\n",
    "<img src=\"https://janakj.org/w3132/images/compact-array.png\" width=300/>\n",
    "\n",
    "Python uses compact arrays to represent strings."
   ]
  },
  {
   "cell_type": "markdown",
   "id": "48f360b9-6fc4-485e-8472-b6e71f8fbe5c",
   "metadata": {},
   "source": [
    "A memory location can also store a reference to an object. This is called a referential array:\n",
    "\n",
    "<img src=\"https://janakj.org/w3132/images/referential-array.png\" width=600/>\n",
    "\n",
    "Referential arrays are used to represent lists and tuples. The above diagram represents the list\n",
    "\n",
    "```python\n",
    "names = [\"Rene\", \"Joseph\", \"Janet\", \"Jonas\", \"Helen\", \"Virginia\"]\n",
    "```"
   ]
  },
  {
   "cell_type": "markdown",
   "id": "03d386b2-9147-41f5-a64b-a3420b21d477",
   "metadata": {},
   "source": [
    "### Asymptotic Running Times of Elementary Operations on Arrays\n",
    "* Space (memory) used by arrays: $O(n)$, where $n$ is the number of elements\n",
    "* Integer indexing is always $O(1)$.\n",
    "* Insertion in the worst case is $O(n)$. The worst case is inserting an element at index 0. In that case, the entire array needs to be shifted by one memory location to make space for the new element. This operation takes $O(n)$.\n",
    "* Removal in the worst case is $O(n)$. See the justification in the previous bullet.\n",
    "* Appending is $\\Omega(n)$ and $O(1)$ amortized (see textbook Section 5.3)"
   ]
  },
  {
   "cell_type": "markdown",
   "id": "b2454852-4ce4-474e-8939-5eb7b4c48a6b",
   "metadata": {},
   "source": [
    "## Representing Multidimensional Data"
   ]
  },
  {
   "cell_type": "markdown",
   "id": "9a3ae370-ffa9-4047-8f27-31f1919a9a7a",
   "metadata": {},
   "source": [
    "Lists, tuples, and strings are one-dimensional, i.e., we use a single index to access elements. Many programs involve multi-dimensional data with two, three, or even more dimensions. How can we represent, for example, a 3x3 tic-tac-toe board?"
   ]
  },
  {
   "cell_type": "markdown",
   "id": "87e04566-6e75-4e9c-8f9c-75fcea65b3d6",
   "metadata": {},
   "source": [
    "We can represent a chessboard with a two-dimensional array, also called a matrix. We will use two indices $i$ (row) and $j$ (column) to refer to individual cells in the matrix. A common representation for such data is a list of lists. That is, the value is a list of rows, where each row is also a list."
   ]
  },
  {
   "cell_type": "code",
   "execution_count": 4,
   "id": "df850ace-8883-4ad6-86c6-0c8b10734c7e",
   "metadata": {},
   "outputs": [],
   "source": [
    "board = [\n",
    "    [1, 0, 0],\n",
    "    [0, 0, 0],\n",
    "    [0, 0, 0]\n",
    "]"
   ]
  },
  {
   "cell_type": "markdown",
   "id": "3600f80b-a5a2-40c1-862b-d6b1451fe660",
   "metadata": {},
   "source": [
    "We can then use natural indexing syntax to access individual elements"
   ]
  },
  {
   "cell_type": "code",
   "execution_count": 7,
   "id": "24d7c66e-2637-4a58-b94a-cf63156e43cf",
   "metadata": {},
   "outputs": [
    {
     "name": "stdout",
     "output_type": "stream",
     "text": [
      "1\n"
     ]
    }
   ],
   "source": [
    "# Accessing the element at row 0 column 0\n",
    "print(board[0][0])"
   ]
  },
  {
   "cell_type": "code",
   "execution_count": 9,
   "id": "abaef16d-6436-4b15-b33a-dd079d9dcb80",
   "metadata": {},
   "outputs": [
    {
     "name": "stdout",
     "output_type": "stream",
     "text": [
      "0\n"
     ]
    }
   ],
   "source": [
    "# Accessing the element at row 0 column 1\n",
    "print(board[0][1])"
   ]
  },
  {
   "cell_type": "markdown",
   "id": "79f36ee8-dbbe-4553-8d9c-bc7019d60c67",
   "metadata": {},
   "source": [
    "The construction syntax above assumes we know the dimensions (shape) of the matrix beforehand. What if we wanted to create a matrix dynamically? Suppose we have two variables `col` and `row` and want to create the corresponding matrix."
   ]
  },
  {
   "cell_type": "code",
   "execution_count": 11,
   "id": "5f8bd817-ba9b-49ad-b307-4ecccc88b8e5",
   "metadata": {},
   "outputs": [
    {
     "name": "stdout",
     "output_type": "stream",
     "text": [
      "[0, 0, 0, 0, 0, 0, 0, 0, 0, 0, 0, 0, 0, 0, 0]\n"
     ]
    }
   ],
   "source": [
    "# Store the dimensions of the matrix in two variables col and row\n",
    "col = 3\n",
    "row = 5\n",
    "\n",
    "def make_matrix(col, row):\n",
    "    # Try to create the matrix using the following syntax\n",
    "    matrix = ([0] * col) * row\n",
    "    return matrix\n",
    "\n",
    "# Show the result\n",
    "print(make_matrix(col, row))"
   ]
  },
  {
   "cell_type": "markdown",
   "id": "54e5b2e6-c860-4254-8b01-4133e92c564e",
   "metadata": {},
   "source": [
    "**That did not work. We ended up with a vector of `col*row` size.**"
   ]
  },
  {
   "cell_type": "markdown",
   "id": "b7198676-1acc-44a3-ae01-49a7a18b3ec7",
   "metadata": {},
   "source": [
    "Let's try something else. Maybe we can use the following syntax to create a list of lists:"
   ]
  },
  {
   "cell_type": "code",
   "execution_count": 14,
   "id": "d1e4a69c-a7e7-4cba-8974-fc83194c1eb6",
   "metadata": {},
   "outputs": [
    {
     "name": "stdout",
     "output_type": "stream",
     "text": [
      "[[0, 0, 0], [0, 0, 0], [0, 0, 0], [0, 0, 0], [0, 0, 0]]\n"
     ]
    }
   ],
   "source": [
    "def make_matrix(col, row):\n",
    "    # Try to create the matrix using the following syntax\n",
    "    onerow = [[0] * col]   #[[0,0,0,0,0]] * row\n",
    "    matrix = onerow * row\n",
    "    return matrix\n",
    "\n",
    "# Show the result\n",
    "print(make_matrix(col, row))"
   ]
  },
  {
   "cell_type": "code",
   "execution_count": 16,
   "id": "7b2d9c46-546f-43a1-b841-33eefabf6d35",
   "metadata": {},
   "outputs": [
    {
     "name": "stdout",
     "output_type": "stream",
     "text": [
      "[0, 0, 0, 0, 0]\n",
      "[0, 0, 0, 0, 0]\n",
      "[0, 0, 0, 0, 0]\n"
     ]
    }
   ],
   "source": [
    "matrix  = make_matrix(5,3)\n",
    "for row in matrix: \n",
    "    print(row)"
   ]
  },
  {
   "cell_type": "markdown",
   "id": "37d937a0-7f7e-445d-9fb7-9bb62d979db0",
   "metadata": {},
   "source": [
    "That looks better, but it still does not work the way we would expect. Notice what happens when we assign a value to one of the cells and print the result:"
   ]
  },
  {
   "cell_type": "code",
   "execution_count": 18,
   "id": "c386e9ac-0d9b-455d-af52-5eeea46efa21",
   "metadata": {},
   "outputs": [
    {
     "name": "stdout",
     "output_type": "stream",
     "text": [
      "[[42, 0, 0, 0, 0], [42, 0, 0, 0, 0], [42, 0, 0, 0, 0]]\n"
     ]
    }
   ],
   "source": [
    "matrix[2][0] = 42\n",
    "print(matrix)"
   ]
  },
  {
   "cell_type": "markdown",
   "id": "6ca3855e-5af6-4942-afcc-7b3e9bd2987f",
   "metadata": {},
   "source": [
    "We did not modify just one call; we changed the entire column! This is not what we expected. Why did this happen? Recall that built-in Python lists are implemented with referential arrays. The above syntax creates a matrix where all rows point to the same object:"
   ]
  },
  {
   "cell_type": "markdown",
   "id": "72e1cbfc-c8c9-4e05-bd01-5913cf897082",
   "metadata": {},
   "source": [
    "<img src=\"https://janakj.org/w3132/images/bad-matrix.png\" width=500/>"
   ]
  },
  {
   "cell_type": "markdown",
   "id": "5d480599-ff69-4118-87c9-355f35032ef7",
   "metadata": {},
   "source": [
    "So, we really only have one row. And that row is referenced three times from the enclosing (outer) list, as the above diagram shows."
   ]
  },
  {
   "cell_type": "markdown",
   "id": "b131fda8-903a-4c42-ac22-37fd1a1303c9",
   "metadata": {},
   "source": [
    "This kind of data structure is often helpful, but I myself wonder if the syntax `[[0] * col] * row` should work this way. This behavior is unexpected and tends to trip newcomers up. Just remember that creating a multidimensional array using list comprehensions can be tricky. Always double-check that your multi-dimensional data structure looks the way you expect."
   ]
  },
  {
   "cell_type": "markdown",
   "id": "3b3c28eb-80e0-448e-aa5b-c18054b622ec",
   "metadata": {},
   "source": [
    "The correct way to create a matrix, or an arbitrary multidimensional list, is with the following syntax:"
   ]
  },
  {
   "cell_type": "code",
   "execution_count": 30,
   "id": "3f179e86-a7bc-4226-a017-3d141e9da36b",
   "metadata": {},
   "outputs": [
    {
     "name": "stdout",
     "output_type": "stream",
     "text": [
      "[[0, 0, 0, 0, 0], [0, 0, 0, 0, 0], [42, 0, 0, 0, 0]]\n"
     ]
    }
   ],
   "source": [
    "# The correct way to create a matrix\n",
    "\n",
    "def make_matrix(col, row):\n",
    "    return [[0] * col for j in range(row)]\n",
    "\n",
    "#matrix = []\n",
    "#for j in range(row): \n",
    "#    new_row = [0] * col \n",
    "#    matrix.append(new_row)\n",
    "\n",
    "matrix = make_matrix(5,3)\n",
    "\n",
    "# Let's try to modify a single cell within the matrix\n",
    "matrix[2][0] = 42\n",
    "\n",
    "# Print the matrix to see the result\n",
    "print(matrix)"
   ]
  },
  {
   "cell_type": "markdown",
   "id": "a22250cb-1192-43e6-bcef-63b0153b784d",
   "metadata": {},
   "source": [
    "### Take-Aways from using Built-in Lists to Represent Multidimensional Data"
   ]
  },
  {
   "cell_type": "markdown",
   "id": "93a23255-bee1-4819-a1a6-7b6d3e9b07ff",
   "metadata": {},
   "source": [
    "* Multi-dimensional data can be tricky to implement using the built-in list and tuple types\n",
    "* The underlying structure is a referential array\n",
    "* Referential arrays are inefficient for large or highly dimensional data\n",
    "* Elements can have different data types and sizes (not necessarily what we expect or want)"
   ]
  },
  {
   "cell_type": "code",
   "execution_count": 40,
   "id": "8b5b47d5-562f-41fc-8190-4e06d553cfa3",
   "metadata": {},
   "outputs": [
    {
     "data": {
      "text/plain": [
       "[[0, 2, 3], [4, 5, 6], [7, 8, 9]]"
      ]
     },
     "execution_count": 40,
     "metadata": {},
     "output_type": "execute_result"
    }
   ],
   "source": [
    "li = [1,2,3]\n",
    "\n",
    "# shallow copy\n",
    "test = li\n",
    "\n",
    "# deep copy  \n",
    "test = li[:]\n",
    "\n",
    "\n",
    "x = [1,2,3]\n",
    "y = [4,5,6]\n",
    "z = [7,8,9]\n",
    "\n",
    "li = [x,y,z]\n",
    "test = li \n",
    "\n",
    "# shallow copy - inner lists are not duplicated \n",
    "li2 = li[:] \n",
    "\n",
    "\n",
    "li[0][0] = 0 \n",
    "li"
   ]
  },
  {
   "cell_type": "code",
   "execution_count": 34,
   "id": "4d7f62c5-58e0-45ac-97c9-5279105868ea",
   "metadata": {},
   "outputs": [
    {
     "data": {
      "text/plain": [
       "[[0, 2, 3], [4, 5, 6], [7, 8, 9]]"
      ]
     },
     "execution_count": 34,
     "metadata": {},
     "output_type": "execute_result"
    }
   ],
   "source": [
    "li2"
   ]
  },
  {
   "cell_type": "code",
   "execution_count": 36,
   "id": "cde85b57-f134-40b0-b9f8-d8351eb75837",
   "metadata": {},
   "outputs": [
    {
     "data": {
      "text/plain": [
       "False"
      ]
     },
     "execution_count": 36,
     "metadata": {},
     "output_type": "execute_result"
    }
   ],
   "source": [
    "li is li2"
   ]
  },
  {
   "cell_type": "code",
   "execution_count": 42,
   "id": "b9a04f56-d066-4efc-aa61-3279694a456b",
   "metadata": {},
   "outputs": [],
   "source": [
    "from copy import deepcopy \n",
    "\n",
    "li3 = deepcopy(li)\n"
   ]
  },
  {
   "cell_type": "code",
   "execution_count": 48,
   "id": "c073685b-bb99-4f4a-855e-ad2b1d7fb1c4",
   "metadata": {},
   "outputs": [
    {
     "data": {
      "text/plain": [
       "False"
      ]
     },
     "execution_count": 48,
     "metadata": {},
     "output_type": "execute_result"
    }
   ],
   "source": [
    "li3[0] is li[0]"
   ]
  },
  {
   "cell_type": "code",
   "execution_count": 50,
   "id": "f4a476db-4451-4853-8a47-469b1b297ed2",
   "metadata": {},
   "outputs": [
    {
     "data": {
      "text/plain": [
       "True"
      ]
     },
     "execution_count": 50,
     "metadata": {},
     "output_type": "execute_result"
    }
   ],
   "source": [
    "li2[0] is li[0]"
   ]
  },
  {
   "cell_type": "markdown",
   "id": "d3dd9d7f-f5eb-425d-8b44-b6a3011687a4",
   "metadata": {},
   "source": [
    "### Numpy"
   ]
  },
  {
   "cell_type": "code",
   "execution_count": null,
   "id": "8c5e023d-5443-4523-8438-af0c897a663d",
   "metadata": {},
   "outputs": [],
   "source": []
  },
  {
   "cell_type": "markdown",
   "id": "7dc5f795-d924-4737-81d4-0d40c8981706",
   "metadata": {},
   "source": [
    "In many cases, using the NumPy library to store multidimensional data is better. NumPy is not part of the standard Python library. It needs to be installed with pip or conda and imported:"
   ]
  },
  {
   "cell_type": "code",
   "execution_count": 54,
   "id": "fc627011-5217-45e8-a1f3-af757b1e237c",
   "metadata": {},
   "outputs": [],
   "source": [
    "import numpy"
   ]
  },
  {
   "cell_type": "markdown",
   "id": "6b9d632e-6464-4113-8f52-c1b20db0a668",
   "metadata": {},
   "source": [
    "Why use NumPy:\n",
    "* Numpy is a package for numeric computing in Python.\n",
    "* It provides an efficient data structure for numeric, n-dimensional arrays (ndarray)\n",
    "* Supports vector and matrix operations.\n",
    "* Numpy is implemented in C, so it is really fast and efficient."
   ]
  },
  {
   "cell_type": "code",
   "execution_count": 56,
   "id": "86bece96-8017-45d4-9f8d-7186330937ef",
   "metadata": {},
   "outputs": [
    {
     "name": "stdout",
     "output_type": "stream",
     "text": [
      "[[0 0 0]\n",
      " [0 0 0]\n",
      " [0 0 0]]\n"
     ]
    },
    {
     "data": {
      "text/plain": [
       "numpy.ndarray"
      ]
     },
     "execution_count": 56,
     "metadata": {},
     "output_type": "execute_result"
    }
   ],
   "source": [
    "# Creating multidimensional arrays using numpy.array is straightforward\n",
    "matrix = numpy.array([[0, 0, 0], [0, 0, 0], [0, 0, 0]])\n",
    "\n",
    "# See the result\n",
    "print(matrix)\n",
    "type(matrix)"
   ]
  },
  {
   "cell_type": "markdown",
   "id": "fcbbe979-82eb-42bf-91ba-6c9b2b95859b",
   "metadata": {},
   "source": [
    "Dynamic matrix creation is also straightforward without the gotchas mentioned above.\n",
    "\n",
    "The parameter `dtype=\"uint64\"` tells NumPy what data types cells should use. NumPy arrays are homogeneous. Each cell has a maximum value that it can store, determined by the data type."
   ]
  },
  {
   "cell_type": "code",
   "execution_count": 70,
   "id": "f5b62aea-e81c-405a-8914-5b1657fe4744",
   "metadata": {},
   "outputs": [
    {
     "name": "stdout",
     "output_type": "stream",
     "text": [
      "[[0 0 0 0 0]\n",
      " [0 0 0 0 0]\n",
      " [0 0 0 0 0]]\n",
      "[[0 0 0 0 0]\n",
      " [0 0 0 0 0]\n",
      " [0 0 0 0 0]]\n"
     ]
    },
    {
     "name": "stderr",
     "output_type": "stream",
     "text": [
      "/var/folders/7b/683qz2414xb4rjtstjwrhzg80000gn/T/ipykernel_85904/997118467.py:5: DeprecationWarning: NumPy will stop allowing conversion of out-of-bound Python integers to integer arrays.  The conversion of 256 to uint8 will fail in the future.\n",
      "For the old behavior, usually:\n",
      "    np.array(value).astype(dtype)\n",
      "will give the desired result (the cast overflows).\n",
      "  matrix[2,0] = 256\n"
     ]
    }
   ],
   "source": [
    "matrix = numpy.zeros((row, col), dtype=\"uint8\") # row x col matrix filled with zeros\n",
    "\n",
    "print(matrix)\n",
    "#matrix[2][0] = 42\n",
    "matrix[2,0] = 256\n",
    "print(matrix)"
   ]
  },
  {
   "cell_type": "markdown",
   "id": "9c0aa7d6-832e-46f1-80ef-562b9f50ac8e",
   "metadata": {},
   "source": [
    "The basic data type in numpy is the numpy **n-dimensional** array. These can be used to represent vectors (1D) matrices (2D) or tensors (nD).\n",
    "\n",
    "* 1 dimensions numpy arrays are often used to represent a series of data.\n",
    "* n-dimensional arrays often represent complete data sets (each column is a type of measurement).\n",
    "\n",
    "Numpy arrays are very similar to Python lists. Indexing and slicing works the same way (including assingments). *Unlike a Python list, all cells in the same array must contain the same data type.*\n",
    "\n",
    "Operators don't work the same for lists and arrays and there are many additional methods defined on them.\n",
    "\n",
    "Some more operations on 1D-arrays:"
   ]
  },
  {
   "cell_type": "code",
   "execution_count": 74,
   "id": "3a9503a0-4ae5-4940-bf05-79b87c43eaf8",
   "metadata": {},
   "outputs": [],
   "source": [
    "# u and v are two vectors\n",
    "u = numpy.array([1,2,3])\n",
    "v = numpy.array([4,5,6])"
   ]
  },
  {
   "cell_type": "code",
   "execution_count": 76,
   "id": "380b6e56-72c6-43b6-a07b-b6359628cdc8",
   "metadata": {},
   "outputs": [
    {
     "data": {
      "text/plain": [
       "array([5, 7, 9])"
      ]
     },
     "execution_count": 76,
     "metadata": {},
     "output_type": "execute_result"
    }
   ],
   "source": [
    "# Add vectors element wise\n",
    "u + v"
   ]
  },
  {
   "cell_type": "code",
   "execution_count": 78,
   "id": "f712fd2a-4211-4149-9d2e-443a7a8d9bda",
   "metadata": {},
   "outputs": [
    {
     "data": {
      "text/plain": [
       "array([5, 6, 7])"
      ]
     },
     "execution_count": 78,
     "metadata": {},
     "output_type": "execute_result"
    }
   ],
   "source": [
    "# Add scalar to a vector\n",
    "u + 4"
   ]
  },
  {
   "cell_type": "code",
   "execution_count": 80,
   "id": "16e5d7b5-8c06-42b4-8071-206e8b0e4606",
   "metadata": {},
   "outputs": [
    {
     "data": {
      "text/plain": [
       "array([ 4,  8, 12])"
      ]
     },
     "execution_count": 80,
     "metadata": {},
     "output_type": "execute_result"
    }
   ],
   "source": [
    "# Multiple vector's elements by a scalar\n",
    "u * 4"
   ]
  },
  {
   "cell_type": "markdown",
   "id": "3b64d042-3faa-4a06-9de0-52871a535152",
   "metadata": {},
   "source": [
    "Many Python built-in operators have been overloaded for numpy arrays to make working with vectors, matrices, and tensors easy."
   ]
  },
  {
   "cell_type": "markdown",
   "id": "94508afa-7287-41e0-aa82-82e19f818392",
   "metadata": {},
   "source": [
    "It's also easy to compute descriptive statistics for a series of data:"
   ]
  },
  {
   "cell_type": "code",
   "execution_count": null,
   "id": "08f5dc94-197a-4932-988a-7a5ec918955e",
   "metadata": {},
   "outputs": [],
   "source": [
    "u.max(), u.min(), u.mean(), u.std() # maximum, minimum, mean, standard deviation"
   ]
  },
  {
   "cell_type": "markdown",
   "id": "982bba99-a58d-447f-ab23-895974513fa0",
   "metadata": {},
   "source": [
    "#### Multi-dimensional numpy arrays"
   ]
  },
  {
   "cell_type": "code",
   "execution_count": 83,
   "id": "f93d01b6-5908-4a97-9d7c-860af0e9a442",
   "metadata": {},
   "outputs": [
    {
     "data": {
      "text/plain": [
       "(1, 3)"
      ]
     },
     "execution_count": 83,
     "metadata": {},
     "output_type": "execute_result"
    }
   ],
   "source": [
    "# Create directly using literals\n",
    "\n",
    "m = numpy.array([[1,2,3]])\n",
    "m.shape"
   ]
  },
  {
   "cell_type": "code",
   "execution_count": 85,
   "id": "a1a92545-c67e-4ed6-9ee8-00d69bfa60b5",
   "metadata": {},
   "outputs": [
    {
     "data": {
      "text/plain": [
       "(3,)"
      ]
     },
     "execution_count": 85,
     "metadata": {},
     "output_type": "execute_result"
    }
   ],
   "source": [
    "m = numpy.array([1,2,3])\n",
    "m.shape"
   ]
  },
  {
   "cell_type": "code",
   "execution_count": 87,
   "id": "6a0eb6a1-0444-427f-876b-c97beb8ebe97",
   "metadata": {},
   "outputs": [
    {
     "data": {
      "text/plain": [
       "array([ 0,  1,  2,  3,  4,  5,  6,  7,  8,  9, 10, 11, 12, 13, 14, 15, 16,\n",
       "       17, 18, 19, 20, 21, 22, 23, 24, 25, 26])"
      ]
     },
     "execution_count": 87,
     "metadata": {},
     "output_type": "execute_result"
    }
   ],
   "source": [
    "# Create a vector and reshape\n",
    "m = numpy.array(range(27))\n",
    "m"
   ]
  },
  {
   "cell_type": "code",
   "execution_count": 89,
   "id": "96c3d418-6344-4335-9644-9bd5056b9a56",
   "metadata": {},
   "outputs": [
    {
     "data": {
      "text/plain": [
       "array([[[ 0,  1,  2],\n",
       "        [ 3,  4,  5],\n",
       "        [ 6,  7,  8]],\n",
       "\n",
       "       [[ 9, 10, 11],\n",
       "        [12, 13, 14],\n",
       "        [15, 16, 17]],\n",
       "\n",
       "       [[18, 19, 20],\n",
       "        [21, 22, 23],\n",
       "        [24, 25, 26]]])"
      ]
     },
     "execution_count": 89,
     "metadata": {},
     "output_type": "execute_result"
    }
   ],
   "source": [
    "m2 = m.reshape((3,3,3))\n",
    "m2"
   ]
  },
  {
   "cell_type": "code",
   "execution_count": 111,
   "id": "96d25eab-1ab0-486c-bb9d-af3071f06c9c",
   "metadata": {},
   "outputs": [],
   "source": [
    "test = numpy.zeros((5,5), dtype = str)"
   ]
  },
  {
   "cell_type": "code",
   "execution_count": 121,
   "id": "021118c6-a732-429f-b801-a6d346f39a93",
   "metadata": {},
   "outputs": [
    {
     "data": {
      "text/plain": [
       "array(['h', '', '', '', ''], dtype='<U1')"
      ]
     },
     "execution_count": 121,
     "metadata": {},
     "output_type": "execute_result"
    }
   ],
   "source": [
    "test[0][0] = \"hello\"\n",
    "test[0]"
   ]
  },
  {
   "cell_type": "markdown",
   "id": "1e9fa14c-3e1b-4e29-8079-547777258879",
   "metadata": {},
   "source": [
    "**Consider NumPy to implement vectors, matrices, or tensors.**\n",
    "\n",
    "NumPy documentation: https://numpy.org/\n",
    "\n",
    "You can also find a separate Jupyter notebook in the Files section of CourseWorks dedicated to NumPy. That notebook shows many more useful operations that can be performed on NumPy arrays."
   ]
  },
  {
   "cell_type": "markdown",
   "id": "6a5d6cdf-aa2f-48ae-ba86-09b5cf7d1ad6",
   "metadata": {},
   "source": [
    "## Stacks"
   ]
  },
  {
   "cell_type": "markdown",
   "id": "c1337ddf-914e-4ee8-9354-c0c20ede79fc",
   "metadata": {},
   "source": [
    "Stacks are one of the most fundamental and useful data structures. Stacks are building blocks of many more sophisticated data structures that come later.\n",
    "\n",
    "The stack data structure has the following characteristics:\n",
    "* It is a collection of items (not necessarily of the same types)\n",
    "* New items can be inserted (pushed) at any time (the size is unbounded)\n",
    "* Only the most recently inserted item can be accessed (i.e., no indexing)\n",
    "* Only the most recently inserted item can be removed (popped)\n",
    "* The most recently inserted item is called the top of the stack\n",
    "\n",
    "We say a stack follows the last in, first out (LIFO) principle (the most recently pushed item is the one popped next).\n",
    "\n",
    "<img src=\"https://janakj.org/w3132/images/stack.png\" width=300/>"
   ]
  },
  {
   "cell_type": "code",
   "execution_count": 7,
   "id": "99e5dcbf-f66f-413b-99ff-d68356e10c1c",
   "metadata": {},
   "outputs": [
    {
     "name": "stdout",
     "output_type": "stream",
     "text": [
      "C\n",
      "B\n",
      "A\n"
     ]
    },
    {
     "ename": "IndexError",
     "evalue": "pop from empty list",
     "output_type": "error",
     "traceback": [
      "\u001b[0;31m---------------------------------------------------------------------------\u001b[0m",
      "\u001b[0;31mIndexError\u001b[0m                                Traceback (most recent call last)",
      "Cell \u001b[0;32mIn[7], line 9\u001b[0m\n\u001b[1;32m      6\u001b[0m \u001b[38;5;28mprint\u001b[39m(stack\u001b[38;5;241m.\u001b[39mpop())\n\u001b[1;32m      7\u001b[0m \u001b[38;5;28mprint\u001b[39m(stack\u001b[38;5;241m.\u001b[39mpop())\n\u001b[0;32m----> 9\u001b[0m stack\u001b[38;5;241m.\u001b[39mpop()\n",
      "\u001b[0;31mIndexError\u001b[0m: pop from empty list"
     ]
    }
   ],
   "source": [
    "stack = []\n",
    "stack.append(\"A\") # use append instead of push\n",
    "stack.append(\"B\")\n",
    "stack.append(\"C\")\n",
    "print(stack.pop())\n",
    "print(stack.pop())\n",
    "print(stack.pop())\n",
    "\n",
    "stack.pop()"
   ]
  },
  {
   "cell_type": "markdown",
   "id": "8a760353-4473-44e5-986e-b87011e613c2",
   "metadata": {},
   "source": [
    "### The Stack Abstract Data Type"
   ]
  },
  {
   "cell_type": "markdown",
   "id": "fc844c2b-e047-4a26-b77e-623d7c163db7",
   "metadata": {},
   "source": [
    "The abstract data type (ADT) is a contract between the data structure and the programmer. It defines the data and operations (methods) on the data. Since Python is an object-oriented language, we will model abstract data types with classes."
   ]
  },
  {
   "cell_type": "code",
   "execution_count": 3,
   "id": "da6e160f-0bb8-46ac-8a0d-0b14450bbb37",
   "metadata": {},
   "outputs": [],
   "source": [
    "class Empty(Exception):\n",
    "    '''Exception raised by stack operations on error\n",
    "\n",
    "    This exception is raised by the stack pop() operation when the stack is empty, i.e.,\n",
    "    there is nothing to pop.\n",
    "    '''    \n",
    "    pass\n",
    "\n",
    "\n",
    "class Stack:\n",
    "    '''This class represents the stack abstract data type\n",
    "\n",
    "    The methods below have empty bodies. We will implement them later in an actual\n",
    "    stack implementation based on a Python list.\n",
    "    '''\n",
    "    \n",
    "    def push(self, e):\n",
    "        'Add element e to the top of the stack' \n",
    "        pass\n",
    "\n",
    "    def pop(self):\n",
    "        'Remove and return the top element from the stack. Raise error if the stack is empty'\n",
    "        pass\n",
    "\n",
    "    def top(self):\n",
    "        'Return a reference to the top (without removing it)'\n",
    "        pass\n",
    "\n",
    "    def is_empty(self):\n",
    "        'Return True if the stack is empty and false otherwise'\n",
    "        pass\n",
    "\n",
    "    def __len__(self):\n",
    "        'Return the number of elements in the stack'\n",
    "        pass"
   ]
  },
  {
   "cell_type": "code",
   "execution_count": 5,
   "id": "a5a81ce8-4d81-4505-ad22-943db53516a1",
   "metadata": {},
   "outputs": [],
   "source": [
    "s = Stack()\n",
    "s.push(5)"
   ]
  },
  {
   "cell_type": "markdown",
   "id": "17220a4c-c5b8-49be-8d40-4a9872052469",
   "metadata": {},
   "source": [
    "### Implementing Stacks with Lists (Arrays)"
   ]
  },
  {
   "cell_type": "markdown",
   "id": "b9670d73-35a3-4c40-a9dc-a0fccc769911",
   "metadata": {},
   "source": [
    "Let's create an actual implementation of the stack ADT. We can use a list to store the stack's item. The operations on the stack can be mapped on the operations on the list as follows (S denotes a stack, L denotes a list):\n",
    "\n",
    "| Stack        | List        |\n",
    "|--------------|-------------|\n",
    "| S.push(e)    | L.append(e) |\n",
    "| S.pop()      | L.pop()     |\n",
    "| S.top()      | L\\[-1\\]     |\n",
    "| S.is_empty() | len(L) == 0 |\n",
    "| S.len()      | len(L)      |"
   ]
  },
  {
   "cell_type": "code",
   "execution_count": 45,
   "id": "1e6b554d-815c-4681-bd61-539e61f17655",
   "metadata": {},
   "outputs": [],
   "source": [
    "class ArrayStack(Stack):\n",
    "    'A stack implementation that stores elements in a built-in Python list'\n",
    "    \n",
    "    def __init__(self):\n",
    "        'Creates a new stack instance backed by a built-in Python list'\n",
    "        self._data = list()\n",
    "    \n",
    "    def push(self, e):\n",
    "        'Add element e to the top of the stack'\n",
    "        self._data.append(e)\n",
    "\n",
    "    def pop(self):\n",
    "        'Remove and return the top element from the stack. Raise error if the stack is empty'\n",
    "        if len(self._data) == 0:\n",
    "            raise Empty('The stack is empty')\n",
    "\n",
    "        return self._data.pop()\n",
    "    \n",
    "    def top(self):\n",
    "        'Return a reference to the top (without removing it)'        \n",
    "        if len(self._data) == 0:\n",
    "            raise Empty('The stack is empty')\n",
    "        \n",
    "        return self._data[-1]\n",
    "\n",
    "    def is_empty(self):\n",
    "        'Return True if the stack is empty and false otherwise'\n",
    "        return len(self._data) == 0\n",
    "\n",
    "    def __len__(self):\n",
    "        'Return the number of elements in the stack'\n",
    "        return len(self._data)\n",
    "\n",
    "    def __repr__(self): \n",
    "        return str(self._data)"
   ]
  },
  {
   "cell_type": "markdown",
   "id": "b5b3771c-dec3-4c6f-b381-64f63b4ea565",
   "metadata": {},
   "source": [
    "Now that we have the stack ADT and an actual implementation, we can try to use it."
   ]
  },
  {
   "cell_type": "code",
   "execution_count": 48,
   "id": "93ef44da-fc8c-4bff-aad9-7472d240ef84",
   "metadata": {},
   "outputs": [
    {
     "name": "stdout",
     "output_type": "stream",
     "text": [
      "[8, 2]\n"
     ]
    }
   ],
   "source": [
    "s = ArrayStack()\n",
    "s.push(8)\n",
    "s.push(2)\n",
    "\n",
    "# Prints [8, 2]\n",
    "print(s) # this technically calls print(str(s)) which is print(s.__str__()) "
   ]
  },
  {
   "cell_type": "code",
   "execution_count": 14,
   "id": "a73bd510-0715-4a53-8624-6adba80319cb",
   "metadata": {},
   "outputs": [
    {
     "data": {
      "text/plain": [
       "False"
      ]
     },
     "execution_count": 14,
     "metadata": {},
     "output_type": "execute_result"
    }
   ],
   "source": [
    "# Should return False\n",
    "s.is_empty()"
   ]
  },
  {
   "cell_type": "code",
   "execution_count": 16,
   "id": "16462bcd-be8d-42ae-9602-7dead4324780",
   "metadata": {},
   "outputs": [
    {
     "data": {
      "text/plain": [
       "2"
      ]
     },
     "execution_count": 16,
     "metadata": {},
     "output_type": "execute_result"
    }
   ],
   "source": [
    "# Should return 2\n",
    "len(s)"
   ]
  },
  {
   "cell_type": "code",
   "execution_count": 18,
   "id": "4f9ab104-1e58-4886-84b1-6f9c21506c8a",
   "metadata": {},
   "outputs": [
    {
     "data": {
      "text/plain": [
       "False"
      ]
     },
     "execution_count": 18,
     "metadata": {},
     "output_type": "execute_result"
    }
   ],
   "source": [
    "s.pop()\n",
    "# Should print False\n",
    "s.is_empty()"
   ]
  },
  {
   "cell_type": "code",
   "execution_count": 20,
   "id": "0ac9c36f-1492-4506-8e72-832f5b90c8c8",
   "metadata": {},
   "outputs": [
    {
     "data": {
      "text/plain": [
       "[8]"
      ]
     },
     "execution_count": 20,
     "metadata": {},
     "output_type": "execute_result"
    }
   ],
   "source": [
    "s._data"
   ]
  },
  {
   "cell_type": "code",
   "execution_count": 22,
   "id": "e6435649-1f85-4f1c-8f89-87ea845d330a",
   "metadata": {},
   "outputs": [
    {
     "data": {
      "text/plain": [
       "7"
      ]
     },
     "execution_count": 22,
     "metadata": {},
     "output_type": "execute_result"
    }
   ],
   "source": [
    "s.push(7)\n",
    "# Should print 7\n",
    "s.top()"
   ]
  },
  {
   "cell_type": "code",
   "execution_count": 24,
   "id": "e819b3d7-f393-4e71-a6a1-783dc7a27f76",
   "metadata": {},
   "outputs": [
    {
     "data": {
      "text/plain": [
       "[8, 7]"
      ]
     },
     "execution_count": 24,
     "metadata": {},
     "output_type": "execute_result"
    }
   ],
   "source": [
    "s._data"
   ]
  },
  {
   "cell_type": "code",
   "execution_count": 26,
   "id": "a4ff2ba9-634b-44eb-87a9-a99a66899a28",
   "metadata": {},
   "outputs": [
    {
     "data": {
      "text/plain": [
       "7"
      ]
     },
     "execution_count": 26,
     "metadata": {},
     "output_type": "execute_result"
    }
   ],
   "source": [
    "# Should print 7\n",
    "s.pop()"
   ]
  },
  {
   "cell_type": "code",
   "execution_count": 28,
   "id": "d1e645ea-f16d-4e25-a23b-8febe86ac1ef",
   "metadata": {},
   "outputs": [
    {
     "data": {
      "text/plain": [
       "8"
      ]
     },
     "execution_count": 28,
     "metadata": {},
     "output_type": "execute_result"
    }
   ],
   "source": [
    "s.pop()"
   ]
  },
  {
   "cell_type": "code",
   "execution_count": 30,
   "id": "70d96c7c-6935-4631-aaac-45ab0817b16a",
   "metadata": {},
   "outputs": [
    {
     "ename": "Empty",
     "evalue": "The stack is empty",
     "output_type": "error",
     "traceback": [
      "\u001b[0;31m---------------------------------------------------------------------------\u001b[0m",
      "\u001b[0;31mEmpty\u001b[0m                                     Traceback (most recent call last)",
      "Cell \u001b[0;32mIn[30], line 1\u001b[0m\n\u001b[0;32m----> 1\u001b[0m s\u001b[38;5;241m.\u001b[39mpop()\n",
      "Cell \u001b[0;32mIn[9], line 15\u001b[0m, in \u001b[0;36mArrayStack.pop\u001b[0;34m(self)\u001b[0m\n\u001b[1;32m     13\u001b[0m \u001b[38;5;124m'\u001b[39m\u001b[38;5;124mRemove and return the top element from the stack. Raise error if the stack is empty\u001b[39m\u001b[38;5;124m'\u001b[39m\n\u001b[1;32m     14\u001b[0m \u001b[38;5;28;01mif\u001b[39;00m \u001b[38;5;28mlen\u001b[39m(\u001b[38;5;28mself\u001b[39m\u001b[38;5;241m.\u001b[39m_data) \u001b[38;5;241m==\u001b[39m \u001b[38;5;241m0\u001b[39m:\n\u001b[0;32m---> 15\u001b[0m     \u001b[38;5;28;01mraise\u001b[39;00m Empty(\u001b[38;5;124m'\u001b[39m\u001b[38;5;124mThe stack is empty\u001b[39m\u001b[38;5;124m'\u001b[39m)\n\u001b[1;32m     17\u001b[0m \u001b[38;5;28;01mreturn\u001b[39;00m \u001b[38;5;28mself\u001b[39m\u001b[38;5;241m.\u001b[39m_data\u001b[38;5;241m.\u001b[39mpop()\n",
      "\u001b[0;31mEmpty\u001b[0m: The stack is empty"
     ]
    }
   ],
   "source": [
    "s.pop()"
   ]
  },
  {
   "cell_type": "markdown",
   "id": "3c670564-d842-4bac-8ce2-197c6cccdfa3",
   "metadata": {},
   "source": [
    "### Running Time Analysis\n",
    "Since all operations on a stack translate to operations on a list, we can analyze the running time of various stack operations by looking at the corresponding list operations. See textbook section 5.3.2 for a description of amortization (gradual reduction of overhead).\n",
    "\n",
    "| Operation    | Running Time     | Why |\n",
    "|--------------|------------------|-----|\n",
    "| S.push(e)    | amortized $O(1)$ | The underlying array may need to be resized as new items are pushed |\n",
    "| S.pop()      | amortized $O(1)$ | The underlying array may need to be shrunk as items are removed |\n",
    "| S.top()      | $O(1)$           | Simple indexing of the last element in the list |\n",
    "| S.is_empty() | $O(1)$           | A list maintains its length in a separate variable which can be accessed in constant-time |\n",
    "| len(S)       | $O(1)$           | Same as is_empty |"
   ]
  },
  {
   "cell_type": "code",
   "execution_count": null,
   "id": "ad4b7c8e-4b19-4d62-aa54-4c5632cdb376",
   "metadata": {},
   "outputs": [],
   "source": []
  },
  {
   "cell_type": "markdown",
   "id": "13a11c2f-8295-4ce8-9d1e-6846820dbdcc",
   "metadata": {},
   "source": [
    "### Example Use Case: Balancing Brackets in an Expression"
   ]
  },
  {
   "cell_type": "markdown",
   "id": "e0118a77-5d87-4034-903d-0cf853b171d6",
   "metadata": {},
   "source": [
    "Let's see an actual use case for a stack. Suppose you are given an expression such as `[(12+x)[0]+{(a+8}]`. Your goal is to write a program that checks if the braces and brackets in the expression are properly balanced (closed). The program should return True if the expression is balanced and False otherwise."
   ]
  },
  {
   "cell_type": "markdown",
   "id": "fb03ba72-f278-4b9b-8f2e-1a42767b0be2",
   "metadata": {},
   "source": [
    "The idea: scan the expression character by character. Whenever we encounter an opening bracket, we push it on the stack. Whenever we encounter a closing bracket, we pop from the stack and check that the closing bracket matches the bracket popped from the stack.\n",
    "\n",
    "We will develop the function incrementally. We start with a function that simply iterates over the expression's characters."
   ]
  },
  {
   "cell_type": "code",
   "execution_count": null,
   "id": "d53940d0-8d22-4b76-8353-8eeb375721b6",
   "metadata": {},
   "outputs": [],
   "source": [
    "# This will be the expression to check\n",
    "expression = '[(12+x)[0]+{(a+8}]'\n",
    "\n",
    "expression = '([()])'\n",
    "\n",
    "#\n",
    "# This will be our checking function. This version does nothing useful. It only iterates\n",
    "# over the given expression string character by character.\n",
    "#\n",
    "def is_balanced(expr):\n",
    "    for c in expr:\n",
    "        pass # !!! Our implementation comes here !!!"
   ]
  },
  {
   "cell_type": "markdown",
   "id": "e9e1b35b-7afe-4d33-b47d-3ea103912bf7",
   "metadata": {},
   "source": [
    "Next, we create an ArrayStack instance in our function. Whenever we encounter an opening bracket, we push it on the stack. We need to know what the opening brackets are, so we create a string variable called \"opening\" in the function that lists them all. We can then check if the encountered character is in the string of opening brackets."
   ]
  },
  {
   "cell_type": "code",
   "execution_count": null,
   "id": "1100ccd2-cc00-457e-a6bb-eef862f891a1",
   "metadata": {},
   "outputs": [],
   "source": [
    "def is_balanced(expr):\n",
    "    opening = '[({'   \n",
    "    s = ArrayStack()\n",
    "    \n",
    "    for c in expr:\n",
    "        if c in opening:\n",
    "            s.push(c)"
   ]
  },
  {
   "cell_type": "markdown",
   "id": "e7f18812-090c-45ce-b1dd-b5059b49278c",
   "metadata": {},
   "source": [
    "Let's add code that handles closing brackets. We define another variable called \"closing\" which will enumerate all closing brackets. For a reason that will be apparent later, the \"closing\" string must list the closing brackets in the same order as the opening brackets in the \"opening\" string.\n",
    "\n",
    "When we encounter a closing bracket, we first check if the stack is not empty. If it is, the expression is unbalanced, and we can return False immediately.\n",
    "\n",
    "If the stack is not empty, we need to compare the value popped from the stack with the current closing bracket. We cannot compare the two values because they have different ASCII values. However, we said above that we would put the opening and closing brackets at the same index in the two strings. Thus, we can compare their string positions using the string method `index()`."
   ]
  },
  {
   "cell_type": "code",
   "execution_count": null,
   "id": "59214df8-53b3-433c-a90e-bc15cf321acb",
   "metadata": {},
   "outputs": [],
   "source": [
    "def is_balanced(expr):\n",
    "    opening = '[({'\n",
    "    closing = '])}'\n",
    "    s = ArrayStack()\n",
    "\n",
    "    for c in expr:\n",
    "        if c in opening:\n",
    "            s.push(c)\n",
    "        elif c in closing:\n",
    "            if s.is_empty():\n",
    "                return False\n",
    "\n",
    "            v = s.pop()\n",
    "            if c != v: \n",
    "                return False\n",
    "\n",
    "        "
   ]
  },
  {
   "cell_type": "markdown",
   "id": "d9b1e12e-ea56-487a-bef8-d5cfe1de4bda",
   "metadata": {},
   "source": [
    "Finally, when we are done iterating over the expression, we must also check that the stack is empty. If it is not, we had more opening than closing brackets and the expression is unbalanced."
   ]
  },
  {
   "cell_type": "code",
   "execution_count": 87,
   "id": "4de7c8a1-3f34-4d8b-9d29-373fc6f22053",
   "metadata": {},
   "outputs": [],
   "source": [
    "def is_balanced(expr):\n",
    "    opening = '[({'\n",
    "    closing = '])}'\n",
    "    s = ArrayStack()\n",
    "\n",
    "    for c in expr:\n",
    "        print(c, s._data)\n",
    "        if c in opening:\n",
    "            s.push(c)\n",
    "        elif c in closing:\n",
    "            if s.is_empty():\n",
    "                return False\n",
    "\n",
    "            v = s.pop()\n",
    "            print(c, opening.index(c),v, closing.index(v))\n",
    "            if opening.index(c) != closing.index(v):\n",
    "                return False\n",
    "\n",
    "    if s.is_empty():\n",
    "        return True\n",
    "    else:\n",
    "        return False"
   ]
  },
  {
   "cell_type": "markdown",
   "id": "c66f6800-ef32-46c0-87d6-d37aec921897",
   "metadata": {},
   "source": [
    "Now we are ready to test the function."
   ]
  },
  {
   "cell_type": "code",
   "execution_count": 90,
   "id": "2aba5952-805e-446e-b130-6bceb6c7b3dc",
   "metadata": {},
   "outputs": [
    {
     "name": "stdout",
     "output_type": "stream",
     "text": [
      "( []\n",
      "[ ['(']\n",
      "( ['(', '[']\n",
      ") ['(', '[', '(']\n"
     ]
    },
    {
     "ename": "ValueError",
     "evalue": "substring not found",
     "output_type": "error",
     "traceback": [
      "\u001b[0;31m---------------------------------------------------------------------------\u001b[0m",
      "\u001b[0;31mValueError\u001b[0m                                Traceback (most recent call last)",
      "Cell \u001b[0;32mIn[90], line 3\u001b[0m\n\u001b[1;32m      1\u001b[0m expression \u001b[38;5;241m=\u001b[39m \u001b[38;5;124m'\u001b[39m\u001b[38;5;124m([()])\u001b[39m\u001b[38;5;124m'\u001b[39m\n\u001b[0;32m----> 3\u001b[0m is_balanced(expression)\n",
      "Cell \u001b[0;32mIn[87], line 15\u001b[0m, in \u001b[0;36mis_balanced\u001b[0;34m(expr)\u001b[0m\n\u001b[1;32m     12\u001b[0m     \u001b[38;5;28;01mreturn\u001b[39;00m \u001b[38;5;28;01mFalse\u001b[39;00m\n\u001b[1;32m     14\u001b[0m v \u001b[38;5;241m=\u001b[39m s\u001b[38;5;241m.\u001b[39mpop()\n\u001b[0;32m---> 15\u001b[0m \u001b[38;5;28mprint\u001b[39m(c, opening\u001b[38;5;241m.\u001b[39mindex(c),v, closing\u001b[38;5;241m.\u001b[39mindex(v))\n\u001b[1;32m     16\u001b[0m \u001b[38;5;28;01mif\u001b[39;00m opening\u001b[38;5;241m.\u001b[39mindex(c) \u001b[38;5;241m!=\u001b[39m closing\u001b[38;5;241m.\u001b[39mindex(v):\n\u001b[1;32m     17\u001b[0m     \u001b[38;5;28;01mreturn\u001b[39;00m \u001b[38;5;28;01mFalse\u001b[39;00m\n",
      "\u001b[0;31mValueError\u001b[0m: substring not found"
     ]
    }
   ],
   "source": [
    "expression = '([()])'\n",
    "\n",
    "is_balanced(expression)"
   ]
  },
  {
   "cell_type": "markdown",
   "id": "fa45638f-acee-4e02-8368-dfe4e8c8310a",
   "metadata": {},
   "source": [
    "The function correctly returns False because ')' is missing after 8. We can fix the expression and test again:"
   ]
  },
  {
   "cell_type": "code",
   "execution_count": null,
   "id": "aee68427-5412-4390-9e05-bdc2f336429b",
   "metadata": {},
   "outputs": [],
   "source": [
    "expression = '[(12+x)[0]+{(a+8)}]'\n",
    "is_balanced(expression)"
   ]
  },
  {
   "cell_type": "markdown",
   "id": "fe087d0f-9ea4-4514-8f06-6e4098f4df86",
   "metadata": {},
   "source": [
    "## Queues"
   ]
  },
  {
   "cell_type": "markdown",
   "id": "ae4f3389-1b74-45de-a934-dbd299a3496c",
   "metadata": {},
   "source": [
    "The queue is another fundamental data structure. Queues are similar to stacks but follow the first-in, first-out (FIFO) strategy. Elements enter the queue from the back and are removed from the front.\n",
    "\n",
    "The queue data structure has the following characteristics:\n",
    "* It is a collection of items (not necessarily of the same types)\n",
    "* New item can be inserted (enqueued) at any time (the size is unbounded)\n",
    "* Only the oldest item can be accessed (i.e., no indexing)\n",
    "* Only the oldest item can be removed (popped)\n",
    "* The item that has been on the queue the longest is called the front\n",
    "* The most recently added item is called the back\n",
    "\n",
    "<img src=\"https://janakj.org/w3132/images/queue.png\"/>"
   ]
  },
  {
   "cell_type": "code",
   "execution_count": 50,
   "id": "75f8ee2c-881b-4b5b-b005-55f3ccd33784",
   "metadata": {},
   "outputs": [
    {
     "data": {
      "text/plain": [
       "'A'"
      ]
     },
     "execution_count": 50,
     "metadata": {},
     "output_type": "execute_result"
    }
   ],
   "source": [
    "queue = []\n",
    "queue.append(\"A\") # use append instead of enqueue\n",
    "queue.append(\"B\")\n",
    "queue.append(\"C\") \n",
    "\n",
    "queue.pop(0)  #use pop(0) instead of dequeue "
   ]
  },
  {
   "cell_type": "code",
   "execution_count": 52,
   "id": "747f296d-5200-4ce1-a66a-35dd5ba1f29e",
   "metadata": {},
   "outputs": [
    {
     "data": {
      "text/plain": [
       "'B'"
      ]
     },
     "execution_count": 52,
     "metadata": {},
     "output_type": "execute_result"
    }
   ],
   "source": [
    "queue.pop(0)"
   ]
  },
  {
   "cell_type": "code",
   "execution_count": 54,
   "id": "ec3d51ba-7938-40e4-b320-51c98e2683b6",
   "metadata": {},
   "outputs": [
    {
     "data": {
      "text/plain": [
       "'C'"
      ]
     },
     "execution_count": 54,
     "metadata": {},
     "output_type": "execute_result"
    }
   ],
   "source": [
    "queue.pop(0)"
   ]
  },
  {
   "cell_type": "markdown",
   "id": "9e48cd5b-8383-4ad9-9bb6-8d9bae38f649",
   "metadata": {},
   "source": [
    "### The Queue Abstract Data Type"
   ]
  },
  {
   "cell_type": "code",
   "execution_count": null,
   "id": "95d5dc17-986e-4ce7-8877-d2289d1fad51",
   "metadata": {},
   "outputs": [],
   "source": [
    "class Queue:\n",
    "    'The queue abstract data type'\n",
    "    \n",
    "    def enqueue(self, e):\n",
    "        'Add element e to the back of the queue'\n",
    "        pass\n",
    "\n",
    "    def dequeue(self):\n",
    "        'Remove and return (first) element from the front of the queue'\n",
    "        pass\n",
    "\n",
    "    def first(self):\n",
    "        'Return a reference to the first element in the queue'\n",
    "        pass\n",
    "\n",
    "    def is_empty(self):\n",
    "        'Return true if the queue is empty'\n",
    "        pass\n",
    "\n",
    "    def __len__(self):\n",
    "        'Return the number of elements in the queue'\n",
    "        pass"
   ]
  },
  {
   "cell_type": "markdown",
   "id": "39f4467f-d9e1-4d6b-ba94-47ba8dc80c2a",
   "metadata": {},
   "source": [
    "### First (Naive) Array-Based Implementation"
   ]
  },
  {
   "cell_type": "markdown",
   "id": "99267920-7efe-4bf5-8153-d9b9bff91413",
   "metadata": {},
   "source": [
    "Like before, we could store the queue items in a list, i.e., we could create a simple adaption class like ArrayStack. We would then use operations like `list.append(e)` or `list.pop(0)`. The implementation could look as follows."
   ]
  },
  {
   "cell_type": "code",
   "execution_count": 57,
   "id": "496bc8a8-7fef-4a8f-bdbd-bb668a2f5ec2",
   "metadata": {},
   "outputs": [],
   "source": [
    "class ArrayQueue:\n",
    "    'A queue backed with a built-in Python list'\n",
    "\n",
    "    def __init__(self):\n",
    "        'Creates an empty ArrayQueue instance'        \n",
    "        self._data = list()\n",
    "    \n",
    "    def enqueue(self, e):\n",
    "        'Enqueue element at the back of the queue'\n",
    "        self._data.append(e)\n",
    "\n",
    "    def dequeue(self):\n",
    "        '''Dequeue the element from the front of the queue\n",
    "\n",
    "        Raise exception if the queue is empty\n",
    "        '''\n",
    "        if len(self._data) == 0:\n",
    "            raise Empty('The queue is empty')\n",
    "\n",
    "        return self._data.pop(0)\n",
    "    \n",
    "    def front(self):\n",
    "        '''Return a reference to the element at the front\n",
    "\n",
    "        Raise an exception if the queue is empty\n",
    "        '''\n",
    "        if len(self._data) == 0:\n",
    "            raise Empty('The queue is empty')\n",
    "        \n",
    "        return self._data[0]\n",
    "\n",
    "    def is_empty(self):\n",
    "        'Return true if the queue is empty'\n",
    "        return len(self._data) == 0\n",
    "\n",
    "    def __len__(self):\n",
    "        'Return the length of the queue'\n",
    "        return len(self._data)"
   ]
  },
  {
   "cell_type": "code",
   "execution_count": 61,
   "id": "4bab9d7c-6a13-4824-af60-53c907a09b72",
   "metadata": {},
   "outputs": [
    {
     "name": "stdout",
     "output_type": "stream",
     "text": [
      "A\n",
      "B\n",
      "C\n"
     ]
    }
   ],
   "source": [
    "q = ArrayQueue()\n",
    "q.enqueue(\"A\")\n",
    "q.enqueue(\"B\")\n",
    "q.enqueue(\"C\")\n",
    "\n",
    "print(q.dequeue())\n",
    "print(q.dequeue())\n",
    "print(q.dequeue())"
   ]
  },
  {
   "cell_type": "markdown",
   "id": "4db6feb9-c03a-46a7-941c-e037972d35de",
   "metadata": {},
   "source": [
    "#### Running Time Analysis"
   ]
  },
  {
   "cell_type": "markdown",
   "id": "d62305e1-1661-4a0d-bb40-d588c77ef504",
   "metadata": {},
   "source": [
    "Unfortunately, this implementation would be very inefficient. Calling `list.pop(0)`, i.e., removing the first item from the list, causes the rest of the elements to shift, which is always $\\Theta(n)$. This is the worst-case behavior. The operations on the above naive implementation have the following asymptotic running times.\n",
    "\n",
    "| Operation    | Running Time     | Why |\n",
    "|--------------|------------------|-----|\n",
    "| enqueue(e)   | amortized $O(1)$ | Optionally enlarge the list and add to the end |\n",
    "| deque()      | **$\\Theta(n)$**  | **Must shift the entire array (list) !!!** |\n",
    "| first()      | $O(1)$           | Simple indexing |\n",
    "| is_empty()   | $O(1)$           | Simple variable access |\n",
    "| len(Q)       | $O(1)$           | Same as above |"
   ]
  },
  {
   "cell_type": "markdown",
   "id": "68cdd0cf-bee9-47d5-8b66-58b46f7e0a9a",
   "metadata": {},
   "source": [
    "### Faster Implementation Using a Fixed-Size Circular List"
   ]
  },
  {
   "cell_type": "markdown",
   "id": "890d14ff-6f58-47ab-8109-2e13d10af3a7",
   "metadata": {},
   "source": [
    "We can do better than this! We can avoid inefficient list operations such as `list.pop(0)` entirely by using the array (list) in a circular fashion. That is:\n",
    "  * Allow the front of the queue to move right\n",
    "  * Allow the contents to wrap around\n",
    "\n",
    "This approach is summarized in the following diagram.\n",
    "\n",
    "<img src=\"https://janakj.org/w3132/images/circular-array.png\"/>"
   ]
  },
  {
   "cell_type": "markdown",
   "id": "f8852ac1-c663-4cfd-858b-9275ab2fe074",
   "metadata": {},
   "source": [
    "How would we actually implement this? Like before, we can store our elements in a list. But let's make the list fixed-size for now, i.e., it will not be enlarged or shrunk. This also means our queue will have a maximum size. We will also keep track of the index of the front element (it will not necessarily be 0). We will also keep the number of elements in the queue in a separate variable. Since we will not necessarily have items starting at index 0, we can no longer rely on the length of the list for queue size."
   ]
  },
  {
   "cell_type": "code",
   "execution_count": null,
   "id": "486e0736-3d47-43b9-91ce-83899ea4135e",
   "metadata": {},
   "outputs": [],
   "source": [
    "class Full(Exception):\n",
    "    'An exception raised when the queue is full'\n",
    "    pass\n",
    "\n",
    "\n",
    "class CircularListQueue:\n",
    "    'A queue implementation using a fixed-size Python list to store elements'\n",
    "    \n",
    "    DEFAULT_SIZE = 10  # When creating a new queue, create an empty list of this size\n",
    "\n",
    "    def __init__(self):\n",
    "        'Create a new empty queue instance'\n",
    "        self._data = [ None ] * CircularArrayQueue.DEFAULT_SIZE   # Create a list of DEFAULT_SIZE None values\n",
    "        self._front = 0    # Initialize the reference to the front of the queue\n",
    "        self._back = 0     # Initialize the reference to the back of the queue\n",
    "        self._size = 0     # Logical number of elements. Initially, the queue is empty\n",
    "    \n",
    "    def enqueue(self, e):\n",
    "        'Add an element to the back of the queue'\n",
    "\n",
    "        # First, check if the queue is full. If it is, raise an exception\n",
    "        if self._size == len(self._data):\n",
    "            new_size  = CircularArrayQueue.DEFAULT_SIZE * 2\n",
    "            new_data = [None] * new_size\n",
    "\n",
    "            new_back = 0             \n",
    "            for i in range(len(self)): \n",
    "                el =  self.data_[self._front]\n",
    "                self._front = (self._front + 1) % CircularArrayQueue.DEFAULT_SIZE\n",
    "                new_data[new_back] = el \n",
    "                new_back += 1\n",
    "\n",
    "            self._data = new_data\n",
    "            self._front = 0\n",
    "            self._back = new_back\n",
    "\n",
    "            \n",
    "            #raise Full('The queue is full')\n",
    "\n",
    "        # If it is not, add the item at the back\n",
    "        self._data[self._back] = e\n",
    "\n",
    "        # Advance the back pointer modulo the size of the circular list.\n",
    "        # The modulo operation will make the value wrap around if necessary.\n",
    "        self._back = (self._back + 1) % CircularArrayQueue.DEFAULT_SIZE\n",
    "\n",
    "        # And increase the size of the queue\n",
    "        self._size += 1\n",
    "    \n",
    "    def dequeue(self):\n",
    "        'Remove an element from the front of the queue'\n",
    "\n",
    "        # First, make sure the queue is not empty\n",
    "        if len(self._size) == 0:\n",
    "            raise Empty('The queue is empty')\n",
    "\n",
    "        # Get the front element\n",
    "        el = self._data[self._first]\n",
    "\n",
    "        # Erase the value from the list to help the garbage collector\n",
    "        self._data[self._front] = None\n",
    "\n",
    "        # Decrease the size of the queue\n",
    "        self._size -= 1\n",
    "\n",
    "        # Update the pointer to the front. Use modulo arithmetic to wrap around\n",
    "        self._front = (self._front + 1) % CircularArrayQueue.DEFAULT_SIZE\n",
    "\n",
    "        # Return the previously retrieved element\n",
    "        return el\n",
    "\n",
    "    def first(self):\n",
    "        'Return a reference to the first element in the queue'\n",
    "        if self._size == 0:\n",
    "            raise Empty('The queue is empty')\n",
    "\n",
    "        # Return a reference to the first element in the queue\n",
    "        return self._data[self._front]\n",
    "\n",
    "    def is_empty(self):\n",
    "        'Return true if the queue is empty'\n",
    "        if self._size == 0:\n",
    "            return True\n",
    "        else:\n",
    "            return False\n",
    "\n",
    "    def __len__(self):\n",
    "\n",
    "        return len(self._size)"
   ]
  },
  {
   "cell_type": "markdown",
   "id": "8c5f6254-5b95-456a-9d83-e4bd57b8c830",
   "metadata": {},
   "source": [
    "#### Running Time Analysis"
   ]
  },
  {
   "cell_type": "markdown",
   "id": "dfa65d95-e918-476e-837b-7f488a0d786b",
   "metadata": {},
   "source": [
    "Except for the resizing method, all other methods exhibit a constant number of statements and arithmetic operations. The fixed-size circular array implementation is performant and exhibits constant or amortized constant running times. Voila!\n",
    "\n",
    "| Operation    | Running Time     | Why |\n",
    "|--------------|------------------|-----|\n",
    "| Q.enqueue(e) | amortized $O(1)$ | $O(1)$ |\n",
    "| Q.deque()    | amortized $O(1)$ | $O(1)$ |\n",
    "| Q.first()    | $O(1)$           | Simple indexing |\n",
    "| Q.is_empty() | $O(1)$           | Simple variable access |\n",
    "| len(Q)       | $O(1)$           | Same as above |\n",
    "\n"
   ]
  },
  {
   "cell_type": "code",
   "execution_count": null,
   "id": "1a4c3577-085c-4832-b30c-c1c7c1aa458a",
   "metadata": {},
   "outputs": [],
   "source": [
    "from collections import dequeue\n",
    "d = dequeue() #actually implemented using a linked list \n",
    "\n",
    "d.append(\"A\")\n",
    "d.appendLeft(\"B\")\n",
    "d.pop()\n",
    "d.popLeft()\n"
   ]
  },
  {
   "cell_type": "code",
   "execution_count": null,
   "id": "ea72e30b-7009-4b60-8ac0-44c1e353d6a9",
   "metadata": {},
   "outputs": [],
   "source": [
    "class TwoStackQueue:\n",
    "    'A queue backed with a built-in Python list'\n",
    "\n",
    "\n",
    "\n",
    "    def enqueue(self, e):\n",
    "        'Add element e to the back of the queue'\n",
    "        pass\n",
    "\n",
    "    def dequeue(self):\n",
    "        'Remove and return (first) element from the front of the queue'\n",
    "        pass\n",
    "\n",
    "    def first(self):\n",
    "        'Return a reference to the first element in the queue'\n",
    "        pass\n",
    "\n",
    "    def is_empty(self):\n",
    "        'Return true if the queue is empty'\n",
    "        pass\n",
    "\n",
    "    def __len__(self):\n",
    "        'Return the number of elements in the queue'\n",
    "        pass"
   ]
  }
 ],
 "metadata": {
  "kernelspec": {
   "display_name": "Python 3 (ipykernel)",
   "language": "python",
   "name": "python3"
  },
  "language_info": {
   "codemirror_mode": {
    "name": "ipython",
    "version": 3
   },
   "file_extension": ".py",
   "mimetype": "text/x-python",
   "name": "python",
   "nbconvert_exporter": "python",
   "pygments_lexer": "ipython3",
   "version": "3.12.2"
  }
 },
 "nbformat": 4,
 "nbformat_minor": 5
}
