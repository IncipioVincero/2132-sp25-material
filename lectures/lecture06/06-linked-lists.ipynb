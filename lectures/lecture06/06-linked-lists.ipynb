{
 "cells": [
  {
   "cell_type": "markdown",
   "id": "d68110e3-32ea-4aee-aada-b367575a51f0",
   "metadata": {},
   "source": [
    "# COMS W2132 Intermediate Computing in Python\n",
    "## Linked Lists\n",
    "\n",
    "**Date**: February 17, 2025\\\n",
    "Daniel Bauer (original notes by Jan Janak)\n",
    "\n",
    "**Reading**: Data Structures and Algorithms in Python, Chapter 7\n",
    "\n",
    "---"
   ]
  },
  {
   "cell_type": "markdown",
   "id": "1bd47b13-86b3-4043-841a-31a7a78fb278",
   "metadata": {},
   "source": [
    "The built-in Python list data structure, which is based on arrays, has shortcomings that make it unsuitable for some applications:\n",
    "  1. Inserting or removing elements in the middle or beginning of the list can be expensive (why?)\n",
    "  1. The size of the array storing the elements could be twice the size of the elements in the worst-case (why?)\n",
    "  1. Amortized $O(1)$ running times for append may be unacceptable for some applications (which?)\n",
    "\n",
    "A **linked list** is an alternative to the built-in list data structure with the following key characteristics:\n",
    "  * It does NOT use arrays (contiguous memory buffers of fixed size) to store elements\n",
    "  * It does NOT support efficient ($O(1)$) indexing (consequence of not using arrays)\n",
    "  * But adding/removing at either end is more efficient! ($O(1)$, and not amortized)\n",
    "\n",
    "In other words, linked lists achieve better asymptotic running times of add/remove operations by doing away with arrays and giving up $O(1)$ indexing. They also consume more memory than array lists. The idea behind linked lists is embarrassingly simple:\n",
    "\n",
    "<img src=\"https://janakj.org/w3132/images/linked-list.png\"/>\n",
    "\n",
    "We store each element in its memory location (in arbitrary order, and not necessarily in a contiguous block). Each element gets a bit of extra space (overhead). The extra space contains a \"link\" (memory pointer) to the next element in the sequence there. These links are where linked lists get their name from. _Having elements stored in arbitrary memory locations means we can no longer perform constant-time indexing._"
   ]
  },
  {
   "cell_type": "markdown",
   "id": "aab8130a-cf86-46a8-a2f3-c062d24379da",
   "metadata": {},
   "source": [
    "## Singly Linked Lists\n",
    "\n",
    "This is the simplest variant. A singly linked list is a collection of elements (Python objects) that form a linear sequence (logitically, not necessarily physically in memory). The elements are called **nodes**. Each node contains a reference to the Python object (the element) and a reference to the next node of the list."
   ]
  },
  {
   "cell_type": "code",
   "execution_count": null,
   "id": "8984b120-1870-4cea-a34f-ac1eeb3c00d0",
   "metadata": {},
   "outputs": [],
   "source": [
    "lst = [\"Bravo\", \"Charlie\", \"Delta\"]"
   ]
  },
  {
   "cell_type": "markdown",
   "id": "768c04a0-290d-4b61-a5c5-015e825787e6",
   "metadata": {},
   "source": [
    "<img src=\"https://janakj.org/w3132/images/nato-alphabet-list-1.png\"/>\n",
    "\n",
    "Terminology:\n",
    "* **node**: A Python object encapsulating an element and a reference to the next node\n",
    "* **element**: An arbitrary Python object, an element of the sequence\n",
    "* **head**: The first node of the linked list\n",
    "* **tail**: The last node of the linked list (has no reference to the next node)"
   ]
  },
  {
   "cell_type": "markdown",
   "id": "da614aac-6660-4953-817b-9437ab74e52d",
   "metadata": {},
   "source": [
    "### Finding an Element (Traversal)"
   ]
  },
  {
   "cell_type": "markdown",
   "id": "6be6b9f3-c69b-4213-83fd-e773bcd120f0",
   "metadata": {},
   "source": [
    "Accessing list elements (a.k.a. traversing or link-hopping):\n",
    "  1. Start at the head\n",
    "  2. Follow the link at each node to get to the next node\n",
    "  3. If the link is None, we have reached the end (tail)"
   ]
  },
  {
   "cell_type": "markdown",
   "id": "97cd5086-ec88-4fb9-92e3-b7d0cb5e2977",
   "metadata": {},
   "source": [
    "### Inserting an Element at the Head"
   ]
  },
  {
   "cell_type": "markdown",
   "id": "44178369-654f-45d3-933d-0935e41b0bd4",
   "metadata": {},
   "source": [
    "<img src=\"https://janakj.org/w3132/images/nato-alphabet-list-2.png\"/>\n",
    "\n",
    "  1. Create a new node object\n",
    "  1. Set the new node's next to the list's head\n",
    "  1. Set the list's head to the new node\n",
    "\n",
    "Question: what is the asymptotic running time of this operation?"
   ]
  },
  {
   "cell_type": "markdown",
   "id": "419ed526-5a75-4db8-8776-5369e58e37cc",
   "metadata": {},
   "source": [
    "### Removing an Element from the Head"
   ]
  },
  {
   "cell_type": "markdown",
   "id": "789c3b4f-422f-43ce-8df7-788bb1db658a",
   "metadata": {},
   "source": [
    "<img src=\"https://janakj.org/w3132/images/nato-alphabet-list-4.png\"/>\n",
    "\n",
    "1. If lists's head is None, indicate an error\n",
    "2. Set list's head to list's head next"
   ]
  },
  {
   "cell_type": "markdown",
   "id": "aca361a9-c9e8-4d15-867c-c9f6bc1987b9",
   "metadata": {},
   "source": [
    "### Implementing a Basic Singly Linked List\n",
    "We define two new classes. The class Node represents linked list nodes. The class SinglyLinkedList represents the entire list.\n",
    "\n",
    "What methods should the SinglyLinkedList class provide? What operations can we implement in constant time? They are:\n",
    "  * Add a new element at the beginning (head) of the list\n",
    "  * Remove an element from the head of the list"
   ]
  },
  {
   "cell_type": "code",
   "execution_count": 45,
   "id": "5aa2c69c-a866-4a65-9043-39886d673ef0",
   "metadata": {},
   "outputs": [],
   "source": [
    "class Empty(Exception):\n",
    "    pass\n",
    "\n",
    "\n",
    "class Node:\n",
    "    '''The Node class represents an element of a singly linked list\n",
    "\n",
    "    The node contains two references: a reference to the value and\n",
    "    a reference to the next node.\n",
    "    '''\n",
    "    def __init__(self, element, next=None):\n",
    "        self.element = element   # A reference to the value\n",
    "        self.next = next         # A reference to the next node\n",
    "\n",
    "\n",
    "class SinglyLinkedList:\n",
    "    'A basic singly linked list implementation'\n",
    "\n",
    "    def __init__(self):\n",
    "        self.head = None\n",
    "\n",
    "    def add_first(self, element):\n",
    "        'Add a new element at the head of the linked list'\n",
    "        # 1. Create a node\n",
    "        # 2. Set the node's next pointer to current head\n",
    "        new_node = Node(element, self.head)\n",
    "        # 3. Update the head pointer\n",
    "        self.head = new_node\n",
    "\n",
    "    def remove_first(self):\n",
    "        'Remove and return the first element from the head of the list'\n",
    "\n",
    "        # First check if we have any elements in the list. If not, raise\n",
    "        # the Empty exception (defined earlier for stacks and queues)\n",
    "        if self.head is None:\n",
    "            raise Empty('The list is empty')\n",
    "\n",
    "        # Save a reference to the current node at the head of the list\n",
    "        node = self.head\n",
    "\n",
    "        # Update the head pointer to point to the next element. If there\n",
    "        # is no next element, it will be set to None\n",
    "        self.head = self.head.next\n",
    "\n",
    "        # Since node is no longer in the list, we can set its _next\n",
    "        # reference to None to help the Python garbage collector\n",
    "        node.next = None\n",
    "\n",
    "        # Finally, return the node's value\n",
    "        return node.element"
   ]
  },
  {
   "cell_type": "markdown",
   "id": "d626f214-1d9d-4640-a14d-3154fb00ba04",
   "metadata": {},
   "source": [
    "### Keeping a Reference to the Tail"
   ]
  },
  {
   "cell_type": "markdown",
   "id": "3b86ab30-f6eb-4e7d-a3d2-afb9737c9235",
   "metadata": {},
   "source": [
    "Sometimes, it is also useful to keep a reference to the tail of the singly linked list. Keeping a tail reference allows us to jump straight to the end. It also allows us to append new elements at the end of the list. We can extend our class SinglyLinkedList, adding the tail reference, and also the size of the list (will be useful later)."
   ]
  },
  {
   "cell_type": "markdown",
   "id": "f4f2ebfc-6c13-4e6a-b97f-eae2c46d352b",
   "metadata": {},
   "source": [
    "Having a reference to the tail, we can also implement constant-time `add_last()` method which will add the element to the end of the list."
   ]
  },
  {
   "cell_type": "markdown",
   "id": "8595ddd5-0796-4bdc-924e-76d718b13bdd",
   "metadata": {},
   "source": [
    "<img src=\"https://janakj.org/w3132/images/nato-alphabet-list-3.png\"/>\n",
    "\n",
    "1. Create a new node object\n",
    "1. Set the new node's next to None\n",
    "1. Set the lists's tail next to the new node\n",
    "1. Set the lists's tail to the new node\n",
    "1. Update head\n",
    "1. Increase the size\n",
    "\n",
    "Question: What is the asymptotic running time of this operation?"
   ]
  },
  {
   "cell_type": "markdown",
   "id": "dd4a41d8-ac40-48de-9ddd-966dafc0b0ea",
   "metadata": {},
   "source": [
    "Unfortunately, keeping the tail reference also complicates the implementation of `add_first()` and `remove_first()` methods, as they need to handle various corner cases when the list is empty and has the head and tail references set to None."
   ]
  },
  {
   "cell_type": "code",
   "execution_count": 56,
   "id": "9d1b98fe-8b5b-4515-86ba-b8e6f5f8d6c1",
   "metadata": {},
   "outputs": [],
   "source": [
    "class SinglyLinkedList:\n",
    "    'A basic singly linked list implementation with tail and size'\n",
    "\n",
    "    def __init__(self):\n",
    "        self.head = None\n",
    "        self.tail = None  # NEW: We have added this instance variable\n",
    "        self.size = 0     # NEW: We have added this instance variable\n",
    "    \n",
    "    def add_first(self, element):\n",
    "        'Add a new element at the head of the linked list'\n",
    "        # 1. Create a node\n",
    "        # 2. Set the node's next pointer to current head\n",
    "        new_node = Node(element, self.head)\n",
    "        # 3. Update the head pointer\n",
    "        self.head = new_node\n",
    "\n",
    "        # If the list was previously empty, we also need to update the\n",
    "        # tail to point to the newly added node. That is needed because\n",
    "        # the list only contains one node, and both head and tail should\n",
    "        # point to that node.\n",
    "        if self.size == 0:\n",
    "            self.tail = new_node\n",
    "\n",
    "        self.size += 1\n",
    "    \n",
    "    def remove_first(self):\n",
    "        'Remove and return the first element from the head of the list'\n",
    "\n",
    "        # First check if we have any elements in the list. If not, raise\n",
    "        # the Empty exception (defined earlier for stacks and queues)\n",
    "        if self.size == 0:\n",
    "            raise Empty('The list is empty')\n",
    "\n",
    "        # Save a reference to the current node at the head of the list\n",
    "        node = self.head\n",
    "\n",
    "        # Update the head pointer to point to the next element. If there\n",
    "        # is no next element, it will be set to None\n",
    "        self.head = self.head.next\n",
    "\n",
    "        # Since node is no longer in the list, we can set its _next\n",
    "        # reference to None to help the Python garbage collector\n",
    "        node.next = None\n",
    "\n",
    "        self.size -= 1\n",
    "\n",
    "        # If we removed the last element from the list, we also need to\n",
    "        # set the tail pointer to None, since there are no more nodes\n",
    "        if self.size == 0:\n",
    "            self.tail = None\n",
    "        \n",
    "        # Finally, return the node's value\n",
    "        return node.element\n",
    "\n",
    "    # NEW: Keeping a reference to the tail allows us to implement the\n",
    "    # following method in constant time\n",
    "    def add_last(self, element):\n",
    "        'Add a new element at the tail of the linked list'\n",
    "        # 1. Create a new node\n",
    "        new_node = Node(element, None)\n",
    "\n",
    "        # 2. Set the previous node's next to the new node\n",
    "\n",
    "        if self.size == 0:\n",
    "            self.head = new_node\n",
    "        else:    \n",
    "            self.tail.next = new_node        \n",
    "            # 3. Update the tail pointer\n",
    "\n",
    "        self.tail = new_node\n",
    "        self.size += 1"
   ]
  },
  {
   "cell_type": "markdown",
   "id": "b648af43-2cc3-43fc-a094-b82c30c1b6b9",
   "metadata": {},
   "source": [
    "### Implementing a Stack using Singly Linked Lists"
   ]
  },
  {
   "cell_type": "markdown",
   "id": "9ca4b416-8687-4c4a-8c34-9f21d4d89132",
   "metadata": {},
   "source": [
    "We can use our singly linked list implementation to implement a stack."
   ]
  },
  {
   "cell_type": "code",
   "execution_count": 51,
   "id": "434745fe-ea1a-4be9-9d77-09d857833c04",
   "metadata": {},
   "outputs": [],
   "source": [
    "class LinkedStack:\n",
    "    def __init__(self):\n",
    "        self._data = SinglyLinkedList()\n",
    "\n",
    "    def push(self, el):\n",
    "        self._data.add_first(el)\n",
    "\n",
    "    def pop(self):\n",
    "        return self._data.remove_first()"
   ]
  },
  {
   "cell_type": "code",
   "execution_count": 52,
   "id": "cdc48386-233f-45d1-8a34-5c927b30cd77",
   "metadata": {},
   "outputs": [
    {
     "name": "stdout",
     "output_type": "stream",
     "text": [
      "python\n",
      "alpha\n",
      "42\n"
     ]
    }
   ],
   "source": [
    "stack = LinkedStack()\n",
    "stack.push(42)\n",
    "stack.push(\"alpha\")\n",
    "stack.push(\"python\")\n",
    "\n",
    "print(stack.pop()) # expecting: python\n",
    "print(stack.pop()) # expecting: alpha\n",
    "print(stack.pop()) # expecting: 42"
   ]
  },
  {
   "cell_type": "markdown",
   "id": "1657b524-1ffd-401f-8e34-e3b1a4069e44",
   "metadata": {},
   "source": [
    "#### Comparing Asymptotic Running Times\n",
    "\n",
    "| Operation    | Linked List | Array (built-in Python List)  |\n",
    "|--------------|-------------|------------------|\n",
    "| S.push(e)    | $O(1)$      | amortized $O(1)$ |\n",
    "| S.pop()      | $O(1)$      | amortized $O(1)$ |\n",
    "| S.top()      | $O(1)$      | $O(1)$           |\n",
    "| S.is_empty() | $O(1)$      | $O(1)$           |\n",
    "| len(S)       | $O(1)$      | $O(1)$           |\n"
   ]
  },
  {
   "cell_type": "markdown",
   "id": "94af69ad-6794-4977-aaa0-7fe20a2d0c7b",
   "metadata": {},
   "source": [
    "### Implementing a Queue with a Singly Linked List"
   ]
  },
  {
   "cell_type": "markdown",
   "id": "3882c585-7c03-4d17-b9de-19d66b6e1e46",
   "metadata": {},
   "source": [
    "And we can also use the singly linked list to implement a queue:"
   ]
  },
  {
   "cell_type": "code",
   "execution_count": 53,
   "id": "2eb4ba22-6e21-4f2c-b0f1-2952867705c1",
   "metadata": {},
   "outputs": [],
   "source": [
    "class LinkedQueue:\n",
    "    def __init__(self):\n",
    "        self._data = SinglyLinkedList()\n",
    "    \n",
    "    def enque(self, el):\n",
    "        self._data.add_last(el)\n",
    "\n",
    "    def deque(self):\n",
    "        return self._data.remove_first()"
   ]
  },
  {
   "cell_type": "code",
   "execution_count": 55,
   "id": "555dc3fb-e581-4ec3-9256-897c295f48c6",
   "metadata": {},
   "outputs": [
    {
     "name": "stdout",
     "output_type": "stream",
     "text": [
      "42\n",
      "alpha\n",
      "python\n"
     ]
    }
   ],
   "source": [
    "queue = LinkedQueue()\n",
    "queue.enque(42)\n",
    "queue.enque(\"alpha\")\n",
    "queue.enque(\"python\")\n",
    "\n",
    "print(queue.deque()) # expecting: 42\n",
    "print(queue.deque()) # expecting: alpha\n",
    "print(queue.deque()) # expecting: python"
   ]
  },
  {
   "cell_type": "markdown",
   "id": "762f5e32-b633-4a36-8884-87a919624e6e",
   "metadata": {},
   "source": [
    "## Doubly Linked Lists"
   ]
  },
  {
   "cell_type": "markdown",
   "id": "0cf0cc70-c902-4544-b6de-a7ba1b877399",
   "metadata": {},
   "source": [
    "Singly-linked lists have some important shortcomings:\n",
    "  * The list can be traversed from one direction only: from head to tail\n",
    "  * We cannot easily delete the element at the end (tail) of the list\n",
    "  * We cannot easily delete an element in the middle of the list (given a reference to it)\n",
    "\n",
    "The limitations stem from the fact that a singly linked list maintains only one set of links: from one node to the next node. We need some mechanism to find the node that immediately precedes the given node."
   ]
  },
  {
   "cell_type": "markdown",
   "id": "3ea209a8-6a32-4561-9758-71138980b561",
   "metadata": {},
   "source": [
    "### Headers and Trailers (Sentinels)"
   ]
  },
  {
   "cell_type": "markdown",
   "id": "9dc07779-fabf-4352-99cd-3e79f9d50182",
   "metadata": {},
   "source": [
    "* The above singly linked list implementation needs to deal with special cases, such as when the list is empty\n",
    "* This considerably complicates the implementation of the key methods\n",
    "* The problem would get even worse in doubly linked lists, where we need to keep two sets of pointers\n",
    "\n",
    "**Solution: Make sure the list is never empty using sentinel values!**"
   ]
  },
  {
   "cell_type": "markdown",
   "id": "75cf64cf-e2f1-44ea-b206-83db8d1db479",
   "metadata": {},
   "source": [
    "<img src=\"https://janakj.org/w3132/images/doubly-linked-list-sentinels.png\"/>\n",
    "\n",
    "Sentinels are fixed empty nodes before head and after tail. An empty doubly linked list consists of the two sentinel nodes linking to each other. The sentinels greatly simplify node operations. They guarantee that every node has a prev (even head) and that every node (even tail) has a next node."
   ]
  },
  {
   "cell_type": "markdown",
   "id": "0f9e54e0-a640-40dd-ae8c-0cb92b221826",
   "metadata": {},
   "source": [
    "* Sentinels greatly simplify the logic of operations\n",
    "* Header and trailer never change (only nodes between them change)\n",
    "* All insertions happen between existing nodes\n",
    "* Removals are guaranteed to have nodes on both sides"
   ]
  },
  {
   "cell_type": "markdown",
   "id": "d5789cf5-946d-47d2-a996-8d1fae4c04ea",
   "metadata": {},
   "source": [
    "### Extending the Node Class"
   ]
  },
  {
   "cell_type": "markdown",
   "id": "21c08a29-f938-409e-9ed3-183b7d080895",
   "metadata": {},
   "source": [
    "We extend the node class developed for the singly linked list. The modification consists of adding the \"prev\" link."
   ]
  },
  {
   "cell_type": "code",
   "execution_count": 79,
   "id": "82c58f16-a92f-4ec8-b965-70cff7ca6598",
   "metadata": {},
   "outputs": [],
   "source": [
    "class Node:\n",
    "    def __init__(self, element, prev, next):\n",
    "        self.element = element\n",
    "        self.next = next\n",
    "        self.prev = prev"
   ]
  },
  {
   "cell_type": "markdown",
   "id": "d76a318c-2080-46f7-9117-9e9dbfe28abd",
   "metadata": {},
   "source": [
    "We create a new class implementing an abstract doubly linked list. This version will not be ready for public consumption yet."
   ]
  },
  {
   "cell_type": "code",
   "execution_count": 60,
   "id": "aee29acd-9f55-4bbd-a9cf-603a2dcdd4ea",
   "metadata": {},
   "outputs": [],
   "source": [
    "class DoublyLinkedList:\n",
    "    def __init__(self):\n",
    "        self.header = Node(None, None, None)\n",
    "        self.trailer = Node(None, None, None)\n",
    "        self.header.next = self.trailer\n",
    "        self.trailer.prev = self.header\n",
    "        self.size = 0\n",
    "\n",
    "    #\n",
    "    # Auxilialy methods\n",
    "    #\n",
    "    \n",
    "    def __len__(self):\n",
    "        pass\n",
    "\n",
    "    def is_empty(self):\n",
    "        pass\n",
    "\n",
    "    def _insert_between(self, e, predecessor, successor):\n",
    "        'Insert element e between the two nodes'\n",
    "        pass\n",
    "    \n",
    "    def _delete_node(self, node):\n",
    "        'Delete the node \"node\"'\n",
    "        pass"
   ]
  },
  {
   "cell_type": "markdown",
   "id": "7c21e830-5e38-45f5-a192-68f6bcce0410",
   "metadata": {},
   "source": [
    "### Inserting a Node"
   ]
  },
  {
   "cell_type": "markdown",
   "id": "092cb904-6f0d-40aa-a139-0d7b97231bc9",
   "metadata": {},
   "source": [
    "With the sentinel values, every insertion occurs between two existing nodes. We just need to update the links (in both directions) accordingly.\n",
    "\n",
    "<img src=\"https://janakj.org/w3132/images/doubly-linked-list-insert.png\"/>"
   ]
  },
  {
   "cell_type": "code",
   "execution_count": 81,
   "id": "3a5a4303-3d8a-49b4-b573-9bc09ae28324",
   "metadata": {},
   "outputs": [],
   "source": [
    "def _insert_between(self, e, predecessor, successor):\n",
    "    new_node = Node(e, predecessor, successor)\n",
    "    predecessor.next = new_node\n",
    "    successor.prev = new_node\n",
    "    self.size += 1\n",
    "    return new_node"
   ]
  },
  {
   "cell_type": "markdown",
   "id": "291aaf5f-25f8-4909-8668-a3e8237d5ed3",
   "metadata": {},
   "source": [
    "### Removing a Node"
   ]
  },
  {
   "cell_type": "markdown",
   "id": "967a11d2-4d34-4508-90e2-d4f33ef69aec",
   "metadata": {},
   "source": [
    "Removing nodes from a doubly linked list is very similar. We will link the neighboring nodes directly to each other. Thanks to the sentinels, the neighboring nodes are guaranteed to exist.\n",
    "\n",
    "<img src=\"https://janakj.org/w3132/images/doubly-linked-list-remove.png\"/>"
   ]
  },
  {
   "cell_type": "code",
   "execution_count": 83,
   "id": "6a48d530-fd83-43e6-ab20-5809cb036de1",
   "metadata": {},
   "outputs": [],
   "source": [
    "def _delete_node(self, node):\n",
    "    el = node.element\n",
    "    \n",
    "    predecessor = node.prev\n",
    "    successor = node.next\n",
    "\n",
    "    successor.prev = node.prev\n",
    "    predecessor.next = node.next\n",
    "    self.size -= 1\n",
    " \n",
    "    return el"
   ]
  },
  {
   "cell_type": "markdown",
   "id": "7a21e4f3-6047-4d6e-894c-da8ca9f7392d",
   "metadata": {},
   "source": [
    "### Performance Analysis"
   ]
  },
  {
   "cell_type": "markdown",
   "id": "adc8770c-16e3-426c-bf21-e6cfc9515a0c",
   "metadata": {},
   "source": [
    "* The space used by each position in the list is $O(1)$\n",
    "* The space used by a doubly linked list of $n$ elements is $O(n)$\n",
    "* Adding/removing from either end run in worst-case $O(1)$ time.\n",
    "* Indexing is still $O(n)$. But in many applications we can maintain a reference to a current node, and then navigate forward or backward.\n",
    "\n",
    "_Interesting fact: Doubly-linked lists could support worst-case general (anywhere) $O(1)$ operations if, and only if, we already have a reference to the position within the list where the operation should be performed._"
   ]
  },
  {
   "cell_type": "markdown",
   "id": "02c7750b-387b-495e-a922-9500272a99cd",
   "metadata": {},
   "source": [
    "### Basic Doubly Linked List Implementation"
   ]
  },
  {
   "cell_type": "code",
   "execution_count": 85,
   "id": "f6968ee4-3e79-4601-8077-e296c15b8c1f",
   "metadata": {},
   "outputs": [],
   "source": [
    "# Not for public consumption yet\n",
    "class DoublyLinkedList:\n",
    "    def __init__(self):\n",
    "        self.header = Node(None, None, None)\n",
    "        self.trailer = Node(None, None, None)\n",
    "        self.header.next = self.trailer\n",
    "        self.trailer.prev = self.header\n",
    "        self.size = 0\n",
    "\n",
    "    #\n",
    "    # Auxilialy methods\n",
    "    #\n",
    "    \n",
    "    def __len__(self):\n",
    "        return self.size\n",
    "\n",
    "    def is_empty(self):\n",
    "        return self.size == 0\n",
    "\n",
    "    # Beware: you could mess this up\n",
    "    def _insert_between(self, e, predecessor, successor):\n",
    "        'Insert element e between the two nodes'\n",
    "        new_node = Node(e, predecessor, successor)\n",
    "        predecessor.next = new_node\n",
    "        successor.prev = new_node\n",
    "        self.size += 1\n",
    "        return new_node\n",
    "\n",
    "    # Beware: you could mess this up\n",
    "    def _delete_node(self, node):\n",
    "        'Delete the node \"node\"'\n",
    "        el = node.element\n",
    "        \n",
    "        predecessor = node.prev\n",
    "        successor = node.next\n",
    "    \n",
    "        successor.prev = node.prev\n",
    "        predecessor.next = node.next\n",
    "        self.size -= 1\n",
    "     \n",
    "        return el"
   ]
  },
  {
   "cell_type": "markdown",
   "id": "9f00f0e9-6852-40d7-861d-7a9e1fbfe6b8",
   "metadata": {},
   "source": [
    "### Example: Double-Ended Queue (Deque)"
   ]
  },
  {
   "cell_type": "markdown",
   "id": "f2d028e3-d6d8-4bd7-8fba-e84e9a2e895e",
   "metadata": {},
   "source": [
    "The deque is a generalization of the queue ADT we have seen earlier. The deque supports insertions and deletions at both ends of the queue. The Deque ADT looks as follows:"
   ]
  },
  {
   "cell_type": "code",
   "execution_count": 67,
   "id": "caae540c-99df-4c06-b47f-c2075a877bf6",
   "metadata": {},
   "outputs": [],
   "source": [
    "class Deque:\n",
    "    def add_first(self, e):\n",
    "        'Add element e to the front of the double-ended queue'\n",
    "        pass\n",
    "\n",
    "    def add_last(self, e):\n",
    "        'Add element e to the end of the double-ended queue'\n",
    "        pass\n",
    "\n",
    "    # Renamed deque operation\n",
    "    def remove_first(self):\n",
    "        'Remove the first element from the double-ended queue'\n",
    "        pass\n",
    "\n",
    "    def remove_last(self):\n",
    "        'Remove the last element from the double-ended queue'\n",
    "        pass\n",
    "\n",
    "    # Auxiliary operations\n",
    "    \n",
    "    def first(self):\n",
    "        'Return a reference to the first element in the double-ended queue'\n",
    "        pass\n",
    "\n",
    "    def last(self):\n",
    "        'Return a reference to the last element in the double-ended queue'\n",
    "        pass\n",
    "\n",
    "    def is_empty(self):\n",
    "        pass\n",
    "\n",
    "    def __len__(self):\n",
    "        pass"
   ]
  },
  {
   "cell_type": "markdown",
   "id": "26329df9-4334-466b-844b-55126a12cd48",
   "metadata": {},
   "source": [
    "An array-based implementation would implement all operations in **amortized** $O(1)$ time due to the occasional need to resize the array. A linked-list based implementation achieves all operations in worst-case $O(1)$ time! "
   ]
  },
  {
   "cell_type": "code",
   "execution_count": 86,
   "id": "241ea209-acb8-4b1e-a1bd-182afd5a73ad",
   "metadata": {},
   "outputs": [],
   "source": [
    "class LinkedDeque(DoublyLinkedList):\n",
    "    def add_first(self, e):\n",
    "        'Add element e to the front of the double-ended queue'\n",
    "        self._insert_between(e, self.header, self.header.next)\n",
    "\n",
    "    def add_last(self, e):\n",
    "        'Add element e to the end of the double-ended queue'\n",
    "        self._insert_between(e, self.trailer.prev, self.trailer)\n",
    "\n",
    "    # Renamed deque operation\n",
    "    def remove_first(self):\n",
    "        'Remove the first element from the double-ended queue'\n",
    "        if self.is_empty():\n",
    "            raise Empty('Deque is empty')\n",
    "        return self._delete_node(self.header.next)\n",
    "\n",
    "    def remove_last(self):\n",
    "        'Remove the last element from the double-ended queue'\n",
    "        if self.is_empty():\n",
    "            raise Empty('Deque is empty')\n",
    "        return self._delete_node(self.trailer.prev)\n",
    "    \n",
    "    # Auxiliary operations\n",
    "    \n",
    "    def first(self):\n",
    "        'Return a reference to the first element in the double-ended queue'\n",
    "        if self.is_empty():\n",
    "            raise Empty('Deque is empty')\n",
    "        return self.header.next.element        \n",
    "\n",
    "    def last(self):\n",
    "        'Return a reference to the last element in the double-ended queue'\n",
    "        if self.is_empty():\n",
    "            raise Empty('Deque is empty')\n",
    "        return self.trailer.prev.element\n",
    "\n",
    "    def is_empty(self):\n",
    "        return self.size == 0\n",
    "\n",
    "    def __len__(self):\n",
    "        return self.size"
   ]
  },
  {
   "cell_type": "code",
   "execution_count": 89,
   "id": "25893650-b26c-4333-bbdd-094b7a698943",
   "metadata": {},
   "outputs": [],
   "source": [
    "ld = LinkedDeque()\n",
    "ld.add_first(1)\n",
    "ld.add_first(2)\n",
    "ld.add_last('a')"
   ]
  },
  {
   "cell_type": "code",
   "execution_count": 90,
   "id": "11d807bd-2c22-4192-809a-d3c8f52fae2e",
   "metadata": {},
   "outputs": [
    {
     "name": "stdout",
     "output_type": "stream",
     "text": [
      "2\n",
      "1\n",
      "a\n",
      "None\n"
     ]
    }
   ],
   "source": [
    "cursor = ld.header.next\n",
    "while cursor is not None:\n",
    "    print(cursor.element)\n",
    "    cursor = cursor.next"
   ]
  },
  {
   "cell_type": "markdown",
   "id": "b44e194b-cf3a-4fbd-8df1-0c651b7238c9",
   "metadata": {},
   "source": [
    "### Python's built-in deque\n",
    "\n",
    "The python standard library provides a deque data structure in the collections module. \n",
    "The deque is implemented using a doubly-linked list."
   ]
  },
  {
   "cell_type": "code",
   "execution_count": 56,
   "id": "9d1452ea-6005-4365-9d68-92dcde4c4579",
   "metadata": {},
   "outputs": [
    {
     "data": {
      "text/plain": [
       "deque(['A', 'B', 'C', 'D'])"
      ]
     },
     "execution_count": 56,
     "metadata": {},
     "output_type": "execute_result"
    }
   ],
   "source": [
    "from collections import deque \n",
    "    \n",
    "# Declaring deque \n",
    "de = deque(['A','B','C'])  \n",
    "    \n",
    "de.append('D')\n",
    "\n",
    "de "
   ]
  },
  {
   "cell_type": "code",
   "execution_count": 58,
   "id": "1aa75b2e-9425-4583-b355-1679f83b1379",
   "metadata": {},
   "outputs": [
    {
     "name": "stdout",
     "output_type": "stream",
     "text": [
      "A\n"
     ]
    },
    {
     "data": {
      "text/plain": [
       "deque(['B', 'C', 'D'])"
      ]
     },
     "execution_count": 58,
     "metadata": {},
     "output_type": "execute_result"
    }
   ],
   "source": [
    "print(de.popleft())\n",
    "de"
   ]
  },
  {
   "cell_type": "code",
   "execution_count": 60,
   "id": "f49f0844-6755-4314-acfd-9bbb67a9f057",
   "metadata": {},
   "outputs": [
    {
     "name": "stdout",
     "output_type": "stream",
     "text": [
      "D\n"
     ]
    },
    {
     "data": {
      "text/plain": [
       "deque(['B', 'C'])"
      ]
     },
     "execution_count": 60,
     "metadata": {},
     "output_type": "execute_result"
    }
   ],
   "source": [
    "print(de.pop())\n",
    "de"
   ]
  },
  {
   "cell_type": "code",
   "execution_count": 62,
   "id": "f977ce7a-9758-4e7a-b275-42b19403ce40",
   "metadata": {},
   "outputs": [
    {
     "name": "stdout",
     "output_type": "stream",
     "text": [
      "C\n"
     ]
    },
    {
     "data": {
      "text/plain": [
       "deque(['B'])"
      ]
     },
     "execution_count": 62,
     "metadata": {},
     "output_type": "execute_result"
    }
   ],
   "source": [
    "print(de.pop())\n",
    "de"
   ]
  },
  {
   "cell_type": "code",
   "execution_count": 64,
   "id": "71190436-ca63-434d-86ff-a62013d0a7fb",
   "metadata": {},
   "outputs": [
    {
     "data": {
      "text/plain": [
       "deque(['E', 'B'])"
      ]
     },
     "execution_count": 64,
     "metadata": {},
     "output_type": "execute_result"
    }
   ],
   "source": [
    "de.appendleft('E')\n",
    "de"
   ]
  },
  {
   "cell_type": "markdown",
   "id": "a12edea9-3d40-4f27-8b65-08ddeb4e0afa",
   "metadata": {},
   "source": [
    "## Summary"
   ]
  },
  {
   "cell_type": "markdown",
   "id": "889c4847-2ec9-48f2-b1a0-d1adae186df0",
   "metadata": {},
   "source": [
    "### Advantages of Array-Based Sequences"
   ]
  },
  {
   "cell_type": "markdown",
   "id": "c7c8e073-8de0-4305-a080-c808df1e70ac",
   "metadata": {},
   "source": [
    "* $O(1)$ integer-based indexing\n",
    "* $O(n)$ worst case insertion, but appending at the end is $O(1)$ amortized.\n",
    "* In many use cases, operations on array-based sequences are faster than link-based sequences (by a constant factor).\n",
    "* Use proportionally less memory."
   ]
  },
  {
   "cell_type": "markdown",
   "id": "7447660d-1dc8-4977-8246-7d632baf549c",
   "metadata": {},
   "source": [
    "### Advantage of Link-Based Sequences"
   ]
  },
  {
   "cell_type": "markdown",
   "id": "41d529b5-b94c-40e7-b375-8423c587e730",
   "metadata": {},
   "source": [
    "* The $O(1)$ operations are worst-case bounds. No amortization. Including adding/deleting from either end.\n",
    "* General (anywhere) $O(1)$ insertions and deletions (if a reference to a \"current\" node is maintained).\n"
   ]
  },
  {
   "cell_type": "code",
   "execution_count": null,
   "id": "e52172f6-302b-4724-82ee-6d8849c52b14",
   "metadata": {},
   "outputs": [],
   "source": []
  },
  {
   "cell_type": "markdown",
   "id": "c536f6b1-981c-46ab-b7d9-0ba681f9bc4a",
   "metadata": {},
   "source": [
    "## (Optional: Positional List)\n",
    "\n",
    "The basic doubly linked list implementation introduced above supports generic (anywhere) insert and remove operations in theory. This allows us to implement more general structures than stacks and queues (where updates only happen on the ends). Since we don't need to resize arrays in linked lists, we might be able to design generalized stacks and queues that support insertions and deletions anywhere. For example, what if we wanted to implement a queue that:\n",
    "  * Allows waiting customers to leave the queue\n",
    "  * Allows cutting into the queue\n",
    "\n",
    "These are not easy to implement with array-based queues but might be doable in linked list queues. However, we need some reference to a *position* within the list to implement those. In array-based structures, we used integer indexes for that purpose. In linked lists, integer indexes are not helpful since our nodes are not guaranteed to be stored in adjacent memory locations.\n",
    "\n",
    "**Question**: What can we use in linked lists instead of integer-based indexes to refer to positions within the list?\n",
    "\n",
    "In this section, we will introduce the Positional List abstract data type, based on a doubly linked list, that allows us to:\n",
    "  1. Keep a reference to any elements (positions) within the sequence (like indexes)\n",
    "  2. Perform arbitrary insertions and deletions based on the reference\n",
    "\n",
    "At first glance, the Node class may seem natural to represent a position within the list. Unfortunately, such direct use of the class Node violates OO principles of abstraction and encapsulation. Also, we want our users to refrain from manipulating Node objects directly. Therefore, we introduce another class to represent an independent position within the sequence "
   ]
  },
  {
   "cell_type": "code",
   "execution_count": 74,
   "id": "af8738a1-5b3b-4065-87b8-d8dee1395f0d",
   "metadata": {},
   "outputs": [],
   "source": [
    "class Position:\n",
    "    def __init__(self, container, node):\n",
    "        self.container = container\n",
    "        self.node = node\n",
    "    \n",
    "    def element():\n",
    "        'Return the element at sequence the position'\n",
    "        return self.node.element\n",
    "\n",
    "class AbstractPositionalList:\n",
    "    \n",
    "    # ============\n",
    "    # Accessor methods that work with positions\n",
    "    # ============\n",
    "\n",
    "    def first(self):\n",
    "        'Return the POSITION of the first element of the list, or None if empty'\n",
    "        pass\n",
    "\n",
    "    def last(self):\n",
    "        'Return the POSITION of the last element of the list or None if empty'\n",
    "        pass\n",
    "\n",
    "    def before(self, pos):\n",
    "        'Return the position immediately before pos, or None if pos is first'\n",
    "        pass\n",
    "\n",
    "    def after(self, pos):\n",
    "        'Return the position immediately after pos, or None if pos is last'\n",
    "        pass\n",
    "\n",
    "    # ==============\n",
    "    # Update methods that perform generic insert and removal operations\n",
    "    # ==============\n",
    "    \n",
    "    def add_first(self, e):\n",
    "        'Insert a new element e at the front of the list, RETURNING ITS POSITION'\n",
    "        pass\n",
    "\n",
    "    def add_last(self, pos):\n",
    "        'Insert a new element e at the end of the list, RETURNING ITS POSITION'\n",
    "        pass\n",
    "\n",
    "    def add_before(self, pos, e):\n",
    "        'Insert a new element e just before position pos, returning the position of the new element'\n",
    "        pass\n",
    "\n",
    "    def add_after(self, pos, e):\n",
    "        'Insert a new element e just after position pos, returning the position of the new element'\n",
    "        pass\n",
    "\n",
    "    def replace(self, pos, e):\n",
    "        'Replace the element at position pos with element e, returning the former element'\n",
    "        pass\n",
    "\n",
    "    def remove(self, pos):\n",
    "        'Remove and return the element at position pos, invalidating the position'\n",
    "        pass\n",
    "\n",
    "    # =================\n",
    "    # Auxiliary methods\n",
    "    # =================\n",
    "\n",
    "    def is_empty(self):\n",
    "        pass\n",
    "\n",
    "    def __len__(self):\n",
    "        pass\n",
    "\n",
    "    def __iter__(self):\n",
    "        pass"
   ]
  },
  {
   "cell_type": "markdown",
   "id": "07465ef1-5e05-4866-944d-79cfacf478d9",
   "metadata": {},
   "source": [
    "Note that the `first()` and `last()` return positions, not elements. This is different from our previous implementations of these methods. This pattern allows iterating over the list as follows:\n",
    "\n",
    "```python\n",
    "cursor = data.first()\n",
    "while cursor is not None:\n",
    "    print(cursor.element())\n",
    "    cursor = data.after(cursor)\n",
    "```"
   ]
  },
  {
   "cell_type": "markdown",
   "id": "ef668957-6b28-455a-b556-f7238dee419b",
   "metadata": {},
   "source": [
    "The following table summarizes a few operations and how they related to the positions returned by the corresponding methods.\n",
    "\n",
    "<img src=\"https://janakj.org/w3132/images/pos-list-ops.png\" width=500/>"
   ]
  },
  {
   "cell_type": "markdown",
   "id": "4601a7be-1db6-455f-9cfd-a99f8673ad6f",
   "metadata": {},
   "source": [
    "### Implementation"
   ]
  },
  {
   "cell_type": "code",
   "execution_count": 91,
   "id": "d492c3c8-b068-4018-867a-eeb3fac05366",
   "metadata": {},
   "outputs": [],
   "source": [
    "class PositionalList(DoublyLinkedList):\n",
    "    # ============\n",
    "    # Accessor methods that work with positions\n",
    "    # ============\n",
    "\n",
    "    def _make_position(self, node):\n",
    "        'Turns nodes into positions somehow'\n",
    "        if node is self.header or node is self.trailer:\n",
    "            return None\n",
    "        return Position(self, node)\n",
    "\n",
    "    def _validate(self, pos):\n",
    "        'Takes a position object and returns a node'\n",
    "        # check if pos is type(Position)\n",
    "        # check pos.container == self\n",
    "        return pos.node\n",
    "    \n",
    "    def first(self):\n",
    "        'Return the POSITION of the first element of the list, or None if empty'\n",
    "        return self._make_position(self.header.next)\n",
    "\n",
    "    def last(self):\n",
    "        'Return the POSITION of the last element of the list or None if empty'\n",
    "        return self._make_position(self.trailer.prev)\n",
    "\n",
    "    def before(self, pos):\n",
    "        'Return the position immediately before pos, or None if pos is first'\n",
    "        node = self._validate(pos)\n",
    "        return self._make_position(node.prev)\n",
    "\n",
    "    def after(self, pos):\n",
    "        'Return the position immediately after pos, or None if pos is last'\n",
    "        node = self._validate(pos)\n",
    "        return self._make_position(node.next)\n",
    "\n",
    "    # ==============\n",
    "    # Update methods that perform generic insert and removal operations\n",
    "    # ==============\n",
    "\n",
    "    def _insert_between(self, e, predecessor, successor):\n",
    "        return self._make_position(super()._insert_between(e, predecessor, successor))\n",
    "    \n",
    "    def add_first(self, e):\n",
    "        'Insert a new element e at the front of the list, RETURNING ITS POSITION'\n",
    "        return self._insert_between(e, self.header, self.header.next)\n",
    "\n",
    "    def add_last(self, pos):\n",
    "        'Insert a new element e at the end of the list, RETURNING ITS POSITION'\n",
    "        return self._insert_between(e, self.trailer.prev, self.trailer)\n",
    "\n",
    "    def add_before(self, pos, e):\n",
    "        'Insert a new element e just before position pos, returning the position of the new element'\n",
    "        node = self._validate(pos)\n",
    "        return self._insert_between(e, node.prev, node)\n",
    "\n",
    "    def add_after(self, pos, e):\n",
    "        'Insert a new element e just after position pos, returning the position of the new element'\n",
    "        node = self._validate(pos)\n",
    "        return self._insert_between(e, node, node.next)\n",
    "\n",
    "    def replace(self, pos, e):\n",
    "        'Replace the element at position pos with element e, returning the former element'\n",
    "        node = self._validate(pos)\n",
    "        old = node.element\n",
    "        node.element = e\n",
    "        return old\n",
    "\n",
    "    def remove(self, pos):\n",
    "        'Remove and return the element at position pos, invalidating the position'\n",
    "        node = self._validate(pos)\n",
    "        return self._delete_node(node)\n",
    "        \n",
    "\n",
    "    # =================\n",
    "    # Auxiliary methods\n",
    "    # =================\n",
    "\n",
    "    def is_empty(self):\n",
    "        pass\n",
    "\n",
    "    def __len__(self):\n",
    "        pass\n",
    "\n",
    "    def __iter__(self):\n",
    "        pass"
   ]
  },
  {
   "cell_type": "code",
   "execution_count": null,
   "id": "1dfd648e-2dd1-450e-bb60-e6b62c8c7b46",
   "metadata": {},
   "outputs": [],
   "source": []
  }
 ],
 "metadata": {
  "kernelspec": {
   "display_name": "Python 3 (ipykernel)",
   "language": "python",
   "name": "python3"
  },
  "language_info": {
   "codemirror_mode": {
    "name": "ipython",
    "version": 3
   },
   "file_extension": ".py",
   "mimetype": "text/x-python",
   "name": "python",
   "nbconvert_exporter": "python",
   "pygments_lexer": "ipython3",
   "version": "3.12.2"
  }
 },
 "nbformat": 4,
 "nbformat_minor": 5
}
