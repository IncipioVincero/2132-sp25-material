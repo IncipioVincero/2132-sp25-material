{
 "cells": [
  {
   "cell_type": "markdown",
   "id": "efe40c11-a875-4997-9b5a-fb2978b1fe05",
   "metadata": {},
   "source": [
    "# COMS W2132 Intermediate Computing in Python\n",
    "## Trees\n",
    "\n",
    "**Date**: Feb 19th and Feb 24th 2025\n",
    "**Instructor**: Daniel Bauer (original notes by Jan Janak)\n",
    "\n",
    "**Reading**: Data Structures and Algorithms in Python, Chapter 8\n",
    "\n",
    "---"
   ]
  },
  {
   "cell_type": "markdown",
   "id": "33ff9570-c379-455a-9e19-79584fb483dc",
   "metadata": {},
   "source": [
    "### Introduction"
   ]
  },
  {
   "cell_type": "markdown",
   "id": "8c135b77-7053-4dd4-a44e-b300aa29964c",
   "metadata": {},
   "source": [
    "* One of the most ubiquitous data structures\n",
    "* File systems, databases, websites, GUI, Python modules and classes, and generally everything organized in a hierarchy\n",
    "* Hierarchically organized elements with relationships such as above, below, parent, child, ancestor, descendant\n",
    "\n",
    "<img src=\"https://janakj.org/w3132/images/exception_hierarchy.png\"/>"
   ]
  },
  {
   "cell_type": "markdown",
   "id": "26bb0bd3-abbf-45c6-ad30-edbf6058c0e0",
   "metadata": {},
   "source": [
    "## General Trees"
   ]
  },
  {
   "cell_type": "markdown",
   "id": "d72f3525-792a-43fe-9678-c037ed303b36",
   "metadata": {},
   "source": [
    "* In computer science, a tree is an abstract model of a hierarchical structure\n",
    "* Trees offer faster than linear algorithms (think binary search)"
   ]
  },
  {
   "cell_type": "markdown",
   "id": "47bcdfb0-43b6-42b3-a6cd-3720b57aff99",
   "metadata": {},
   "source": [
    "### Definitions and Properties"
   ]
  },
  {
   "cell_type": "markdown",
   "id": "d799ff15-f5b9-44f6-8b39-d33e56b89c47",
   "metadata": {},
   "source": [
    "* Tree $T$ is a set of nodes storing elements that have a parent-child relationship\n",
    "* If $T$ is not empty, it has a **root** with no parent\n",
    "* A node $v$ other than the root has a **parent** node $w$\n",
    "* A node with parent $w$ is said to be a **child** of $w$"
   ]
  },
  {
   "cell_type": "markdown",
   "id": "e68db946-9197-4a65-bd8e-af809c52dce6",
   "metadata": {},
   "source": [
    "<img src=\"https://janakj.org/w3132/images/tree.png\" width=500/>"
   ]
  },
  {
   "cell_type": "markdown",
   "id": "8c2e9647-d2b4-43f8-9718-f6fa090d9a33",
   "metadata": {},
   "source": [
    "* The children of the same parent are **siblings**\n",
    "* **Internal** node has at least one child\n",
    "* Nodes that have no children are called **leaves** (also external)\n",
    "* Node $u$ is an **ancestor** of $v$ if $u=v$ or $u$ is an ancestor of $parent(v)$\n",
    "* $u$ is a **descendant** of $v$\n",
    "* **subtree** of $T$ at $v$ is the tree of all the descendants of $v$ in T (including $v$)"
   ]
  },
  {
   "cell_type": "markdown",
   "id": "93ef3a63-aaa6-4264-a77c-553cdd8407a6",
   "metadata": {},
   "source": [
    "The order between a node's children may or may not be important. A tree is said to be **ordered** if the order among the children is important."
   ]
  },
  {
   "cell_type": "markdown",
   "id": "ec58f213-ca3c-40d2-a5e3-394377f0059f",
   "metadata": {},
   "source": [
    "### Abstract Tree Definition"
   ]
  },
  {
   "cell_type": "code",
   "execution_count": 1,
   "id": "e50b1277-0675-4699-8fe6-24f865cde58b",
   "metadata": {},
   "outputs": [],
   "source": [
    "class AbstractPosition:\n",
    "    'An abstraction representing the location of a single element'\n",
    "\n",
    "    def element(self):\n",
    "        raise NotImplemented('Must be implemented by a subclass')\n",
    "\n",
    "    def __eq__(self, other):\n",
    "        'Returns True if Position represents the same location'\n",
    "        raise NotImplemented('Must be implemented by a subclass')\n",
    "\n",
    "    def __ne__(self, other):\n",
    "        return not (self == other)\n",
    "\n",
    "class AbstractTree:\n",
    "\n",
    "    def root(self):\n",
    "        'Return the root of the tree or None'\n",
    "        raise NotImplemented('Must be implemented in subclass')\n",
    "\n",
    "    def parent(self, p):\n",
    "        'Return the parent of the node at position p or none if p is root'\n",
    "        raise NotImplemented('Must be implemented in subclass')\n",
    "\n",
    "    def children(self, p):\n",
    "        'Return all children of the node at position p'\n",
    "        raise NotImplemented('Must be implemented in subclass')\n",
    "\n",
    "    def num_children(self, p):\n",
    "        'Return the number of children of the node at position p'\n",
    "        raise NotImplemented('Must be implemented in subclass')\n",
    "\n",
    "    def __len__(self, p):\n",
    "        'Return the number of elements in the tree'\n",
    "        raise NotImplemented('Must be implemented in subclass')\n",
    "\n",
    "    # Query methods\n",
    "    \n",
    "    def is_root(self, p):\n",
    "        return self.root() == p\n",
    "\n",
    "    def is_leaf(self, p):\n",
    "        return self.num_children(p) == 0\n",
    "\n",
    "    def is_empty(self):\n",
    "        return len(self) == 0\n",
    "\n",
    "    def depth(self, p): \n",
    "        "
   ]
  },
  {
   "cell_type": "markdown",
   "id": "c5c411fb-a5f6-4342-a3af-2ead579f895b",
   "metadata": {},
   "source": [
    "### Depth and Height"
   ]
  },
  {
   "cell_type": "markdown",
   "id": "ff9003d7-bb4b-4951-bcce-3bd2a48c76cc",
   "metadata": {},
   "source": [
    "* **depth** of a node: number of ancestors\n",
    "* **height** of a tree: maximum depth of any node"
   ]
  },
  {
   "cell_type": "code",
   "execution_count": 30,
   "id": "b6eb4a92-468b-426c-89ac-c2658dba7676",
   "metadata": {},
   "outputs": [],
   "source": [
    "def depth_recursive(self, p):\n",
    "    'Calculate the depth of a tree. Recursive version.'\n",
    "    if self.is_root(p):\n",
    "        return 0\n",
    "    else:\n",
    "        return self.depth_recursive(self.parent(p)) + 1\n",
    "\n",
    "# Add the newly defined function as a method to the AbstractTree class\n",
    "AbstractTree.depth = depth_recursive"
   ]
  },
  {
   "cell_type": "code",
   "execution_count": 3,
   "id": "94c91ff3-d09e-4e8a-980e-266a6651ddae",
   "metadata": {},
   "outputs": [],
   "source": [
    "def depth_iterative(self, p):\n",
    "    'Calculate the depth of a tree. Iterative version.'\n",
    "    depth = 0\n",
    "    parent = self.parent(p)\n",
    "    while parent is not None:\n",
    "        depth += 1\n",
    "        parent = self.parent(parent)\n",
    "    return depth"
   ]
  },
  {
   "cell_type": "markdown",
   "id": "56e69ea5-652a-455c-8319-f5ba050d32b9",
   "metadata": {},
   "source": [
    "Running time: $O(d_p)$, where $d_p$ is the depth of $p$ in the tree. There is a constant-time recursive step for each ancestor. The worst case: single branch. Thus, depth() runs in in $O(n)$ in the worst case.\n",
    "\n",
    "Note: $d_p$ is usually much smaller than $n$ (trees usually don't form a single branch)"
   ]
  },
  {
   "cell_type": "markdown",
   "id": "255c8acf-958a-45de-aecc-baf2074a433a",
   "metadata": {},
   "source": [
    "The **height** of a subtree rooted in position $p$:\n",
    "* If $p$ is leaf then $height(p)=0$\n",
    "* Otherwise, the height of $p$ is the maximum height of its children + 1"
   ]
  },
  {
   "cell_type": "code",
   "execution_count": 4,
   "id": "56a2192e-65b3-43b9-b0ef-72b98c512ac2",
   "metadata": {},
   "outputs": [],
   "source": [
    "def _height(self, p): # compute the height of subtree rooted in p, recursively\n",
    "    if self.is_leaf(p):\n",
    "        return 0\n",
    "    else:\n",
    "        return 1 + max([self._height(c) for c in self.children(p)])"
   ]
  },
  {
   "cell_type": "markdown",
   "id": "33b97f6e-8268-467d-abd4-38b1f92233c8",
   "metadata": {},
   "source": [
    "Computing the height of the entire tree:"
   ]
  },
  {
   "cell_type": "code",
   "execution_count": 10,
   "id": "ae0e77bb-82c7-449f-b6b6-a944c39a4768",
   "metadata": {},
   "outputs": [],
   "source": [
    "def height(self, p=None):\n",
    "  if p is None:\n",
    "      p = self.root()\n",
    "  return self._height(p)"
   ]
  },
  {
   "cell_type": "markdown",
   "id": "e40d48db-4ca0-4ecf-a193-8bc2e08b4941",
   "metadata": {},
   "source": [
    "Running time: touch each node once $O(n)$"
   ]
  },
  {
   "cell_type": "markdown",
   "id": "121a0cb5-206c-46c3-8fa8-78b2c55945dd",
   "metadata": {},
   "source": [
    "## Binary Trees"
   ]
  },
  {
   "cell_type": "markdown",
   "id": "9684c6b2-e287-4979-9f5f-06c19daeeb5d",
   "metadata": {},
   "source": [
    "A binary tree is an ordered tree where:\n",
    "* Every node has at most two children\n",
    "* Children are labeled as **left** and **right**\n",
    "* A left child precedes a right child (ordered pair)\n",
    "\n",
    "A binary tree is called **proper** (or **full**) if each node has either zero or two children (no partial nodes)\n",
    "\n",
    "<img src=\"https://janakj.org/w3132/images/binary-tree.png\" width=500/>\n",
    "\n",
    "Applications: arithmetic expressions, searching, decision processes (yes-no questions)"
   ]
  },
  {
   "cell_type": "markdown",
   "id": "035bcb70-7acd-4e65-929e-83d501564e41",
   "metadata": {},
   "source": [
    "A binary tree representing the expression $(2 (a − 1) + (3 × b))$:\n",
    "\n",
    "<img src=\"https://janakj.org/w3132/images/arithmetic-tree.png\" width=500/>\n",
    "\n",
    "Internal nodes represent operators. External nodes represent operands."
   ]
  },
  {
   "cell_type": "markdown",
   "id": "df7aa839-c729-4a49-b731-d69088c9f4e9",
   "metadata": {},
   "source": [
    "### Abstract Binary Tree Definition"
   ]
  },
  {
   "cell_type": "code",
   "execution_count": 6,
   "id": "f882df7a-f028-4993-a89a-3769e27bb1ee",
   "metadata": {},
   "outputs": [],
   "source": [
    "class AbstractBinaryTree(AbstractTree):\n",
    "    def left(self, p):\n",
    "        'Return the left child of node at position p'\n",
    "        raise NotImplemented('Must be  implemented by subclass')\n",
    "\n",
    "    def right(self, p):\n",
    "        'Return the right child of node at position p'\n",
    "        raise NotImplemented('Must be  implemented by subclass')\n",
    "\n",
    "    def sibling(self, p):\n",
    "        parent = self.parent(p)\n",
    "        if parent is None:\n",
    "            return None\n",
    "        else:\n",
    "            if p == self.left(parent):\n",
    "                return self.right(parent)\n",
    "            else:\n",
    "                return self.left(parent)\n",
    "\n",
    "    def children(self, p):\n",
    "        children = []\n",
    "        if self.left(p) is not None:\n",
    "            children.append(self.left(p))\n",
    "            \n",
    "        if self.right(p) is not None:\n",
    "            children.append(self.right(p))\n",
    "        return children"
   ]
  },
  {
   "cell_type": "markdown",
   "id": "86fed24d-6392-4f85-9b6d-c516f8b55ab7",
   "metadata": {},
   "source": [
    "Interesting relationships between the height and number of nodes in a binary tree:\n",
    "* Each level $d$ has at most $2^d$ nodes.\n",
    "\n",
    "* A binary tree of height $h$ has at least $h+1$ nodes and at most $n \\leq 2^{(h+1)}-1$ nodes.\n",
    "\n",
    "* Thus a tree with n nodes has at least height $h \\geq \\lfloor \\log_2 (n + 1) \\rfloor$.\n",
    "\n",
    "Furthermore, if the binary tree is full/proper: \n",
    "\n",
    "* Relationship between leaves *l* and internal nodes *i*\n",
    "  * $l = i + 1$, and thus\n",
    "  * $n = 2i + 1 = 2l -1$\n",
    "  * $i = (n– 1)/2$\n",
    "  * $l = (n + 1)/2$"
   ]
  },
  {
   "cell_type": "markdown",
   "id": "7dceec04-0ef3-4d64-afd0-16c774ded804",
   "metadata": {},
   "source": [
    "## Implementing Trees"
   ]
  },
  {
   "cell_type": "markdown",
   "id": "f588efa3-bdea-4063-bb49-0401a5dba5e1",
   "metadata": {},
   "source": [
    "The classes defined above are abstract. We now specify concrete implementations for some of the methods, namely root, parent, num)children, children, and \\_\\_len\\_\\_."
   ]
  },
  {
   "cell_type": "markdown",
   "id": "cbb79207-a2ef-4dc1-91c0-83babbc00efe",
   "metadata": {},
   "source": [
    "### Linked Trees"
   ]
  },
  {
   "cell_type": "markdown",
   "id": "cec04486-7567-4c10-a095-4f25f8d7cfd7",
   "metadata": {},
   "source": [
    "We will start with a **linked structure** where nodes maintain references to children and the parent.\n",
    "\n",
    "<img src=\"https://janakj.org/w3132/images/tree-linked.png\" width=700/>"
   ]
  },
  {
   "cell_type": "markdown",
   "id": "06f2fb8f-5e35-4d4f-a5f2-cd84a88b20a1",
   "metadata": {},
   "source": [
    "Worst-case constant-time update methods:\n",
    "* add_root(e): Create a root for an empty tree\n",
    "* add_left(p, e): Link the node as left child of p\n",
    "* add_right(p, e): Link the node as right child of p\n",
    "* replace(p, e): Replace the element stored at p with e\n",
    "* delete(p) Remove the node at p, replacing it with its child (if any) and return the element. Report error if there are multiple children\n",
    "* attach(p, t1, t2): Attach the internal structures of t1 and t2 as left and right subtrees of leaf p"
   ]
  },
  {
   "cell_type": "code",
   "execution_count": 7,
   "id": "fd6e4d17-355f-4abd-98a2-7da37862a08d",
   "metadata": {},
   "outputs": [],
   "source": [
    "class LinkedBinaryTree(AbstractBinaryTree):\n",
    "    class _Node:\n",
    "        def __init__(self, element, parent=None, left=None, right=None):\n",
    "          self._element = element\n",
    "          self._parent = parent            \n",
    "          self._left = left\n",
    "          self._right = right\n",
    "                \n",
    "    class Position(AbstractPosition):\n",
    "        def __init__(self, container, node):\n",
    "            self._container = container\n",
    "            self._node = node\n",
    "        \n",
    "        def element(self):\n",
    "            return self._node._element\n",
    "\n",
    "        def __eq__(self, other):\n",
    "            return type(other) is type(self) and other._node is self._node\n",
    "            \n",
    "    def _make_position(self, node):\n",
    "        \"Converts a node to the node's position in the tree\"\n",
    "        if node is None:\n",
    "            return None\n",
    "        else:\n",
    "            return self.Position(self, node)\n",
    "\n",
    "    def _validate(self, p): # retrieve the node object in position p \n",
    "        if not isinstance(p, self.Position):\n",
    "            raise TypeError('p must be proper Position type')\n",
    "        if p._container is not self:\n",
    "            raise ValueError('p does not belong to this container')\n",
    "        if p._node._parent is p._node:\n",
    "            raise ValueError('p is no longer valid')\n",
    "        return p._node\n",
    "\n",
    "    def __init__(self):\n",
    "        'Create an empty linked binary tree'\n",
    "        self._root = None\n",
    "        self._size = 0\n",
    "\n",
    "    def __len__(self):\n",
    "        return self._size\n",
    "\n",
    "    def root(self):\n",
    "        return self._make_position(self._root)\n",
    "\n",
    "    def parent(self, p):\n",
    "        'Return the parent of the node at position p or none if p is root'\n",
    "        node = self._validate(p)\n",
    "        return self._make_position(node._parent)\n",
    "\n",
    "    def left(self, p):\n",
    "        node = self._validate(p)\n",
    "        return self._make_position(node._left)\n",
    "\n",
    "    def right(self, p):\n",
    "        node = self._validate(p)\n",
    "        return self._make_position(node._right)\n",
    "\n",
    "    def num_children(self, p):\n",
    "        node = self._validate(p)\n",
    "        count = 0\n",
    "        if node._left is not None:\n",
    "            count += 1\n",
    "        if node._right is not None:\n",
    "            count += 1\n",
    "        return count\n",
    "\n",
    "    # Constant time operation\n",
    "    def _add_root(self, e):\n",
    "        if self._root is not None:\n",
    "            raise ValueError('Root exists')\n",
    "        self._size = 1\n",
    "        self._root = self._Node(e)\n",
    "        return self._make_position(self._root)\n",
    "\n",
    "    # Constant-time operation\n",
    "    def _add_left(self, p, e):\n",
    "        node = self._validate(p)\n",
    "        if node._left is not None:\n",
    "            raise ValueError('Left child exists')\n",
    "        self._size += 1\n",
    "        node._left = self._Node(e, node)\n",
    "        return self._make_position(node._left)\n",
    "\n",
    "    # Constant-time operation\n",
    "    def _add_right(self, p, e):\n",
    "        node = self._validate(p)\n",
    "        if node._right is not None:\n",
    "            raise ValueError('Right child exists')\n",
    "        self._size += 1\n",
    "        node._right = self._Node(e, node)\n",
    "        return self._make_position(node._right)\n",
    "\n",
    "    def _replace(self, p, e):\n",
    "        node = self._validate(p)\n",
    "        old = node._element\n",
    "        node._element = e\n",
    "        return old\n",
    "                \n",
    "    def _delete(self, p):\n",
    "        node = self._validate(p)\n",
    "\n",
    "        # We cannot easily delete a node that has two children. If the\n",
    "        # node has only one child, the child could be plugged into the\n",
    "        # tree instead of the parent being removed. But there is no easy\n",
    "        # way to plug the other child.\n",
    "        if self.num_children(p) == 2:\n",
    "            raise ValueError('Position has two children')\n",
    "            \n",
    "        child = node._left if node._left else node._right\n",
    "        if child is not None:\n",
    "            child._parent = node._parent\n",
    "            \n",
    "        if node is self._root:\n",
    "            self._root = child\n",
    "        else:\n",
    "            parent = node._parent\n",
    "            if node is parent._left:\n",
    "                parent._left = child\n",
    "            else:\n",
    "                parent._right = child\n",
    "\n",
    "        self._size -= 1\n",
    "        node._parent = node\n",
    "        return node._element\n",
    "        \n",
    "    def _replace(self, p, e):\n",
    "        node = self._validate(p)\n",
    "        old = node._element\n",
    "        node._element = e\n",
    "        return old\n",
    "  \n",
    "    def _attach(self, p, t1, t2):\n",
    "        node = self._validate(p)\n",
    "        if not self.is_leaf(p):\n",
    "            raise ValueError('position must be leaf')\n",
    "            \n",
    "        if not type(self) is type(t1) is type(t2):\n",
    "            raise TypeError('Tree types must match')\n",
    "    \n",
    "        self._size += len(t1) + len(t2)\n",
    "        if not t1.is_empty():\n",
    "            t1._root._parent = node\n",
    "            node._left = t1._root\n",
    "            t1._root = None\n",
    "            t1._size = 0\n",
    "        if not t2.is_empty():\n",
    "            t2._root._parent = node\n",
    "            node._right = t2._root\n",
    "            t2._root = None\n",
    "            t2._size = 0"
   ]
  },
  {
   "cell_type": "markdown",
   "id": "6783c5ef-f74a-44d2-8425-a482c51ca53c",
   "metadata": {},
   "source": [
    "#### Running Times"
   ]
  },
  {
   "cell_type": "markdown",
   "id": "db700dd8-e266-4c12-be49-55bc741309d3",
   "metadata": {},
   "source": [
    "* The len method takes $O(1)$\n",
    "* Method is_empty (inherited) calls len() and is thus $O(1)$\n",
    "* Methods root, left, right, parent, and num_children are all $O(1)$\n",
    "* Methods siblings and children (inherited from AbstractBinaryTree) use a constant number of accessors and are $O(1)$\n",
    "* is_root and is_leaf are both $O(1)$\n",
    "* depth is $O(d_p + 1)$\n",
    "* height is $O(n)$\n",
    "* The various update methods are all $O(1)$"
   ]
  },
  {
   "cell_type": "markdown",
   "id": "e3db180b-eec7-4a76-857a-1c28d7707a16",
   "metadata": {},
   "source": [
    "### Array Binary Trees"
   ]
  },
  {
   "cell_type": "markdown",
   "id": "6387c079-20e4-4be0-ac0f-d5ce8854b309",
   "metadata": {},
   "source": [
    "Binary (and only binary) trees can also be efficiently stored in arrays. We simply derive an array index $rank(p)$ for every position $p$ of a binary tree as follows:\n",
    "* $rank(p) = 1$ if $p$ is the root of the tree\n",
    "* $rank(p) = 2\\cdot rank(q)$ if $p$ is the left child of $q$\n",
    "* $rank(p) = 2\\cdot rank(q) + 1$ if $p$ is the right child of $q$\n",
    "\n",
    "<img src=\"https://janakj.org/w3132/images/array-binary-trees.png\" width=700/>"
   ]
  },
  {
   "cell_type": "markdown",
   "id": "98c77682-f122-48f5-869f-0c9d61f677d2",
   "metadata": {},
   "source": [
    "**Important**: The elements are not necessarily stored in consecutive elements of the array!"
   ]
  },
  {
   "cell_type": "markdown",
   "id": "ac78f312-ceba-468c-a4f1-335cf9c7e295",
   "metadata": {},
   "source": [
    "Going back to the arithmetic tree example, let's see how that would be implemented in the array.\n",
    "\n",
    "<img src=\"https://janakj.org/w3132/images/arithmetic-tree.png\" width=500/>\n",
    "\n",
    "| 0       | 1      | 2 | 3 | 4 | 5 | 6 | 7 | 8 | 9 |\n",
    "| --------| -------|---|---|---|---|---|---|---|---|\n",
    "|         | +      |   |   |   |   |   |   |   |   |"
   ]
  },
  {
   "cell_type": "markdown",
   "id": "2f0d8014-2d28-49fb-bc5b-075b59ac0dce",
   "metadata": {},
   "source": [
    "Characteristics of an array-based binary tree implementation:\n",
    "* A position can be represented by a single integer (rank(p))\n",
    "* Methods such as root, parent, left, and right are simple arithmetic operations on rank(p)\n",
    "* Space usage:\n",
    "  * Depends on the shape of the tree\n",
    "  * The array may have a number of empty cells ($N = 2^n - 1$ in the worst case, **prohibitive**)\n",
    "* Some update operations cannot be efficiently supported, e.g., deleting a node takes $O(n)$.\n",
    " \n",
    "Note: There is a class of binary trees called heaps that can be stored efficiently in an array of $n$ elements, where $n$ is the number of nodes, i.e., heaps leave no empty cells."
   ]
  },
  {
   "cell_type": "markdown",
   "id": "67ee8561-f9a6-4839-95b1-87c7c6963fe9",
   "metadata": {},
   "source": [
    "## Tree Traversal Algorithms"
   ]
  },
  {
   "cell_type": "markdown",
   "id": "69ddeec1-dd92-4a91-a757-1badc035c594",
   "metadata": {},
   "source": [
    "So far, we have developed a Python class hierarchy to represent various trees looking as follows:\n",
    "\n",
    "<img src=\"https://janakj.org/w3132/images/tree-hierarchy.png\"/>\n",
    "\n",
    "Now it is time to see how to use them. In this section, we will discuss selected tree traversal algorithms, i.e., algorithms that systematically access (or visit) all positions in a tree. The algorithm will perform some action for each visited position as part of the visit. These actions could involve simple or complex computations, depending on the application.\n",
    "\n",
    "There are several systematic ways of visiting all positions of a tree:\n",
    "  * **Preorder**: the position is visited first, followed by recursive visits to all its children\n",
    "  * **Postorder**: The children of a node are visited before the node itself is visited\n",
    "  * **Inorder**: A subset of children is visited first, then the position itself, and then the rest of the children. Inorder traversal is mostly applicable to binary trees.\n",
    "  * **Breadth-First**: The positions are visited according to their depth (root first, then all nodes at depth 1, then all nodes at depth 2, and so on)\n",
    "\n",
    "We will introduce these traversal techniques in the context of their applications. For a more formal treatment of the topic, please consult Chapter 8 in the textbook."
   ]
  },
  {
   "cell_type": "markdown",
   "id": "1f787b1f-c770-4905-92da-4b0b013a149a",
   "metadata": {},
   "source": [
    "### Binary Search (Inorder Traversal)"
   ]
  },
  {
   "cell_type": "markdown",
   "id": "b97250c6-c96b-4e0a-8010-0d900397111a",
   "metadata": {},
   "source": [
    "Homework 1 asked you to implement the Wordle game. The assignment asked you to check if the guessed word is in the Wordle dictionary. Most of you probably implemented a simple check looking as follows:"
   ]
  },
  {
   "cell_type": "code",
   "execution_count": 8,
   "id": "125b964d-1652-4105-b9f2-481699b5dde6",
   "metadata": {},
   "outputs": [],
   "source": [
    "def load_dictionary(filename):\n",
    "    dictionary = []\n",
    "    with open(filename, 'r') as file:\n",
    "        for line in file:\n",
    "            word = line.strip().lower()\n",
    "            dictionary.append(word)\n",
    "    return dictionary\n",
    "\n",
    "wordle = load_dictionary('wordle.txt')"
   ]
  },
  {
   "cell_type": "markdown",
   "id": "c03da79b-b948-4157-a271-a82f01f22759",
   "metadata": {},
   "source": [
    "We can then show the length of the list and use the in operator to test if a word is in the list:"
   ]
  },
  {
   "cell_type": "code",
   "execution_count": 9,
   "id": "3c809b51-ca24-4e6a-a67d-b92712f13ae2",
   "metadata": {},
   "outputs": [
    {
     "name": "stdout",
     "output_type": "stream",
     "text": [
      "2315\n",
      "True\n",
      "False\n"
     ]
    }
   ],
   "source": [
    "print(len(wordle))\n",
    "print(\"adobe\" in wordle)\n",
    "print(\"aaaaa\" in wordle)"
   ]
  },
  {
   "cell_type": "markdown",
   "id": "9f93b774-27d2-466e-bb81-936cc38adedb",
   "metadata": {},
   "source": [
    "The above check takes $O(n)$ in the worst case, i.e., when the word is not in the Wordle dictionary."
   ]
  },
  {
   "cell_type": "markdown",
   "id": "c5ab6ca9-d4e9-4abb-a936-474c979ded11",
   "metadata": {},
   "source": [
    "We can do better by storing the word list in a binary tree. Let's define functions to add the words to a binary tree:"
   ]
  },
  {
   "cell_type": "code",
   "execution_count": 10,
   "id": "5163f2ca-1fec-45da-b083-f3699b15149f",
   "metadata": {},
   "outputs": [],
   "source": [
    "# Write the _insert_below and insert method and insert them in the AbstractBinaryTree class\n",
    "\n",
    "def _insert_below(self, p, e):\n",
    "    if e < p.element():\n",
    "        if self.left(p):\n",
    "            self._insert_below(self.left(p), e)\n",
    "        else:\n",
    "            self._add_left(p, e)\n",
    "    else:\n",
    "        if self.right(p):\n",
    "            self._insert_below(self.right(p), e)\n",
    "        else:\n",
    "            self._add_right(p, e)\n",
    "\n",
    "def insert(self, e):\n",
    "    if self.is_empty():\n",
    "        self._add_root(e)\n",
    "    else:\n",
    "        self._insert_below(tree.root(), e)\n",
    "\n",
    "AbstractBinaryTree._insert_below = _insert_below\n",
    "AbstractBinaryTree.insert = insert"
   ]
  },
  {
   "cell_type": "markdown",
   "id": "4cb1b891-442a-48c3-a477-bc220c3e7345",
   "metadata": {},
   "source": [
    "And convert the list to a tree as follows:"
   ]
  },
  {
   "cell_type": "code",
   "execution_count": 11,
   "id": "339a23ba-f21a-4c25-895b-d75f256f99c9",
   "metadata": {},
   "outputs": [],
   "source": [
    "tree = LinkedBinaryTree()\n",
    "\n",
    "for word in wordle:\n",
    "    tree.insert(word)"
   ]
  },
  {
   "cell_type": "markdown",
   "id": "d4c3b42e-f08c-4f71-81e6-d9f885c137b6",
   "metadata": {},
   "source": [
    "When you run the above cell, you will notice that it takes a long time. When you try to print the height of the resulting tree, you are probably going to get \"a maximum recursion depth\" exception:"
   ]
  },
  {
   "cell_type": "code",
   "execution_count": 12,
   "id": "73154116-72c9-4cc9-8032-80821752db04",
   "metadata": {},
   "outputs": [
    {
     "ename": "RecursionError",
     "evalue": "maximum recursion depth exceeded",
     "output_type": "error",
     "traceback": [
      "\u001b[0;31m---------------------------------------------------------------------------\u001b[0m",
      "\u001b[0;31mRecursionError\u001b[0m                            Traceback (most recent call last)",
      "Cell \u001b[0;32mIn[12], line 1\u001b[0m\n\u001b[0;32m----> 1\u001b[0m \u001b[38;5;28mprint\u001b[39m(\u001b[43mtree\u001b[49m\u001b[38;5;241;43m.\u001b[39;49m\u001b[43mheight\u001b[49m\u001b[43m(\u001b[49m\u001b[43m)\u001b[49m)\n",
      "Cell \u001b[0;32mIn[5], line 4\u001b[0m, in \u001b[0;36mheight\u001b[0;34m(self, p)\u001b[0m\n\u001b[1;32m      2\u001b[0m \u001b[38;5;28;01mif\u001b[39;00m p \u001b[38;5;129;01mis\u001b[39;00m \u001b[38;5;28;01mNone\u001b[39;00m:\n\u001b[1;32m      3\u001b[0m     p \u001b[38;5;241m=\u001b[39m \u001b[38;5;28mself\u001b[39m\u001b[38;5;241m.\u001b[39mroot()\n\u001b[0;32m----> 4\u001b[0m \u001b[38;5;28;01mreturn\u001b[39;00m \u001b[38;5;28;43mself\u001b[39;49m\u001b[38;5;241;43m.\u001b[39;49m\u001b[43m_height\u001b[49m\u001b[43m(\u001b[49m\u001b[43mp\u001b[49m\u001b[43m)\u001b[49m\n",
      "Cell \u001b[0;32mIn[4], line 5\u001b[0m, in \u001b[0;36m_height\u001b[0;34m(self, p)\u001b[0m\n\u001b[1;32m      3\u001b[0m     \u001b[38;5;28;01mreturn\u001b[39;00m \u001b[38;5;241m0\u001b[39m\n\u001b[1;32m      4\u001b[0m \u001b[38;5;28;01melse\u001b[39;00m:\n\u001b[0;32m----> 5\u001b[0m     \u001b[38;5;28;01mreturn\u001b[39;00m \u001b[38;5;241m1\u001b[39m \u001b[38;5;241m+\u001b[39m \u001b[38;5;28mmax\u001b[39m(\u001b[43m[\u001b[49m\u001b[38;5;28;43mself\u001b[39;49m\u001b[38;5;241;43m.\u001b[39;49m\u001b[43m_height\u001b[49m\u001b[43m(\u001b[49m\u001b[43mc\u001b[49m\u001b[43m)\u001b[49m\u001b[43m \u001b[49m\u001b[38;5;28;43;01mfor\u001b[39;49;00m\u001b[43m \u001b[49m\u001b[43mc\u001b[49m\u001b[43m \u001b[49m\u001b[38;5;129;43;01min\u001b[39;49;00m\u001b[43m \u001b[49m\u001b[38;5;28;43mself\u001b[39;49m\u001b[38;5;241;43m.\u001b[39;49m\u001b[43mchildren\u001b[49m\u001b[43m(\u001b[49m\u001b[43mp\u001b[49m\u001b[43m)\u001b[49m\u001b[43m]\u001b[49m)\n",
      "Cell \u001b[0;32mIn[4], line 5\u001b[0m, in \u001b[0;36m<listcomp>\u001b[0;34m(.0)\u001b[0m\n\u001b[1;32m      3\u001b[0m     \u001b[38;5;28;01mreturn\u001b[39;00m \u001b[38;5;241m0\u001b[39m\n\u001b[1;32m      4\u001b[0m \u001b[38;5;28;01melse\u001b[39;00m:\n\u001b[0;32m----> 5\u001b[0m     \u001b[38;5;28;01mreturn\u001b[39;00m \u001b[38;5;241m1\u001b[39m \u001b[38;5;241m+\u001b[39m \u001b[38;5;28mmax\u001b[39m([\u001b[38;5;28;43mself\u001b[39;49m\u001b[38;5;241;43m.\u001b[39;49m\u001b[43m_height\u001b[49m\u001b[43m(\u001b[49m\u001b[43mc\u001b[49m\u001b[43m)\u001b[49m \u001b[38;5;28;01mfor\u001b[39;00m c \u001b[38;5;129;01min\u001b[39;00m \u001b[38;5;28mself\u001b[39m\u001b[38;5;241m.\u001b[39mchildren(p)])\n",
      "Cell \u001b[0;32mIn[4], line 5\u001b[0m, in \u001b[0;36m_height\u001b[0;34m(self, p)\u001b[0m\n\u001b[1;32m      3\u001b[0m     \u001b[38;5;28;01mreturn\u001b[39;00m \u001b[38;5;241m0\u001b[39m\n\u001b[1;32m      4\u001b[0m \u001b[38;5;28;01melse\u001b[39;00m:\n\u001b[0;32m----> 5\u001b[0m     \u001b[38;5;28;01mreturn\u001b[39;00m \u001b[38;5;241m1\u001b[39m \u001b[38;5;241m+\u001b[39m \u001b[38;5;28mmax\u001b[39m(\u001b[43m[\u001b[49m\u001b[38;5;28;43mself\u001b[39;49m\u001b[38;5;241;43m.\u001b[39;49m\u001b[43m_height\u001b[49m\u001b[43m(\u001b[49m\u001b[43mc\u001b[49m\u001b[43m)\u001b[49m\u001b[43m \u001b[49m\u001b[38;5;28;43;01mfor\u001b[39;49;00m\u001b[43m \u001b[49m\u001b[43mc\u001b[49m\u001b[43m \u001b[49m\u001b[38;5;129;43;01min\u001b[39;49;00m\u001b[43m \u001b[49m\u001b[38;5;28;43mself\u001b[39;49m\u001b[38;5;241;43m.\u001b[39;49m\u001b[43mchildren\u001b[49m\u001b[43m(\u001b[49m\u001b[43mp\u001b[49m\u001b[43m)\u001b[49m\u001b[43m]\u001b[49m)\n",
      "Cell \u001b[0;32mIn[4], line 5\u001b[0m, in \u001b[0;36m<listcomp>\u001b[0;34m(.0)\u001b[0m\n\u001b[1;32m      3\u001b[0m     \u001b[38;5;28;01mreturn\u001b[39;00m \u001b[38;5;241m0\u001b[39m\n\u001b[1;32m      4\u001b[0m \u001b[38;5;28;01melse\u001b[39;00m:\n\u001b[0;32m----> 5\u001b[0m     \u001b[38;5;28;01mreturn\u001b[39;00m \u001b[38;5;241m1\u001b[39m \u001b[38;5;241m+\u001b[39m \u001b[38;5;28mmax\u001b[39m([\u001b[38;5;28;43mself\u001b[39;49m\u001b[38;5;241;43m.\u001b[39;49m\u001b[43m_height\u001b[49m\u001b[43m(\u001b[49m\u001b[43mc\u001b[49m\u001b[43m)\u001b[49m \u001b[38;5;28;01mfor\u001b[39;00m c \u001b[38;5;129;01min\u001b[39;00m \u001b[38;5;28mself\u001b[39m\u001b[38;5;241m.\u001b[39mchildren(p)])\n",
      "    \u001b[0;31m[... skipping similar frames: <listcomp> at line 5 (1481 times), _height at line 5 (1481 times)]\u001b[0m\n",
      "Cell \u001b[0;32mIn[4], line 5\u001b[0m, in \u001b[0;36m_height\u001b[0;34m(self, p)\u001b[0m\n\u001b[1;32m      3\u001b[0m     \u001b[38;5;28;01mreturn\u001b[39;00m \u001b[38;5;241m0\u001b[39m\n\u001b[1;32m      4\u001b[0m \u001b[38;5;28;01melse\u001b[39;00m:\n\u001b[0;32m----> 5\u001b[0m     \u001b[38;5;28;01mreturn\u001b[39;00m \u001b[38;5;241m1\u001b[39m \u001b[38;5;241m+\u001b[39m \u001b[38;5;28mmax\u001b[39m(\u001b[43m[\u001b[49m\u001b[38;5;28;43mself\u001b[39;49m\u001b[38;5;241;43m.\u001b[39;49m\u001b[43m_height\u001b[49m\u001b[43m(\u001b[49m\u001b[43mc\u001b[49m\u001b[43m)\u001b[49m\u001b[43m \u001b[49m\u001b[38;5;28;43;01mfor\u001b[39;49;00m\u001b[43m \u001b[49m\u001b[43mc\u001b[49m\u001b[43m \u001b[49m\u001b[38;5;129;43;01min\u001b[39;49;00m\u001b[43m \u001b[49m\u001b[38;5;28;43mself\u001b[39;49m\u001b[38;5;241;43m.\u001b[39;49m\u001b[43mchildren\u001b[49m\u001b[43m(\u001b[49m\u001b[43mp\u001b[49m\u001b[43m)\u001b[49m\u001b[43m]\u001b[49m)\n",
      "Cell \u001b[0;32mIn[4], line 5\u001b[0m, in \u001b[0;36m<listcomp>\u001b[0;34m(.0)\u001b[0m\n\u001b[1;32m      3\u001b[0m     \u001b[38;5;28;01mreturn\u001b[39;00m \u001b[38;5;241m0\u001b[39m\n\u001b[1;32m      4\u001b[0m \u001b[38;5;28;01melse\u001b[39;00m:\n\u001b[0;32m----> 5\u001b[0m     \u001b[38;5;28;01mreturn\u001b[39;00m \u001b[38;5;241m1\u001b[39m \u001b[38;5;241m+\u001b[39m \u001b[38;5;28mmax\u001b[39m(\u001b[43m[\u001b[49m\u001b[38;5;28;43mself\u001b[39;49m\u001b[38;5;241;43m.\u001b[39;49m\u001b[43m_height\u001b[49m\u001b[43m(\u001b[49m\u001b[43mc\u001b[49m\u001b[43m)\u001b[49m\u001b[43m \u001b[49m\u001b[38;5;28;43;01mfor\u001b[39;49;00m\u001b[43m \u001b[49m\u001b[43mc\u001b[49m\u001b[43m \u001b[49m\u001b[38;5;129;43;01min\u001b[39;49;00m\u001b[43m \u001b[49m\u001b[38;5;28;43mself\u001b[39;49m\u001b[38;5;241;43m.\u001b[39;49m\u001b[43mchildren\u001b[49m\u001b[43m(\u001b[49m\u001b[43mp\u001b[49m\u001b[43m)\u001b[49m\u001b[43m]\u001b[49m)\n",
      "Cell \u001b[0;32mIn[6], line 24\u001b[0m, in \u001b[0;36mAbstractBinaryTree.children\u001b[0;34m(self, p)\u001b[0m\n\u001b[1;32m     21\u001b[0m \u001b[38;5;28;01mif\u001b[39;00m \u001b[38;5;28mself\u001b[39m\u001b[38;5;241m.\u001b[39mleft(p) \u001b[38;5;129;01mis\u001b[39;00m \u001b[38;5;129;01mnot\u001b[39;00m \u001b[38;5;28;01mNone\u001b[39;00m:\n\u001b[1;32m     22\u001b[0m     \u001b[38;5;28;01myield\u001b[39;00m \u001b[38;5;28mself\u001b[39m\u001b[38;5;241m.\u001b[39mleft(p)\n\u001b[0;32m---> 24\u001b[0m \u001b[38;5;28;01mif\u001b[39;00m \u001b[38;5;28;43mself\u001b[39;49m\u001b[38;5;241;43m.\u001b[39;49m\u001b[43mright\u001b[49m\u001b[43m(\u001b[49m\u001b[43mp\u001b[49m\u001b[43m)\u001b[49m \u001b[38;5;129;01mis\u001b[39;00m \u001b[38;5;129;01mnot\u001b[39;00m \u001b[38;5;28;01mNone\u001b[39;00m:\n\u001b[1;32m     25\u001b[0m     \u001b[38;5;28;01myield\u001b[39;00m \u001b[38;5;28mself\u001b[39m\u001b[38;5;241m.\u001b[39mright(p)\n",
      "Cell \u001b[0;32mIn[7], line 58\u001b[0m, in \u001b[0;36mLinkedBinaryTree.right\u001b[0;34m(self, p)\u001b[0m\n\u001b[1;32m     56\u001b[0m \u001b[38;5;28;01mdef\u001b[39;00m \u001b[38;5;21mright\u001b[39m(\u001b[38;5;28mself\u001b[39m, p):\n\u001b[1;32m     57\u001b[0m     node \u001b[38;5;241m=\u001b[39m \u001b[38;5;28mself\u001b[39m\u001b[38;5;241m.\u001b[39m_validate(p)\n\u001b[0;32m---> 58\u001b[0m     \u001b[38;5;28;01mreturn\u001b[39;00m \u001b[38;5;28;43mself\u001b[39;49m\u001b[38;5;241;43m.\u001b[39;49m\u001b[43m_make_position\u001b[49m\u001b[43m(\u001b[49m\u001b[43mnode\u001b[49m\u001b[38;5;241;43m.\u001b[39;49m\u001b[43m_right\u001b[49m\u001b[43m)\u001b[49m\n",
      "Cell \u001b[0;32mIn[7], line 25\u001b[0m, in \u001b[0;36mLinkedBinaryTree._make_position\u001b[0;34m(self, node)\u001b[0m\n\u001b[1;32m     23\u001b[0m     \u001b[38;5;28;01mreturn\u001b[39;00m \u001b[38;5;28;01mNone\u001b[39;00m\n\u001b[1;32m     24\u001b[0m \u001b[38;5;28;01melse\u001b[39;00m:\n\u001b[0;32m---> 25\u001b[0m     \u001b[38;5;28;01mreturn\u001b[39;00m \u001b[38;5;28;43mself\u001b[39;49m\u001b[38;5;241;43m.\u001b[39;49m\u001b[43mPosition\u001b[49m\u001b[43m(\u001b[49m\u001b[38;5;28;43mself\u001b[39;49m\u001b[43m,\u001b[49m\u001b[43m \u001b[49m\u001b[43mnode\u001b[49m\u001b[43m)\u001b[49m\n",
      "\u001b[0;31mRecursionError\u001b[0m: maximum recursion depth exceeded"
     ]
    }
   ],
   "source": [
    "print(tree.height())"
   ]
  },
  {
   "attachments": {},
   "cell_type": "markdown",
   "id": "441f7455-8327-4808-a75b-f58ab67bb8a0",
   "metadata": {},
   "source": [
    "It turns out that the Wordle list is alphabetically sorted. Thus, we produce a really long list, or a tree where all elements are inserted to the right of the root or the parent element.\n",
    "\n",
    "<img src=\"https://janakj.org/w3132/images/wordle-tree-bad.png\"/>\n",
    "\n",
    "We can fix this by shuffling the input sequence:"
   ]
  },
  {
   "cell_type": "code",
   "execution_count": 74,
   "id": "d1743a0e-b573-407d-89d0-c364350a0fcd",
   "metadata": {},
   "outputs": [],
   "source": [
    "import random\n",
    "random.shuffle(wordle)\n",
    "\n",
    "tree = LinkedBinaryTree()\n",
    "\n",
    "for word in wordle:\n",
    "    tree.insert(word)"
   ]
  },
  {
   "cell_type": "code",
   "execution_count": 81,
   "id": "cf674b28-5523-42a8-a72e-7bb96dfa4c05",
   "metadata": {},
   "outputs": [
    {
     "name": "stdout",
     "output_type": "stream",
     "text": [
      "waver\n"
     ]
    }
   ],
   "source": [
    "print(tree.right(tree.right(tree.root())).element())"
   ]
  },
  {
   "attachments": {},
   "cell_type": "markdown",
   "id": "484947ec-474c-46fa-9738-24fa700000c9",
   "metadata": {},
   "source": [
    "That was much faster! The tree will look similar to this example:\n",
    "\n",
    "<img src=\"https://janakj.org/w3132/images/wordle-tree-good.png\"/>\n",
    "\n",
    "Also, we can display the tree's height now:"
   ]
  },
  {
   "cell_type": "code",
   "execution_count": 14,
   "id": "20627096-5e2d-4a83-84ee-7d6b1be167e2",
   "metadata": {},
   "outputs": [
    {
     "name": "stdout",
     "output_type": "stream",
     "text": [
      "26\n"
     ]
    }
   ],
   "source": [
    "print(tree.height())"
   ]
  },
  {
   "cell_type": "markdown",
   "id": "0b0ed004-fd8d-4f93-9353-aebe8d57e651",
   "metadata": {},
   "source": [
    "To find an element in the tree, we define a new AbstractBinaryTree class method called find. This method returns the element (if found in the tree) or None."
   ]
  },
  {
   "cell_type": "code",
   "execution_count": 15,
   "id": "7cad498b-e2b7-4f54-8f27-46236b8303a7",
   "metadata": {},
   "outputs": [],
   "source": [
    "def find(self, e, p=None):\n",
    "    if p is None:\n",
    "        p = self.root()\n",
    "    cur = p.element()\n",
    "    \n",
    "    if e < cur:\n",
    "        if self.left(p) is not None:\n",
    "            return self.find(e, self.left(p))\n",
    "    elif e == cur:\n",
    "        return e\n",
    "    else:\n",
    "        if self.right(p) is not None:\n",
    "            return self.find(e, tree.right(p))\n",
    "    return None\n",
    "\n",
    "AbstractBinaryTree.find = find"
   ]
  },
  {
   "cell_type": "code",
   "execution_count": 16,
   "id": "fd059cee-fd35-43ec-8edb-411abe530c48",
   "metadata": {},
   "outputs": [
    {
     "name": "stdout",
     "output_type": "stream",
     "text": [
      "adobe\n"
     ]
    }
   ],
   "source": [
    "print(tree.find(\"adobe\"))"
   ]
  },
  {
   "cell_type": "code",
   "execution_count": 17,
   "id": "48347a59-d088-4c57-bd96-38ac11b67b47",
   "metadata": {},
   "outputs": [
    {
     "name": "stdout",
     "output_type": "stream",
     "text": [
      "None\n"
     ]
    }
   ],
   "source": [
    "print(tree.find(\"aaaaa\"))"
   ]
  },
  {
   "cell_type": "markdown",
   "id": "6ad6a06e-21de-4347-b91a-8bfc69d5d85f",
   "metadata": {},
   "source": [
    "What if we wanted to print the wordle list in the original sorted order? We can use inorder traversal:"
   ]
  },
  {
   "cell_type": "code",
   "execution_count": 18,
   "id": "26063abf-53d3-4854-b539-b828106cb8d5",
   "metadata": {},
   "outputs": [],
   "source": [
    "def inorder(self):\n",
    "    if not self.is_empty():\n",
    "        for p in self._subtree_inorder(self.root()):\n",
    "            yield p\n",
    "\n",
    "def _subtree_inorder(self, p):\n",
    "    if self.left(p) is not None:\n",
    "        for other in self._subtree_inorder(self.left(p)):\n",
    "            yield other\n",
    "    yield p\n",
    "    if self.right(p) is not None:\n",
    "        for other in self._subtree_inorder(self.right(p)):\n",
    "            yield other\n",
    "\n",
    "AbstractBinaryTree._subtree_inorder = _subtree_inorder\n",
    "AbstractBinaryTree.inorder = inorder"
   ]
  },
  {
   "cell_type": "markdown",
   "id": "3ef59f09-c992-475b-93ac-c9163baa7eaa",
   "metadata": {},
   "source": [
    "<img src=\"https://janakj.org/w3132/images/inorder.png\"/>"
   ]
  },
  {
   "cell_type": "markdown",
   "id": "1c126771-687f-4ed8-92f6-ddee1411aa50",
   "metadata": {},
   "source": [
    "Print the beginning of the Wordle dictionary (first 20 words):"
   ]
  },
  {
   "cell_type": "code",
   "execution_count": 19,
   "id": "6658df86-8595-42fb-9734-67362e322e75",
   "metadata": {},
   "outputs": [
    {
     "name": "stdout",
     "output_type": "stream",
     "text": [
      "aback\n",
      "abase\n",
      "abate\n",
      "abbey\n",
      "abbot\n",
      "abhor\n",
      "abide\n",
      "abled\n",
      "abode\n",
      "abort\n",
      "about\n",
      "above\n",
      "abuse\n",
      "abyss\n",
      "acorn\n",
      "acrid\n",
      "actor\n",
      "acute\n",
      "adage\n",
      "adapt\n"
     ]
    }
   ],
   "source": [
    "i = 0\n",
    "for p in tree.inorder():\n",
    "    print(p.element())\n",
    "\n",
    "    i = i + 1\n",
    "    if i == 20:\n",
    "        break"
   ]
  },
  {
   "cell_type": "markdown",
   "id": "ded58034-f64c-476e-acff-c8e18fb85d72",
   "metadata": {},
   "source": [
    "### General Tree Iteration Methods"
   ]
  },
  {
   "cell_type": "markdown",
   "id": "c6402295-ea00-4288-9f4f-d8c776ab5c34",
   "metadata": {},
   "source": [
    "We can generalize the generator approach used in the inorder traversal methods and define a general method positions to iterate over all positions in a tree in *some* order. We will also define the special method \\_\\_iter\\_\\_ to iterate over the elements in the tree:"
   ]
  },
  {
   "cell_type": "code",
   "execution_count": 20,
   "id": "97268a0f-88cf-4073-ac51-b174c4b1ac23",
   "metadata": {},
   "outputs": [],
   "source": [
    "def positions(self):\n",
    "    'Generate an iteration of all positions of the tree'\n",
    "    raise NotImplemented('To be implemented')\n",
    "\n",
    "def __iter__(self):\n",
    "    'Generate an iteration of all elements stored within the tree'\n",
    "    for p in self.positions():\n",
    "        yield p.element()\n",
    "\n",
    "AbstractTree.positions = positions\n",
    "AbstractTree.__iter__ = __iter__"
   ]
  },
  {
   "cell_type": "markdown",
   "id": "ab0bbc48-16bb-4782-8e7e-283ae1da38f5",
   "metadata": {},
   "source": [
    "With the above two methods defined, one can traverse a tree as follows:"
   ]
  },
  {
   "cell_type": "code",
   "execution_count": null,
   "id": "36ba9c87-fb40-4309-88fb-590fd3ed36c7",
   "metadata": {},
   "outputs": [],
   "source": [
    "# for el in tree.positions():\n",
    "#     # perform some action\n",
    "#     pass"
   ]
  },
  {
   "cell_type": "markdown",
   "id": "97b92587-751a-46c0-a13b-4b9c03739abf",
   "metadata": {},
   "source": [
    "Next, we need to define the positions method to traverse the tree in some systematic way. We have seen this before: the inorder traversal method. In fact, the inorder traversal method is most useful on binary trees, so we can set it as the default position method on binary trees:"
   ]
  },
  {
   "cell_type": "code",
   "execution_count": 21,
   "id": "780cb9d1-ed02-47a3-94f2-55300fcaeda9",
   "metadata": {},
   "outputs": [],
   "source": [
    "AbstractBinaryTree.positions = AbstractBinaryTree.inorder"
   ]
  },
  {
   "cell_type": "code",
   "execution_count": 23,
   "id": "6e566c50-8d3b-4f05-a547-61ab747e9d66",
   "metadata": {},
   "outputs": [
    {
     "name": "stdout",
     "output_type": "stream",
     "text": [
      "aback\n",
      "abase\n",
      "abate\n",
      "abbey\n",
      "abbot\n",
      "abhor\n",
      "abide\n",
      "abled\n",
      "abode\n",
      "abort\n",
      "about\n",
      "above\n",
      "abuse\n",
      "abyss\n",
      "acorn\n",
      "acrid\n",
      "actor\n",
      "acute\n",
      "adage\n",
      "adapt\n"
     ]
    }
   ],
   "source": [
    "i = 0\n",
    "for e in tree:\n",
    "    print(e)\n",
    "\n",
    "    i = i + 1\n",
    "    if i == 20:\n",
    "        break"
   ]
  },
  {
   "cell_type": "markdown",
   "id": "c4752f93-0a50-427b-af34-241701bcd632",
   "metadata": {},
   "source": [
    "### Preorder Traversal"
   ]
  },
  {
   "cell_type": "code",
   "execution_count": 63,
   "id": "d328e26d-8153-422a-b920-0391f5eea507",
   "metadata": {},
   "outputs": [],
   "source": [
    "us = LinkedBinaryTree()\n",
    "us._add_root(\"United States\")\n",
    "\n",
    "ny = LinkedBinaryTree()\n",
    "ny._add_root(\"New York\")\n",
    "\n",
    "nj = LinkedBinaryTree()\n",
    "nj._add_root(\"New Jersey\")\n",
    "\n",
    "newark = LinkedBinaryTree()\n",
    "newark._add_root(\"Newark\")\n",
    "\n",
    "hoboken = LinkedBinaryTree()\n",
    "hoboken._add_root(\"Hoboken\")\n",
    "\n",
    "nyc = LinkedBinaryTree()\n",
    "nyc._add_root(\"New York City\")\n",
    "\n",
    "albany = LinkedBinaryTree()\n",
    "albany._add_root(\"Albany\")\n",
    "\n",
    "nj._attach(nj.root(), newark, hoboken)\n",
    "ny._attach(ny.root(), nyc, albany)\n",
    "us._attach(us.root(), ny, nj)"
   ]
  },
  {
   "cell_type": "code",
   "execution_count": 64,
   "id": "d2f9cb49-8167-4064-9f35-2245721e417d",
   "metadata": {},
   "outputs": [],
   "source": [
    "def preorder(self):\n",
    "    if not self.is_empty():\n",
    "        for p in self._subtree_preorder(self.root()):\n",
    "            yield p\n",
    "\n",
    "def _subtree_preorder(self, p):\n",
    "    yield p\n",
    "    for c in self.children(p):\n",
    "        for other in self._subtree_preorder(c):\n",
    "            yield other\n",
    "\n",
    "AbstractTree.preorder = preorder\n",
    "AbstractTree._subtree_preorder = _subtree_preorder"
   ]
  },
  {
   "cell_type": "markdown",
   "id": "36c3cb40-ce8b-47f5-8282-7d9436a41ebb",
   "metadata": {},
   "source": [
    "<img src=\"https://janakj.org/w3132/images/preorder.png\"/>"
   ]
  },
  {
   "cell_type": "code",
   "execution_count": 72,
   "id": "76839e5b-2467-4de3-9b8a-39fed80d169f",
   "metadata": {},
   "outputs": [
    {
     "name": "stdout",
     "output_type": "stream",
     "text": [
      "1 United States\n",
      "1.1 New York\n",
      "1.1.1 New York City\n",
      "1.1.2 Albany\n",
      "1.2 New Jersey\n",
      "1.2.1 Newark\n",
      "1.2.2 Hoboken\n"
     ]
    }
   ],
   "source": [
    "section_number = [0]\n",
    "for p in us.preorder():\n",
    "    i = us.depth(p)\n",
    "    if i >= len(section_number):\n",
    "        section_number.append(0)\n",
    "    else:\n",
    "        section_number = section_number[:i+1]\n",
    "    section_number[i] += 1\n",
    "\n",
    "    print(f'{\".\".join(map(str, section_number))} {p.element()}')"
   ]
  },
  {
   "cell_type": "markdown",
   "id": "92ac5fb6-86f3-43b0-9a8a-7241b7519039",
   "metadata": {},
   "source": [
    "### Postorder Traversal"
   ]
  },
  {
   "cell_type": "code",
   "execution_count": 41,
   "id": "879f5279-52dc-4ed4-bf34-fa7bfc5621b6",
   "metadata": {},
   "outputs": [],
   "source": [
    "# ((3+1)*4)/((9-5)+2)\n",
    "\n",
    "exp = LinkedBinaryTree()\n",
    "exp._add_root(\"/\")\n",
    "\n",
    "t1 = LinkedBinaryTree()\n",
    "t1._add_root(\"+\")\n",
    "t1._add_left(t1.root(), 3)\n",
    "t1._add_right(t1.root(), 1)\n",
    "\n",
    "t2 = LinkedBinaryTree()\n",
    "t2._add_root(4)\n",
    "\n",
    "t3 = LinkedBinaryTree()\n",
    "t3._add_root(\"*\")\n",
    "t3._attach(t3.root(), t1, t2)\n",
    "\n",
    "t4 = LinkedBinaryTree()\n",
    "t4._add_root(\"-\")\n",
    "t4._add_left(t4.root(), 9)\n",
    "t4._add_right(t4.root(), 5)\n",
    "\n",
    "t5 = LinkedBinaryTree()\n",
    "t5._add_root(2)\n",
    "\n",
    "t6 = LinkedBinaryTree()\n",
    "t6._add_root(\"+\")\n",
    "t6._attach(t6.root(), t4, t5)\n",
    "\n",
    "exp._attach(exp.root(), t3, t6)"
   ]
  },
  {
   "cell_type": "code",
   "execution_count": 44,
   "id": "9881fce1-1709-47d9-8cb3-7005c3c7451e",
   "metadata": {},
   "outputs": [],
   "source": [
    "def evaluate(self):\n",
    "    return self._evaluate_subtree(self.root())\n",
    "\n",
    "def _evaluate_subtree(self, p):\n",
    "    if self.is_leaf(p):\n",
    "        return int(p.element())\n",
    "    else:\n",
    "        op = p.element()\n",
    "        left_val = self._evaluate_subtree(self.left(p))\n",
    "        right_val = self._evaluate_subtree(self.right(p))\n",
    "        if op == '+':\n",
    "            return left_val + right_val\n",
    "        elif op == '-':\n",
    "            return left_val - right_val\n",
    "        elif op == '/':\n",
    "            return left_val / right_val\n",
    "        elif op == '*':\n",
    "            return left_val * right_val\n",
    "        else:\n",
    "            raise Exception(f'Unsupported operation {op}')\n",
    "\n",
    "AbstractBinaryTree.evaluate = evaluate\n",
    "AbstractBinaryTree._evaluate_subtree = _evaluate_subtree"
   ]
  },
  {
   "cell_type": "code",
   "execution_count": 45,
   "id": "8971a09c-3a6e-4023-bd4e-ebc6795908a3",
   "metadata": {},
   "outputs": [
    {
     "name": "stdout",
     "output_type": "stream",
     "text": [
      "2.6666666666666665\n"
     ]
    }
   ],
   "source": [
    "print(exp.evaluate())"
   ]
  },
  {
   "cell_type": "code",
   "execution_count": 46,
   "id": "242edadf-da6e-4c3b-b97a-327944d21b30",
   "metadata": {},
   "outputs": [
    {
     "data": {
      "text/plain": [
       "2.6666666666666665"
      ]
     },
     "execution_count": 46,
     "metadata": {},
     "output_type": "execute_result"
    }
   ],
   "source": [
    "((3+1)*4)/((9-5)+2)"
   ]
  },
  {
   "cell_type": "markdown",
   "id": "94e864d4-ba9b-443d-84ca-869a23d14482",
   "metadata": {},
   "source": [
    "Generalizing to postorder tree traversal:"
   ]
  },
  {
   "cell_type": "code",
   "execution_count": 25,
   "id": "83b89fef-ad07-48eb-aefc-44a5d8407ef3",
   "metadata": {},
   "outputs": [],
   "source": [
    "def postorder(self):\n",
    "    if not self.is_empty():\n",
    "        for p in self._subtree_postorder(self.root()):\n",
    "            yield p\n",
    "\n",
    "def _subtree_postorder(self, p):\n",
    "    for c in self.children(p):\n",
    "        for other in self._subtree_postorder(c):\n",
    "            yield other\n",
    "    yield p\n",
    "\n",
    "AbstractTree.postorder = postorder\n",
    "AbstractTree._subtree_postorder = _subtree_postorder"
   ]
  },
  {
   "cell_type": "markdown",
   "id": "e8f06b91-830c-4d94-ad59-b57d8927518b",
   "metadata": {},
   "source": [
    "<img src=\"https://janakj.org/w3132/images/postorder.png\"/>"
   ]
  },
  {
   "cell_type": "markdown",
   "id": "51b5d7d3-f6fd-45e9-8764-e9ee1d13a125",
   "metadata": {},
   "source": [
    "### Bread-First Traversal"
   ]
  },
  {
   "cell_type": "code",
   "execution_count": 26,
   "id": "4558573b-0abf-494f-83bc-359e80296d5d",
   "metadata": {},
   "outputs": [],
   "source": [
    "# This is a copy of the ArrayQueue class from one of the previous lectures\n",
    "\n",
    "class ArrayQueue:\n",
    "    'A queue backed with a built-in Python list'\n",
    "\n",
    "    def __init__(self):\n",
    "        'Creates an empty ArrayQueue instance'        \n",
    "        self._data = list()\n",
    "    \n",
    "    def enqueue(self, e):\n",
    "        'Enqueue element at the back of the queue'\n",
    "        self._data.append(e)\n",
    "\n",
    "    def dequeue(self):\n",
    "        '''Dequeue the element from the front of the queue\n",
    "\n",
    "        Raise an exception if the queue is empty\n",
    "        '''\n",
    "        if len(self._data) == 0:\n",
    "            raise Empty('The queue is empty')\n",
    "\n",
    "        return self._data.pop(0)\n",
    "    \n",
    "    def front(self):\n",
    "        '''Return a reference to the element at the front\n",
    "\n",
    "        Raise an exception if the queue is empty\n",
    "        '''\n",
    "        if len(self._data) == 0:\n",
    "            raise Empty('The queue is empty')\n",
    "        \n",
    "        return self._data[0]\n",
    "\n",
    "    def is_empty(self):\n",
    "        'Return true if the queue is empty'\n",
    "        return len(self._data) == 0\n",
    "\n",
    "    def __len__(self):\n",
    "        'Return the length of the queue'\n",
    "        return len(self._data)"
   ]
  },
  {
   "cell_type": "code",
   "execution_count": 28,
   "id": "623accb3-0933-437d-a865-39279d467e11",
   "metadata": {},
   "outputs": [],
   "source": [
    "def breadth_first(self):\n",
    "    if not self.is_empty():\n",
    "        fringe = ArrayQueue()\n",
    "        fringe.enqueue(self.root())\n",
    "        while not fringe.is_empty():\n",
    "            p = fringe.dequeue()\n",
    "            yield p\n",
    "            for c in self.children(p):\n",
    "                fringe.enqueue(c)\n",
    "\n",
    "AbstractTree.breadth_first = breadth_first"
   ]
  },
  {
   "cell_type": "markdown",
   "id": "9a400c5b-fc75-4991-9f65-88697d6647f3",
   "metadata": {},
   "source": [
    "<img src=\"https://janakj.org/w3132/images/breadthfirst.png\"/>"
   ]
  },
  {
   "cell_type": "code",
   "execution_count": 33,
   "id": "70e5bef7-1217-4fe2-851e-8f0ae81cd7fd",
   "metadata": {},
   "outputs": [
    {
     "name": "stdout",
     "output_type": "stream",
     "text": [
      "b \n",
      "a c \n",
      "a1 a2 c1 c2 "
     ]
    }
   ],
   "source": [
    "tree = LinkedBinaryTree()\n",
    "b = tree._add_root(\"b\")\n",
    "a = tree._add_left(tree.root(), \"a\")\n",
    "c = tree._add_right(tree.root(), \"c\")\n",
    "\n",
    "tree._add_left(a, \"a1\")\n",
    "tree._add_right(a, \"a2\")\n",
    "\n",
    "tree._add_left(c, \"c1\")\n",
    "tree._add_right(c, \"c2\")\n",
    "\n",
    "last = 0\n",
    "for p in tree.breadth_first():\n",
    "    if tree.depth(p) != last:\n",
    "        last = tree.depth(p)\n",
    "        print()\n",
    "    print(f'{p.element()} ', end='')"
   ]
  }
 ],
 "metadata": {
  "kernelspec": {
   "display_name": "Python 3 (ipykernel)",
   "language": "python",
   "name": "python3"
  },
  "language_info": {
   "codemirror_mode": {
    "name": "ipython",
    "version": 3
   },
   "file_extension": ".py",
   "mimetype": "text/x-python",
   "name": "python",
   "nbconvert_exporter": "python",
   "pygments_lexer": "ipython3",
   "version": "3.12.2"
  }
 },
 "nbformat": 4,
 "nbformat_minor": 5
}
